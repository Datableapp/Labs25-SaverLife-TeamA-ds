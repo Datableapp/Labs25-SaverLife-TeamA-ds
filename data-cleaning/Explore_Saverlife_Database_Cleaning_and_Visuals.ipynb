{
 "cells": [
  {
   "cell_type": "markdown",
   "metadata": {
    "colab_type": "text",
    "id": "MarzTAHEtkE-"
   },
   "source": [
    "# Load Data"
   ]
  },
  {
   "cell_type": "code",
   "execution_count": 1,
   "metadata": {
    "colab": {},
    "colab_type": "code",
    "id": "s-4rbBJBvO9e"
   },
   "outputs": [],
   "source": [
    "import pandas as pd"
   ]
  },
  {
   "cell_type": "code",
   "execution_count": 2,
   "metadata": {
    "colab": {},
    "colab_type": "code",
    "id": "9xPH0sJgvuyv"
   },
   "outputs": [],
   "source": [
    "def convert_to_datetime(df, columns=[]):\n",
    "  for col in columns:\n",
    "    df[col] = pd.to_datetime(df[col], infer_datetime_format=True)"
   ]
  },
  {
   "cell_type": "code",
   "execution_count": 3,
   "metadata": {
    "colab": {},
    "colab_type": "code",
    "id": "Cvbi_ybTYpR3"
   },
   "outputs": [
    {
     "ename": "HTTPError",
     "evalue": "HTTP Error 404: Not Found",
     "output_type": "error",
     "traceback": [
      "\u001b[0;31m---------------------------------------------------------------------------\u001b[0m",
      "\u001b[0;31mHTTPError\u001b[0m                                 Traceback (most recent call last)",
      "\u001b[0;32m<ipython-input-3-6f7f43dad68c>\u001b[0m in \u001b[0;36m<module>\u001b[0;34m\u001b[0m\n\u001b[0;32m----> 1\u001b[0;31m \u001b[0mcategory_lookups\u001b[0m \u001b[0;34m=\u001b[0m \u001b[0mpd\u001b[0m\u001b[0;34m.\u001b[0m\u001b[0mread_csv\u001b[0m\u001b[0;34m(\u001b[0m\u001b[0;34m'https://raw.githubusercontent.com/KyleTy1er/dsaverlife_restricted/master/Category%20Lookups.csv?token=AM3U74VVG6EPHFXCKR4XEKS7HMJPM'\u001b[0m\u001b[0;34m)\u001b[0m\u001b[0;34m\u001b[0m\u001b[0;34m\u001b[0m\u001b[0m\n\u001b[0m",
      "\u001b[0;32m~/anaconda3/lib/python3.7/site-packages/pandas/io/parsers.py\u001b[0m in \u001b[0;36mparser_f\u001b[0;34m(filepath_or_buffer, sep, delimiter, header, names, index_col, usecols, squeeze, prefix, mangle_dupe_cols, dtype, engine, converters, true_values, false_values, skipinitialspace, skiprows, skipfooter, nrows, na_values, keep_default_na, na_filter, verbose, skip_blank_lines, parse_dates, infer_datetime_format, keep_date_col, date_parser, dayfirst, iterator, chunksize, compression, thousands, decimal, lineterminator, quotechar, quoting, doublequote, escapechar, comment, encoding, dialect, tupleize_cols, error_bad_lines, warn_bad_lines, delim_whitespace, low_memory, memory_map, float_precision)\u001b[0m\n\u001b[1;32m    700\u001b[0m                     skip_blank_lines=skip_blank_lines)\n\u001b[1;32m    701\u001b[0m \u001b[0;34m\u001b[0m\u001b[0m\n\u001b[0;32m--> 702\u001b[0;31m         \u001b[0;32mreturn\u001b[0m \u001b[0m_read\u001b[0m\u001b[0;34m(\u001b[0m\u001b[0mfilepath_or_buffer\u001b[0m\u001b[0;34m,\u001b[0m \u001b[0mkwds\u001b[0m\u001b[0;34m)\u001b[0m\u001b[0;34m\u001b[0m\u001b[0;34m\u001b[0m\u001b[0m\n\u001b[0m\u001b[1;32m    703\u001b[0m \u001b[0;34m\u001b[0m\u001b[0m\n\u001b[1;32m    704\u001b[0m     \u001b[0mparser_f\u001b[0m\u001b[0;34m.\u001b[0m\u001b[0m__name__\u001b[0m \u001b[0;34m=\u001b[0m \u001b[0mname\u001b[0m\u001b[0;34m\u001b[0m\u001b[0;34m\u001b[0m\u001b[0m\n",
      "\u001b[0;32m~/anaconda3/lib/python3.7/site-packages/pandas/io/parsers.py\u001b[0m in \u001b[0;36m_read\u001b[0;34m(filepath_or_buffer, kwds)\u001b[0m\n\u001b[1;32m    411\u001b[0m     \u001b[0mcompression\u001b[0m \u001b[0;34m=\u001b[0m \u001b[0m_infer_compression\u001b[0m\u001b[0;34m(\u001b[0m\u001b[0mfilepath_or_buffer\u001b[0m\u001b[0;34m,\u001b[0m \u001b[0mcompression\u001b[0m\u001b[0;34m)\u001b[0m\u001b[0;34m\u001b[0m\u001b[0;34m\u001b[0m\u001b[0m\n\u001b[1;32m    412\u001b[0m     filepath_or_buffer, _, compression, should_close = get_filepath_or_buffer(\n\u001b[0;32m--> 413\u001b[0;31m         filepath_or_buffer, encoding, compression)\n\u001b[0m\u001b[1;32m    414\u001b[0m     \u001b[0mkwds\u001b[0m\u001b[0;34m[\u001b[0m\u001b[0;34m'compression'\u001b[0m\u001b[0;34m]\u001b[0m \u001b[0;34m=\u001b[0m \u001b[0mcompression\u001b[0m\u001b[0;34m\u001b[0m\u001b[0;34m\u001b[0m\u001b[0m\n\u001b[1;32m    415\u001b[0m \u001b[0;34m\u001b[0m\u001b[0m\n",
      "\u001b[0;32m~/anaconda3/lib/python3.7/site-packages/pandas/io/common.py\u001b[0m in \u001b[0;36mget_filepath_or_buffer\u001b[0;34m(filepath_or_buffer, encoding, compression, mode)\u001b[0m\n\u001b[1;32m    200\u001b[0m \u001b[0;34m\u001b[0m\u001b[0m\n\u001b[1;32m    201\u001b[0m     \u001b[0;32mif\u001b[0m \u001b[0m_is_url\u001b[0m\u001b[0;34m(\u001b[0m\u001b[0mfilepath_or_buffer\u001b[0m\u001b[0;34m)\u001b[0m\u001b[0;34m:\u001b[0m\u001b[0;34m\u001b[0m\u001b[0;34m\u001b[0m\u001b[0m\n\u001b[0;32m--> 202\u001b[0;31m         \u001b[0mreq\u001b[0m \u001b[0;34m=\u001b[0m \u001b[0m_urlopen\u001b[0m\u001b[0;34m(\u001b[0m\u001b[0mfilepath_or_buffer\u001b[0m\u001b[0;34m)\u001b[0m\u001b[0;34m\u001b[0m\u001b[0;34m\u001b[0m\u001b[0m\n\u001b[0m\u001b[1;32m    203\u001b[0m         \u001b[0mcontent_encoding\u001b[0m \u001b[0;34m=\u001b[0m \u001b[0mreq\u001b[0m\u001b[0;34m.\u001b[0m\u001b[0mheaders\u001b[0m\u001b[0;34m.\u001b[0m\u001b[0mget\u001b[0m\u001b[0;34m(\u001b[0m\u001b[0;34m'Content-Encoding'\u001b[0m\u001b[0;34m,\u001b[0m \u001b[0;32mNone\u001b[0m\u001b[0;34m)\u001b[0m\u001b[0;34m\u001b[0m\u001b[0;34m\u001b[0m\u001b[0m\n\u001b[1;32m    204\u001b[0m         \u001b[0;32mif\u001b[0m \u001b[0mcontent_encoding\u001b[0m \u001b[0;34m==\u001b[0m \u001b[0;34m'gzip'\u001b[0m\u001b[0;34m:\u001b[0m\u001b[0;34m\u001b[0m\u001b[0;34m\u001b[0m\u001b[0m\n",
      "\u001b[0;32m~/anaconda3/lib/python3.7/urllib/request.py\u001b[0m in \u001b[0;36murlopen\u001b[0;34m(url, data, timeout, cafile, capath, cadefault, context)\u001b[0m\n\u001b[1;32m    220\u001b[0m     \u001b[0;32melse\u001b[0m\u001b[0;34m:\u001b[0m\u001b[0;34m\u001b[0m\u001b[0;34m\u001b[0m\u001b[0m\n\u001b[1;32m    221\u001b[0m         \u001b[0mopener\u001b[0m \u001b[0;34m=\u001b[0m \u001b[0m_opener\u001b[0m\u001b[0;34m\u001b[0m\u001b[0;34m\u001b[0m\u001b[0m\n\u001b[0;32m--> 222\u001b[0;31m     \u001b[0;32mreturn\u001b[0m \u001b[0mopener\u001b[0m\u001b[0;34m.\u001b[0m\u001b[0mopen\u001b[0m\u001b[0;34m(\u001b[0m\u001b[0murl\u001b[0m\u001b[0;34m,\u001b[0m \u001b[0mdata\u001b[0m\u001b[0;34m,\u001b[0m \u001b[0mtimeout\u001b[0m\u001b[0;34m)\u001b[0m\u001b[0;34m\u001b[0m\u001b[0;34m\u001b[0m\u001b[0m\n\u001b[0m\u001b[1;32m    223\u001b[0m \u001b[0;34m\u001b[0m\u001b[0m\n\u001b[1;32m    224\u001b[0m \u001b[0;32mdef\u001b[0m \u001b[0minstall_opener\u001b[0m\u001b[0;34m(\u001b[0m\u001b[0mopener\u001b[0m\u001b[0;34m)\u001b[0m\u001b[0;34m:\u001b[0m\u001b[0;34m\u001b[0m\u001b[0;34m\u001b[0m\u001b[0m\n",
      "\u001b[0;32m~/anaconda3/lib/python3.7/urllib/request.py\u001b[0m in \u001b[0;36mopen\u001b[0;34m(self, fullurl, data, timeout)\u001b[0m\n\u001b[1;32m    529\u001b[0m         \u001b[0;32mfor\u001b[0m \u001b[0mprocessor\u001b[0m \u001b[0;32min\u001b[0m \u001b[0mself\u001b[0m\u001b[0;34m.\u001b[0m\u001b[0mprocess_response\u001b[0m\u001b[0;34m.\u001b[0m\u001b[0mget\u001b[0m\u001b[0;34m(\u001b[0m\u001b[0mprotocol\u001b[0m\u001b[0;34m,\u001b[0m \u001b[0;34m[\u001b[0m\u001b[0;34m]\u001b[0m\u001b[0;34m)\u001b[0m\u001b[0;34m:\u001b[0m\u001b[0;34m\u001b[0m\u001b[0;34m\u001b[0m\u001b[0m\n\u001b[1;32m    530\u001b[0m             \u001b[0mmeth\u001b[0m \u001b[0;34m=\u001b[0m \u001b[0mgetattr\u001b[0m\u001b[0;34m(\u001b[0m\u001b[0mprocessor\u001b[0m\u001b[0;34m,\u001b[0m \u001b[0mmeth_name\u001b[0m\u001b[0;34m)\u001b[0m\u001b[0;34m\u001b[0m\u001b[0;34m\u001b[0m\u001b[0m\n\u001b[0;32m--> 531\u001b[0;31m             \u001b[0mresponse\u001b[0m \u001b[0;34m=\u001b[0m \u001b[0mmeth\u001b[0m\u001b[0;34m(\u001b[0m\u001b[0mreq\u001b[0m\u001b[0;34m,\u001b[0m \u001b[0mresponse\u001b[0m\u001b[0;34m)\u001b[0m\u001b[0;34m\u001b[0m\u001b[0;34m\u001b[0m\u001b[0m\n\u001b[0m\u001b[1;32m    532\u001b[0m \u001b[0;34m\u001b[0m\u001b[0m\n\u001b[1;32m    533\u001b[0m         \u001b[0;32mreturn\u001b[0m \u001b[0mresponse\u001b[0m\u001b[0;34m\u001b[0m\u001b[0;34m\u001b[0m\u001b[0m\n",
      "\u001b[0;32m~/anaconda3/lib/python3.7/urllib/request.py\u001b[0m in \u001b[0;36mhttp_response\u001b[0;34m(self, request, response)\u001b[0m\n\u001b[1;32m    639\u001b[0m         \u001b[0;32mif\u001b[0m \u001b[0;32mnot\u001b[0m \u001b[0;34m(\u001b[0m\u001b[0;36m200\u001b[0m \u001b[0;34m<=\u001b[0m \u001b[0mcode\u001b[0m \u001b[0;34m<\u001b[0m \u001b[0;36m300\u001b[0m\u001b[0;34m)\u001b[0m\u001b[0;34m:\u001b[0m\u001b[0;34m\u001b[0m\u001b[0;34m\u001b[0m\u001b[0m\n\u001b[1;32m    640\u001b[0m             response = self.parent.error(\n\u001b[0;32m--> 641\u001b[0;31m                 'http', request, response, code, msg, hdrs)\n\u001b[0m\u001b[1;32m    642\u001b[0m \u001b[0;34m\u001b[0m\u001b[0m\n\u001b[1;32m    643\u001b[0m         \u001b[0;32mreturn\u001b[0m \u001b[0mresponse\u001b[0m\u001b[0;34m\u001b[0m\u001b[0;34m\u001b[0m\u001b[0m\n",
      "\u001b[0;32m~/anaconda3/lib/python3.7/urllib/request.py\u001b[0m in \u001b[0;36merror\u001b[0;34m(self, proto, *args)\u001b[0m\n\u001b[1;32m    567\u001b[0m         \u001b[0;32mif\u001b[0m \u001b[0mhttp_err\u001b[0m\u001b[0;34m:\u001b[0m\u001b[0;34m\u001b[0m\u001b[0;34m\u001b[0m\u001b[0m\n\u001b[1;32m    568\u001b[0m             \u001b[0margs\u001b[0m \u001b[0;34m=\u001b[0m \u001b[0;34m(\u001b[0m\u001b[0mdict\u001b[0m\u001b[0;34m,\u001b[0m \u001b[0;34m'default'\u001b[0m\u001b[0;34m,\u001b[0m \u001b[0;34m'http_error_default'\u001b[0m\u001b[0;34m)\u001b[0m \u001b[0;34m+\u001b[0m \u001b[0morig_args\u001b[0m\u001b[0;34m\u001b[0m\u001b[0;34m\u001b[0m\u001b[0m\n\u001b[0;32m--> 569\u001b[0;31m             \u001b[0;32mreturn\u001b[0m \u001b[0mself\u001b[0m\u001b[0;34m.\u001b[0m\u001b[0m_call_chain\u001b[0m\u001b[0;34m(\u001b[0m\u001b[0;34m*\u001b[0m\u001b[0margs\u001b[0m\u001b[0;34m)\u001b[0m\u001b[0;34m\u001b[0m\u001b[0;34m\u001b[0m\u001b[0m\n\u001b[0m\u001b[1;32m    570\u001b[0m \u001b[0;34m\u001b[0m\u001b[0m\n\u001b[1;32m    571\u001b[0m \u001b[0;31m# XXX probably also want an abstract factory that knows when it makes\u001b[0m\u001b[0;34m\u001b[0m\u001b[0;34m\u001b[0m\u001b[0;34m\u001b[0m\u001b[0m\n",
      "\u001b[0;32m~/anaconda3/lib/python3.7/urllib/request.py\u001b[0m in \u001b[0;36m_call_chain\u001b[0;34m(self, chain, kind, meth_name, *args)\u001b[0m\n\u001b[1;32m    501\u001b[0m         \u001b[0;32mfor\u001b[0m \u001b[0mhandler\u001b[0m \u001b[0;32min\u001b[0m \u001b[0mhandlers\u001b[0m\u001b[0;34m:\u001b[0m\u001b[0;34m\u001b[0m\u001b[0;34m\u001b[0m\u001b[0m\n\u001b[1;32m    502\u001b[0m             \u001b[0mfunc\u001b[0m \u001b[0;34m=\u001b[0m \u001b[0mgetattr\u001b[0m\u001b[0;34m(\u001b[0m\u001b[0mhandler\u001b[0m\u001b[0;34m,\u001b[0m \u001b[0mmeth_name\u001b[0m\u001b[0;34m)\u001b[0m\u001b[0;34m\u001b[0m\u001b[0;34m\u001b[0m\u001b[0m\n\u001b[0;32m--> 503\u001b[0;31m             \u001b[0mresult\u001b[0m \u001b[0;34m=\u001b[0m \u001b[0mfunc\u001b[0m\u001b[0;34m(\u001b[0m\u001b[0;34m*\u001b[0m\u001b[0margs\u001b[0m\u001b[0;34m)\u001b[0m\u001b[0;34m\u001b[0m\u001b[0;34m\u001b[0m\u001b[0m\n\u001b[0m\u001b[1;32m    504\u001b[0m             \u001b[0;32mif\u001b[0m \u001b[0mresult\u001b[0m \u001b[0;32mis\u001b[0m \u001b[0;32mnot\u001b[0m \u001b[0;32mNone\u001b[0m\u001b[0;34m:\u001b[0m\u001b[0;34m\u001b[0m\u001b[0;34m\u001b[0m\u001b[0m\n\u001b[1;32m    505\u001b[0m                 \u001b[0;32mreturn\u001b[0m \u001b[0mresult\u001b[0m\u001b[0;34m\u001b[0m\u001b[0;34m\u001b[0m\u001b[0m\n",
      "\u001b[0;32m~/anaconda3/lib/python3.7/urllib/request.py\u001b[0m in \u001b[0;36mhttp_error_default\u001b[0;34m(self, req, fp, code, msg, hdrs)\u001b[0m\n\u001b[1;32m    647\u001b[0m \u001b[0;32mclass\u001b[0m \u001b[0mHTTPDefaultErrorHandler\u001b[0m\u001b[0;34m(\u001b[0m\u001b[0mBaseHandler\u001b[0m\u001b[0;34m)\u001b[0m\u001b[0;34m:\u001b[0m\u001b[0;34m\u001b[0m\u001b[0;34m\u001b[0m\u001b[0m\n\u001b[1;32m    648\u001b[0m     \u001b[0;32mdef\u001b[0m \u001b[0mhttp_error_default\u001b[0m\u001b[0;34m(\u001b[0m\u001b[0mself\u001b[0m\u001b[0;34m,\u001b[0m \u001b[0mreq\u001b[0m\u001b[0;34m,\u001b[0m \u001b[0mfp\u001b[0m\u001b[0;34m,\u001b[0m \u001b[0mcode\u001b[0m\u001b[0;34m,\u001b[0m \u001b[0mmsg\u001b[0m\u001b[0;34m,\u001b[0m \u001b[0mhdrs\u001b[0m\u001b[0;34m)\u001b[0m\u001b[0;34m:\u001b[0m\u001b[0;34m\u001b[0m\u001b[0;34m\u001b[0m\u001b[0m\n\u001b[0;32m--> 649\u001b[0;31m         \u001b[0;32mraise\u001b[0m \u001b[0mHTTPError\u001b[0m\u001b[0;34m(\u001b[0m\u001b[0mreq\u001b[0m\u001b[0;34m.\u001b[0m\u001b[0mfull_url\u001b[0m\u001b[0;34m,\u001b[0m \u001b[0mcode\u001b[0m\u001b[0;34m,\u001b[0m \u001b[0mmsg\u001b[0m\u001b[0;34m,\u001b[0m \u001b[0mhdrs\u001b[0m\u001b[0;34m,\u001b[0m \u001b[0mfp\u001b[0m\u001b[0;34m)\u001b[0m\u001b[0;34m\u001b[0m\u001b[0;34m\u001b[0m\u001b[0m\n\u001b[0m\u001b[1;32m    650\u001b[0m \u001b[0;34m\u001b[0m\u001b[0m\n\u001b[1;32m    651\u001b[0m \u001b[0;32mclass\u001b[0m \u001b[0mHTTPRedirectHandler\u001b[0m\u001b[0;34m(\u001b[0m\u001b[0mBaseHandler\u001b[0m\u001b[0;34m)\u001b[0m\u001b[0;34m:\u001b[0m\u001b[0;34m\u001b[0m\u001b[0;34m\u001b[0m\u001b[0m\n",
      "\u001b[0;31mHTTPError\u001b[0m: HTTP Error 404: Not Found"
     ]
    }
   ],
   "source": [
    "category_lookups = pd.read_csv('https://raw.githubusercontent.com/KyleTy1er/dsaverlife_restricted/master/Category%20Lookups.csv?token=AM3U74VVG6EPHFXCKR4XEKS7HMJPM')"
   ]
  },
  {
   "cell_type": "code",
   "execution_count": null,
   "metadata": {
    "colab": {},
    "colab_type": "code",
    "id": "pAZ4mcGRtjAQ"
   },
   "outputs": [],
   "source": [
    "dfPFA = pd.read_csv('https://raw.githubusercontent.com/KyleTy1er/dsaverlife_restricted/master/PFA_BA_PMT_Table_examples1.csv?token=AM3U74TIWUFMHLGT5PUOX427HVQOO')\n",
    "dfPFA['created_at'] = pd.to_datetime(dfPFA['created_at'], infer_datetime_format=True)\n",
    "dfPFA['updated_at'] = pd.to_datetime(dfPFA['created_at'], infer_datetime_format=True)\n",
    "dfPFA['last_status_update_at'] = pd.to_datetime(dfPFA['created_at'], infer_datetime_format=True)\n",
    "\n",
    "dfPFA = dfPFA.dropna(thresh=600 , axis=1)"
   ]
  },
  {
   "cell_type": "code",
   "execution_count": null,
   "metadata": {
    "colab": {},
    "colab_type": "code",
    "id": "dPVeZLEqtm-7"
   },
   "outputs": [],
   "source": [
    "# load data \n",
    "dfBA = pd.read_csv('https://raw.githubusercontent.com/KyleTy1er/dsaverlife_restricted/master/PFA_BA_PMT_Table_examples2.csv?token=AM3U74RJKDWGSDIVHOXZDQ27HVQ72')\n",
    "\n",
    "# change date columns to datetime\n",
    "dfBA['created_at'] = pd.to_datetime(dfBA['created_at'], infer_datetime_format=True)\n",
    "dfBA['updated_at'] = pd.to_datetime(dfBA['created_at'], infer_datetime_format=True)\n",
    "dfBA['last_balance_update_at'] = pd.to_datetime(dfBA['created_at'], infer_datetime_format=True)\n",
    "\n",
    "# drop na columns\n",
    "dfBA_delete = ['official_name', 'last_balance_update_at', 'atlas_id', 'atlas_parent_id', 'rewards_basis']\n",
    "dfBA = dfBA.drop(columns=dfBA_delete)"
   ]
  },
  {
   "cell_type": "code",
   "execution_count": null,
   "metadata": {
    "colab": {},
    "colab_type": "code",
    "id": "pwcqouzlu7Wt"
   },
   "outputs": [],
   "source": [
    "dfPMT = pd.read_csv('https://raw.githubusercontent.com/KyleTy1er/dsaverlife_restricted/master/PFA_BA_PMT_Table_examples3.csv?token=AM3U74R4QWFKNPAWDQFJMWS7HVRGM')\n",
    "dfPMT['date'] = pd.to_datetime(dfPMT['created_at'], infer_datetime_format=True)\n",
    "dfPMT['updated_at'] = pd.to_datetime(dfPMT['created_at'], infer_datetime_format=True)\n",
    "dfPMT['created_at'] = pd.to_datetime(dfPMT['created_at'], infer_datetime_format=True)\n",
    "\n",
    "dfPMT = dfPMT.dropna(thresh=600 , axis=1)"
   ]
  },
  {
   "cell_type": "markdown",
   "metadata": {
    "colab_type": "text",
    "id": "0NjA9vkLtnvk"
   },
   "source": [
    "# Explore Data"
   ]
  },
  {
   "cell_type": "code",
   "execution_count": null,
   "metadata": {
    "colab": {},
    "colab_type": "code",
    "id": "ABWOAy6ajkVW"
   },
   "outputs": [],
   "source": [
    "#Install Pandas Profiling\n",
    "%%capture\n",
    "import sys\n",
    "if 'google.colab' in sys.modules:\n",
    "    # Install packages in Colab\n",
    "    !pip install pandas-profiling==2.*"
   ]
  },
  {
   "cell_type": "code",
   "execution_count": null,
   "metadata": {
    "colab": {},
    "colab_type": "code",
    "id": "QRpPNCpijuNk"
   },
   "outputs": [],
   "source": [
    "\n",
    "# get profile of our data set\n",
    "df = dfBA\n",
    "from pandas_profiling import ProfileReport\n",
    "profile = ProfileReport(df, minimal=True).to_notebook_iframe()\n",
    "profile"
   ]
  },
  {
   "cell_type": "code",
   "execution_count": null,
   "metadata": {
    "colab": {
     "base_uri": "https://localhost:8080/",
     "height": 35
    },
    "colab_type": "code",
    "id": "_29rK2yfkOaW",
    "outputId": "47d5a4ad-6218-40b3-be7e-e453d8fdecf2"
   },
   "outputs": [
    {
     "data": {
      "application/vnd.google.colaboratory.intrinsic+json": {
       "type": "string"
      },
      "text/plain": [
       "'\\nitem_id = 22\\nuser_id = 22\\n'"
      ]
     },
     "execution_count": 77,
     "metadata": {
      "tags": []
     },
     "output_type": "execute_result"
    }
   ],
   "source": [
    "# dfPMT\n",
    "'''\n",
    "plaid_account_id = 22\n",
    "bank_account_id = 22\n",
    "'''\n",
    "#dfBA\n",
    "'''\n",
    "id = 22\n",
    "plaid_account_id = 22\n",
    "'''\n",
    "#dfPFA\n",
    "'''\n",
    "item_id = 22\n",
    "user_id = 22\n",
    "'''"
   ]
  },
  {
   "cell_type": "code",
   "execution_count": null,
   "metadata": {
    "colab": {
     "base_uri": "https://localhost:8080/",
     "height": 193
    },
    "colab_type": "code",
    "id": "m8f75wMAmIjW",
    "outputId": "3ca7f62b-a0ea-4b0c-8c6e-2c0200bf45f0"
   },
   "outputs": [
    {
     "data": {
      "text/html": [
       "<div>\n",
       "<style scoped>\n",
       "    .dataframe tbody tr th:only-of-type {\n",
       "        vertical-align: middle;\n",
       "    }\n",
       "\n",
       "    .dataframe tbody tr th {\n",
       "        vertical-align: top;\n",
       "    }\n",
       "\n",
       "    .dataframe thead th {\n",
       "        text-align: right;\n",
       "    }\n",
       "</style>\n",
       "<table border=\"1\" class=\"dataframe\">\n",
       "  <thead>\n",
       "    <tr style=\"text-align: right;\">\n",
       "      <th></th>\n",
       "      <th>id</th>\n",
       "      <th>item_id</th>\n",
       "      <th>institution_name</th>\n",
       "      <th>state</th>\n",
       "      <th>user_id</th>\n",
       "      <th>created_at</th>\n",
       "      <th>updated_at</th>\n",
       "      <th>institution_id</th>\n",
       "      <th>subscribed_to_webhook</th>\n",
       "      <th>is_current</th>\n",
       "      <th>legacy_has_registered_webhook</th>\n",
       "      <th>tenant_id</th>\n",
       "      <th>last_status_update_at</th>\n",
       "    </tr>\n",
       "  </thead>\n",
       "  <tbody>\n",
       "    <tr>\n",
       "      <th>0</th>\n",
       "      <td>56537</td>\n",
       "      <td>aYD6RAqyBdFMZMOv4gDRcRg7kLy1Z6UZVJKBR</td>\n",
       "      <td>Chime</td>\n",
       "      <td>connected</td>\n",
       "      <td>240359</td>\n",
       "      <td>2020-03-09 19:30:00</td>\n",
       "      <td>2020-03-09 19:30:00</td>\n",
       "      <td>ins_35</td>\n",
       "      <td>False</td>\n",
       "      <td>True</td>\n",
       "      <td>False</td>\n",
       "      <td>1</td>\n",
       "      <td>2020-03-09 19:30:00</td>\n",
       "    </tr>\n",
       "    <tr>\n",
       "      <th>1</th>\n",
       "      <td>56537</td>\n",
       "      <td>aYD6RAqyBdFMZMOv4gDRcRg7kLy1Z6UZVJKBR</td>\n",
       "      <td>Chime</td>\n",
       "      <td>connected</td>\n",
       "      <td>240359</td>\n",
       "      <td>2020-03-09 19:30:00</td>\n",
       "      <td>2020-03-09 19:30:00</td>\n",
       "      <td>ins_35</td>\n",
       "      <td>False</td>\n",
       "      <td>True</td>\n",
       "      <td>False</td>\n",
       "      <td>1</td>\n",
       "      <td>2020-03-09 19:30:00</td>\n",
       "    </tr>\n",
       "    <tr>\n",
       "      <th>2</th>\n",
       "      <td>56537</td>\n",
       "      <td>aYD6RAqyBdFMZMOv4gDRcRg7kLy1Z6UZVJKBR</td>\n",
       "      <td>Chime</td>\n",
       "      <td>connected</td>\n",
       "      <td>240359</td>\n",
       "      <td>2020-03-09 19:30:00</td>\n",
       "      <td>2020-03-09 19:30:00</td>\n",
       "      <td>ins_35</td>\n",
       "      <td>False</td>\n",
       "      <td>True</td>\n",
       "      <td>False</td>\n",
       "      <td>1</td>\n",
       "      <td>2020-03-09 19:30:00</td>\n",
       "    </tr>\n",
       "  </tbody>\n",
       "</table>\n",
       "</div>"
      ],
      "text/plain": [
       "      id  ... last_status_update_at\n",
       "0  56537  ...   2020-03-09 19:30:00\n",
       "1  56537  ...   2020-03-09 19:30:00\n",
       "2  56537  ...   2020-03-09 19:30:00\n",
       "\n",
       "[3 rows x 13 columns]"
      ]
     },
     "execution_count": 78,
     "metadata": {
      "tags": []
     },
     "output_type": "execute_result"
    }
   ],
   "source": [
    "dfPFA.head(3)\n"
   ]
  },
  {
   "cell_type": "code",
   "execution_count": null,
   "metadata": {
    "colab": {
     "base_uri": "https://localhost:8080/",
     "height": 213
    },
    "colab_type": "code",
    "id": "gtRq4AYgmcSV",
    "outputId": "3ad54304-808e-46dd-b13e-ed461c76dafc"
   },
   "outputs": [
    {
     "data": {
      "text/html": [
       "<div>\n",
       "<style scoped>\n",
       "    .dataframe tbody tr th:only-of-type {\n",
       "        vertical-align: middle;\n",
       "    }\n",
       "\n",
       "    .dataframe tbody tr th {\n",
       "        vertical-align: top;\n",
       "    }\n",
       "\n",
       "    .dataframe thead th {\n",
       "        text-align: right;\n",
       "    }\n",
       "</style>\n",
       "<table border=\"1\" class=\"dataframe\">\n",
       "  <thead>\n",
       "    <tr style=\"text-align: right;\">\n",
       "      <th></th>\n",
       "      <th>id</th>\n",
       "      <th>current_balance_cents</th>\n",
       "      <th>created_at</th>\n",
       "      <th>updated_at</th>\n",
       "      <th>name</th>\n",
       "      <th>account_type</th>\n",
       "      <th>account_subtype</th>\n",
       "      <th>plaid_account_id</th>\n",
       "      <th>type</th>\n",
       "      <th>plaid_financial_authentication_id</th>\n",
       "      <th>available_balance_cents</th>\n",
       "      <th>mask</th>\n",
       "      <th>initial_balance_cents</th>\n",
       "      <th>main_saving</th>\n",
       "      <th>tenant_id</th>\n",
       "      <th>plaid_state</th>\n",
       "    </tr>\n",
       "  </thead>\n",
       "  <tbody>\n",
       "    <tr>\n",
       "      <th>0</th>\n",
       "      <td>132151</td>\n",
       "      <td>60136</td>\n",
       "      <td>2020-03-09 19:30:00</td>\n",
       "      <td>2020-03-09 19:30:00</td>\n",
       "      <td>Chime Savings</td>\n",
       "      <td>depository</td>\n",
       "      <td>savings</td>\n",
       "      <td>kYgkpNBD4yF0q0db7vyeCeBR5VXVOgsRkAJ7b</td>\n",
       "      <td>PlaidBankAccount</td>\n",
       "      <td>56537</td>\n",
       "      <td>0</td>\n",
       "      <td>9673.0</td>\n",
       "      <td>0</td>\n",
       "      <td>True</td>\n",
       "      <td>1</td>\n",
       "      <td>connected</td>\n",
       "    </tr>\n",
       "    <tr>\n",
       "      <th>1</th>\n",
       "      <td>132151</td>\n",
       "      <td>60136</td>\n",
       "      <td>2020-03-09 19:30:00</td>\n",
       "      <td>2020-03-09 19:30:00</td>\n",
       "      <td>Chime Savings</td>\n",
       "      <td>depository</td>\n",
       "      <td>savings</td>\n",
       "      <td>kYgkpNBD4yF0q0db7vyeCeBR5VXVOgsRkAJ7b</td>\n",
       "      <td>PlaidBankAccount</td>\n",
       "      <td>56537</td>\n",
       "      <td>0</td>\n",
       "      <td>9673.0</td>\n",
       "      <td>0</td>\n",
       "      <td>True</td>\n",
       "      <td>1</td>\n",
       "      <td>connected</td>\n",
       "    </tr>\n",
       "    <tr>\n",
       "      <th>2</th>\n",
       "      <td>132151</td>\n",
       "      <td>60136</td>\n",
       "      <td>2020-03-09 19:30:00</td>\n",
       "      <td>2020-03-09 19:30:00</td>\n",
       "      <td>Chime Savings</td>\n",
       "      <td>depository</td>\n",
       "      <td>savings</td>\n",
       "      <td>kYgkpNBD4yF0q0db7vyeCeBR5VXVOgsRkAJ7b</td>\n",
       "      <td>PlaidBankAccount</td>\n",
       "      <td>56537</td>\n",
       "      <td>0</td>\n",
       "      <td>9673.0</td>\n",
       "      <td>0</td>\n",
       "      <td>True</td>\n",
       "      <td>1</td>\n",
       "      <td>connected</td>\n",
       "    </tr>\n",
       "  </tbody>\n",
       "</table>\n",
       "</div>"
      ],
      "text/plain": [
       "       id  current_balance_cents  ... tenant_id plaid_state\n",
       "0  132151                  60136  ...         1   connected\n",
       "1  132151                  60136  ...         1   connected\n",
       "2  132151                  60136  ...         1   connected\n",
       "\n",
       "[3 rows x 16 columns]"
      ]
     },
     "execution_count": 79,
     "metadata": {
      "tags": []
     },
     "output_type": "execute_result"
    }
   ],
   "source": [
    "dfBA.head(3)"
   ]
  },
  {
   "cell_type": "code",
   "execution_count": null,
   "metadata": {
    "colab": {
     "base_uri": "https://localhost:8080/",
     "height": 193
    },
    "colab_type": "code",
    "id": "Xj_BOAmzcamK",
    "outputId": "7d013294-6315-4cb1-cb8c-7feaeacdee7b"
   },
   "outputs": [
    {
     "data": {
      "text/html": [
       "<div>\n",
       "<style scoped>\n",
       "    .dataframe tbody tr th:only-of-type {\n",
       "        vertical-align: middle;\n",
       "    }\n",
       "\n",
       "    .dataframe tbody tr th {\n",
       "        vertical-align: top;\n",
       "    }\n",
       "\n",
       "    .dataframe thead th {\n",
       "        text-align: right;\n",
       "    }\n",
       "</style>\n",
       "<table border=\"1\" class=\"dataframe\">\n",
       "  <thead>\n",
       "    <tr style=\"text-align: right;\">\n",
       "      <th></th>\n",
       "      <th>id</th>\n",
       "      <th>date</th>\n",
       "      <th>amount_cents</th>\n",
       "      <th>plaid_transaction_id</th>\n",
       "      <th>purpose</th>\n",
       "      <th>pending</th>\n",
       "      <th>category_id</th>\n",
       "      <th>bank_account_id</th>\n",
       "      <th>created_at</th>\n",
       "      <th>updated_at</th>\n",
       "      <th>plaid_account_id</th>\n",
       "      <th>tenant_id</th>\n",
       "      <th>iso_currency_code</th>\n",
       "    </tr>\n",
       "  </thead>\n",
       "  <tbody>\n",
       "    <tr>\n",
       "      <th>0</th>\n",
       "      <td>38192796</td>\n",
       "      <td>2020-08-06 02:36:00</td>\n",
       "      <td>38743</td>\n",
       "      <td>167rJg598nCa5aQyzwK7sy3g0OrKzyFmeq7bJ</td>\n",
       "      <td>withdrawal</td>\n",
       "      <td>False</td>\n",
       "      <td>21006000</td>\n",
       "      <td>132151</td>\n",
       "      <td>2020-08-06 02:36:00</td>\n",
       "      <td>2020-08-06 02:36:00</td>\n",
       "      <td>kYgkpNBD4yF0q0db7vyeCeBR5VXVOgsRkAJ7b</td>\n",
       "      <td>1</td>\n",
       "      <td>USD</td>\n",
       "    </tr>\n",
       "    <tr>\n",
       "      <th>1</th>\n",
       "      <td>38192795</td>\n",
       "      <td>2020-08-06 02:36:00</td>\n",
       "      <td>8000</td>\n",
       "      <td>q6o4pqyZ5rC1Q1vRwyd8U0NnXdJErxfJymx3y</td>\n",
       "      <td>withdrawal</td>\n",
       "      <td>False</td>\n",
       "      <td>21006000</td>\n",
       "      <td>132151</td>\n",
       "      <td>2020-08-06 02:36:00</td>\n",
       "      <td>2020-08-06 02:36:00</td>\n",
       "      <td>kYgkpNBD4yF0q0db7vyeCeBR5VXVOgsRkAJ7b</td>\n",
       "      <td>1</td>\n",
       "      <td>USD</td>\n",
       "    </tr>\n",
       "    <tr>\n",
       "      <th>2</th>\n",
       "      <td>38192794</td>\n",
       "      <td>2020-08-06 02:36:00</td>\n",
       "      <td>2500</td>\n",
       "      <td>L9bMRxkLeqhKLKongkEMcLE3yevdZLI0nPOoX</td>\n",
       "      <td>withdrawal</td>\n",
       "      <td>False</td>\n",
       "      <td>21006000</td>\n",
       "      <td>132151</td>\n",
       "      <td>2020-08-06 02:36:00</td>\n",
       "      <td>2020-08-06 02:36:00</td>\n",
       "      <td>kYgkpNBD4yF0q0db7vyeCeBR5VXVOgsRkAJ7b</td>\n",
       "      <td>1</td>\n",
       "      <td>USD</td>\n",
       "    </tr>\n",
       "  </tbody>\n",
       "</table>\n",
       "</div>"
      ],
      "text/plain": [
       "         id                date  ...  tenant_id iso_currency_code\n",
       "0  38192796 2020-08-06 02:36:00  ...          1               USD\n",
       "1  38192795 2020-08-06 02:36:00  ...          1               USD\n",
       "2  38192794 2020-08-06 02:36:00  ...          1               USD\n",
       "\n",
       "[3 rows x 13 columns]"
      ]
     },
     "execution_count": 80,
     "metadata": {
      "tags": []
     },
     "output_type": "execute_result"
    }
   ],
   "source": [
    "dfPMT.head(3)"
   ]
  },
  {
   "cell_type": "code",
   "execution_count": null,
   "metadata": {
    "colab": {
     "base_uri": "https://localhost:8080/",
     "height": 142
    },
    "colab_type": "code",
    "id": "_jbntG6IHEVI",
    "outputId": "1a94d041-ce2b-420a-80de-2e8f10978df3"
   },
   "outputs": [
    {
     "data": {
      "text/html": [
       "<div>\n",
       "<style scoped>\n",
       "    .dataframe tbody tr th:only-of-type {\n",
       "        vertical-align: middle;\n",
       "    }\n",
       "\n",
       "    .dataframe tbody tr th {\n",
       "        vertical-align: top;\n",
       "    }\n",
       "\n",
       "    .dataframe thead th {\n",
       "        text-align: right;\n",
       "    }\n",
       "</style>\n",
       "<table border=\"1\" class=\"dataframe\">\n",
       "  <thead>\n",
       "    <tr style=\"text-align: right;\">\n",
       "      <th></th>\n",
       "      <th>id</th>\n",
       "      <th>plaid_category_id</th>\n",
       "      <th>group</th>\n",
       "      <th>parent_id</th>\n",
       "      <th>category_name</th>\n",
       "      <th>parent_category_name</th>\n",
       "      <th>grandparent_category_name</th>\n",
       "    </tr>\n",
       "  </thead>\n",
       "  <tbody>\n",
       "    <tr>\n",
       "      <th>320</th>\n",
       "      <td>338</td>\n",
       "      <td>18020000.0</td>\n",
       "      <td>place</td>\n",
       "      <td>280.0</td>\n",
       "      <td>Financial</td>\n",
       "      <td>Service</td>\n",
       "      <td>Utilities</td>\n",
       "    </tr>\n",
       "    <tr>\n",
       "      <th>696</th>\n",
       "      <td>339</td>\n",
       "      <td>NaN</td>\n",
       "      <td>NaN</td>\n",
       "      <td>280.0</td>\n",
       "      <td>Financial</td>\n",
       "      <td>Service</td>\n",
       "      <td>Utilities</td>\n",
       "    </tr>\n",
       "    <tr>\n",
       "      <th>711</th>\n",
       "      <td>998</td>\n",
       "      <td>NaN</td>\n",
       "      <td>NaN</td>\n",
       "      <td>939.0</td>\n",
       "      <td>Financial</td>\n",
       "      <td>Service</td>\n",
       "      <td>Utilities</td>\n",
       "    </tr>\n",
       "  </tbody>\n",
       "</table>\n",
       "</div>"
      ],
      "text/plain": [
       "      id  plaid_category_id  ... parent_category_name  grandparent_category_name\n",
       "320  338         18020000.0  ...              Service                  Utilities\n",
       "696  339                NaN  ...              Service                  Utilities\n",
       "711  998                NaN  ...              Service                  Utilities\n",
       "\n",
       "[3 rows x 7 columns]"
      ]
     },
     "execution_count": 135,
     "metadata": {
      "tags": []
     },
     "output_type": "execute_result"
    }
   ],
   "source": [
    "category_lookups[category_lookups['category_name'] == 'Financial']"
   ]
  },
  {
   "cell_type": "code",
   "execution_count": null,
   "metadata": {
    "colab": {
     "base_uri": "https://localhost:8080/",
     "height": 52
    },
    "colab_type": "code",
    "id": "h0uG6tR_afyU",
    "outputId": "af56c4bc-8e55-465c-ed26-83a563564513"
   },
   "outputs": [
    {
     "data": {
      "application/vnd.google.colaboratory.intrinsic+json": {
       "type": "string"
      },
      "text/plain": [
       "\"\\nif any value in the column dfPMT['category_id'] exists in category_lookups['plaid_category_id'] \\nthen for that value ... return these row values: category_lookups['category_name'] and category_lookups['parent_category_name']\\nand category_lookups['grandparent_category_name'] as new columns in dfPMT\\n\""
      ]
     },
     "execution_count": 81,
     "metadata": {
      "tags": []
     },
     "output_type": "execute_result"
    }
   ],
   "source": [
    "   \"\"\"\n",
    "   if any value in the column dfPMT['category_id'] exists in category_lookups['plaid_category_id'] \n",
    "   then for that value ... return these row values: category_lookups['category_name'] and category_lookups['parent_category_name']\n",
    "   and category_lookups['grandparent_category_name'] as new columns in dfPMT\n",
    "   \"\"\""
   ]
  },
  {
   "cell_type": "markdown",
   "metadata": {
    "colab_type": "text",
    "id": "Lab4g_Pbttez"
   },
   "source": [
    "# Merging tables and subsetting"
   ]
  },
  {
   "cell_type": "code",
   "execution_count": null,
   "metadata": {
    "colab": {},
    "colab_type": "code",
    "id": "Kjf0NLWucKw6"
   },
   "outputs": [],
   "source": [
    "dfPMT_categorized = pd.merge(dfPMT, category_lookups,  how='left', left_on=['category_id'], right_on = ['plaid_category_id'])"
   ]
  },
  {
   "cell_type": "code",
   "execution_count": null,
   "metadata": {
    "colab": {
     "base_uri": "https://localhost:8080/",
     "height": 264
    },
    "colab_type": "code",
    "id": "isQNdSQzxmnI",
    "outputId": "1f8ebfd6-7d33-486f-aff1-698c436de8c6"
   },
   "outputs": [
    {
     "data": {
      "text/html": [
       "<div>\n",
       "<style scoped>\n",
       "    .dataframe tbody tr th:only-of-type {\n",
       "        vertical-align: middle;\n",
       "    }\n",
       "\n",
       "    .dataframe tbody tr th {\n",
       "        vertical-align: top;\n",
       "    }\n",
       "\n",
       "    .dataframe thead th {\n",
       "        text-align: right;\n",
       "    }\n",
       "</style>\n",
       "<table border=\"1\" class=\"dataframe\">\n",
       "  <thead>\n",
       "    <tr style=\"text-align: right;\">\n",
       "      <th></th>\n",
       "      <th>id_x</th>\n",
       "      <th>date</th>\n",
       "      <th>amount_cents</th>\n",
       "      <th>plaid_transaction_id</th>\n",
       "      <th>purpose</th>\n",
       "      <th>pending</th>\n",
       "      <th>category_id</th>\n",
       "      <th>bank_account_id</th>\n",
       "      <th>created_at</th>\n",
       "      <th>updated_at</th>\n",
       "      <th>plaid_account_id</th>\n",
       "      <th>tenant_id</th>\n",
       "      <th>iso_currency_code</th>\n",
       "      <th>id_y</th>\n",
       "      <th>plaid_category_id</th>\n",
       "      <th>group</th>\n",
       "      <th>parent_id</th>\n",
       "      <th>category_name</th>\n",
       "      <th>parent_category_name</th>\n",
       "      <th>grandparent_category_name</th>\n",
       "    </tr>\n",
       "  </thead>\n",
       "  <tbody>\n",
       "    <tr>\n",
       "      <th>0</th>\n",
       "      <td>38192796</td>\n",
       "      <td>2020-08-06 02:36:00</td>\n",
       "      <td>38743</td>\n",
       "      <td>167rJg598nCa5aQyzwK7sy3g0OrKzyFmeq7bJ</td>\n",
       "      <td>withdrawal</td>\n",
       "      <td>False</td>\n",
       "      <td>21006000</td>\n",
       "      <td>132151</td>\n",
       "      <td>2020-08-06 02:36:00</td>\n",
       "      <td>2020-08-06 02:36:00</td>\n",
       "      <td>kYgkpNBD4yF0q0db7vyeCeBR5VXVOgsRkAJ7b</td>\n",
       "      <td>1</td>\n",
       "      <td>USD</td>\n",
       "      <td>599</td>\n",
       "      <td>21006000.0</td>\n",
       "      <td>special</td>\n",
       "      <td>593.0</td>\n",
       "      <td>Debit</td>\n",
       "      <td>Transfer</td>\n",
       "      <td>Transfers</td>\n",
       "    </tr>\n",
       "    <tr>\n",
       "      <th>1</th>\n",
       "      <td>38192795</td>\n",
       "      <td>2020-08-06 02:36:00</td>\n",
       "      <td>8000</td>\n",
       "      <td>q6o4pqyZ5rC1Q1vRwyd8U0NnXdJErxfJymx3y</td>\n",
       "      <td>withdrawal</td>\n",
       "      <td>False</td>\n",
       "      <td>21006000</td>\n",
       "      <td>132151</td>\n",
       "      <td>2020-08-06 02:36:00</td>\n",
       "      <td>2020-08-06 02:36:00</td>\n",
       "      <td>kYgkpNBD4yF0q0db7vyeCeBR5VXVOgsRkAJ7b</td>\n",
       "      <td>1</td>\n",
       "      <td>USD</td>\n",
       "      <td>599</td>\n",
       "      <td>21006000.0</td>\n",
       "      <td>special</td>\n",
       "      <td>593.0</td>\n",
       "      <td>Debit</td>\n",
       "      <td>Transfer</td>\n",
       "      <td>Transfers</td>\n",
       "    </tr>\n",
       "    <tr>\n",
       "      <th>2</th>\n",
       "      <td>38192794</td>\n",
       "      <td>2020-08-06 02:36:00</td>\n",
       "      <td>2500</td>\n",
       "      <td>L9bMRxkLeqhKLKongkEMcLE3yevdZLI0nPOoX</td>\n",
       "      <td>withdrawal</td>\n",
       "      <td>False</td>\n",
       "      <td>21006000</td>\n",
       "      <td>132151</td>\n",
       "      <td>2020-08-06 02:36:00</td>\n",
       "      <td>2020-08-06 02:36:00</td>\n",
       "      <td>kYgkpNBD4yF0q0db7vyeCeBR5VXVOgsRkAJ7b</td>\n",
       "      <td>1</td>\n",
       "      <td>USD</td>\n",
       "      <td>599</td>\n",
       "      <td>21006000.0</td>\n",
       "      <td>special</td>\n",
       "      <td>593.0</td>\n",
       "      <td>Debit</td>\n",
       "      <td>Transfer</td>\n",
       "      <td>Transfers</td>\n",
       "    </tr>\n",
       "  </tbody>\n",
       "</table>\n",
       "</div>"
      ],
      "text/plain": [
       "       id_x                date  ...  parent_category_name grandparent_category_name\n",
       "0  38192796 2020-08-06 02:36:00  ...              Transfer                 Transfers\n",
       "1  38192795 2020-08-06 02:36:00  ...              Transfer                 Transfers\n",
       "2  38192794 2020-08-06 02:36:00  ...              Transfer                 Transfers\n",
       "\n",
       "[3 rows x 20 columns]"
      ]
     },
     "execution_count": 108,
     "metadata": {
      "tags": []
     },
     "output_type": "execute_result"
    }
   ],
   "source": [
    "dfPMT_categorized.head(3)"
   ]
  },
  {
   "cell_type": "code",
   "execution_count": null,
   "metadata": {
    "colab": {},
    "colab_type": "code",
    "id": "Uuue9R3tdrgC"
   },
   "outputs": [],
   "source": [
    "# Filter dataframe to show only the user ID and the transaction type for each transaction\n",
    "\n",
    "dfPMT_categorized_subset = dfPMT_categorized[['plaid_account_id','category_name','parent_category_name','grandparent_category_name', 'amount_cents', 'date']]"
   ]
  },
  {
   "cell_type": "code",
   "execution_count": null,
   "metadata": {
    "colab": {
     "base_uri": "https://localhost:8080/",
     "height": 142
    },
    "colab_type": "code",
    "id": "fbW53UgFf40I",
    "outputId": "163e5549-5857-46cf-c9bc-4b7a71b12036"
   },
   "outputs": [
    {
     "data": {
      "text/html": [
       "<div>\n",
       "<style scoped>\n",
       "    .dataframe tbody tr th:only-of-type {\n",
       "        vertical-align: middle;\n",
       "    }\n",
       "\n",
       "    .dataframe tbody tr th {\n",
       "        vertical-align: top;\n",
       "    }\n",
       "\n",
       "    .dataframe thead th {\n",
       "        text-align: right;\n",
       "    }\n",
       "</style>\n",
       "<table border=\"1\" class=\"dataframe\">\n",
       "  <thead>\n",
       "    <tr style=\"text-align: right;\">\n",
       "      <th></th>\n",
       "      <th>plaid_account_id</th>\n",
       "      <th>category_name</th>\n",
       "      <th>parent_category_name</th>\n",
       "      <th>grandparent_category_name</th>\n",
       "      <th>amount_cents</th>\n",
       "      <th>date</th>\n",
       "    </tr>\n",
       "  </thead>\n",
       "  <tbody>\n",
       "    <tr>\n",
       "      <th>0</th>\n",
       "      <td>kYgkpNBD4yF0q0db7vyeCeBR5VXVOgsRkAJ7b</td>\n",
       "      <td>Debit</td>\n",
       "      <td>Transfer</td>\n",
       "      <td>Transfers</td>\n",
       "      <td>38743</td>\n",
       "      <td>2020-08-06 02:36:00</td>\n",
       "    </tr>\n",
       "    <tr>\n",
       "      <th>1</th>\n",
       "      <td>kYgkpNBD4yF0q0db7vyeCeBR5VXVOgsRkAJ7b</td>\n",
       "      <td>Debit</td>\n",
       "      <td>Transfer</td>\n",
       "      <td>Transfers</td>\n",
       "      <td>8000</td>\n",
       "      <td>2020-08-06 02:36:00</td>\n",
       "    </tr>\n",
       "    <tr>\n",
       "      <th>2</th>\n",
       "      <td>kYgkpNBD4yF0q0db7vyeCeBR5VXVOgsRkAJ7b</td>\n",
       "      <td>Debit</td>\n",
       "      <td>Transfer</td>\n",
       "      <td>Transfers</td>\n",
       "      <td>2500</td>\n",
       "      <td>2020-08-06 02:36:00</td>\n",
       "    </tr>\n",
       "  </tbody>\n",
       "</table>\n",
       "</div>"
      ],
      "text/plain": [
       "                        plaid_account_id  ...                date\n",
       "0  kYgkpNBD4yF0q0db7vyeCeBR5VXVOgsRkAJ7b  ... 2020-08-06 02:36:00\n",
       "1  kYgkpNBD4yF0q0db7vyeCeBR5VXVOgsRkAJ7b  ... 2020-08-06 02:36:00\n",
       "2  kYgkpNBD4yF0q0db7vyeCeBR5VXVOgsRkAJ7b  ... 2020-08-06 02:36:00\n",
       "\n",
       "[3 rows x 6 columns]"
      ]
     },
     "execution_count": 118,
     "metadata": {
      "tags": []
     },
     "output_type": "execute_result"
    }
   ],
   "source": [
    "dfPMT_categorized_subset.head(3)"
   ]
  },
  {
   "cell_type": "code",
   "execution_count": null,
   "metadata": {
    "colab": {
     "base_uri": "https://localhost:8080/",
     "height": 367
    },
    "colab_type": "code",
    "id": "pSJUUhAne5w3",
    "outputId": "63e0332c-c5e5-47db-b748-f0f781f49f41"
   },
   "outputs": [
    {
     "data": {
      "text/plain": [
       "<matplotlib.axes._subplots.AxesSubplot at 0x7f71701a4198>"
      ]
     },
     "execution_count": 114,
     "metadata": {
      "tags": []
     },
     "output_type": "execute_result"
    },
    {
     "data": {
      "image/png": "[encoded data removed]",
      "text/plain": [
       "<Figure size 576x396 with 1 Axes>"
      ]
     },
     "metadata": {
      "tags": []
     },
     "output_type": "display_data"
    }
   ],
   "source": [
    "dfPMT_categorized_subset['category_name'].value_counts().loc[lambda x : x>65].plot(kind='barh')"
   ]
  },
  {
   "cell_type": "code",
   "execution_count": null,
   "metadata": {
    "colab": {
     "base_uri": "https://localhost:8080/",
     "height": 34
    },
    "colab_type": "code",
    "id": "sN3yDJuufPNJ",
    "outputId": "85b7fccb-3c78-4036-a58d-d660b3259b45"
   },
   "outputs": [
    {
     "data": {
      "text/plain": [
       "614"
      ]
     },
     "execution_count": 86,
     "metadata": {
      "tags": []
     },
     "output_type": "execute_result"
    }
   ],
   "source": [
    "category_lookups['plaid_category_id'].nunique()"
   ]
  },
  {
   "cell_type": "code",
   "execution_count": null,
   "metadata": {
    "colab": {
     "base_uri": "https://localhost:8080/",
     "height": 419
    },
    "colab_type": "code",
    "id": "dcArYgHpPXdg",
    "outputId": "8bb55d80-a075-4afe-99ea-8fd1217b1fb1"
   },
   "outputs": [
    {
     "data": {
      "text/html": [
       "<div>\n",
       "<style scoped>\n",
       "    .dataframe tbody tr th:only-of-type {\n",
       "        vertical-align: middle;\n",
       "    }\n",
       "\n",
       "    .dataframe tbody tr th {\n",
       "        vertical-align: top;\n",
       "    }\n",
       "\n",
       "    .dataframe thead th {\n",
       "        text-align: right;\n",
       "    }\n",
       "</style>\n",
       "<table border=\"1\" class=\"dataframe\">\n",
       "  <thead>\n",
       "    <tr style=\"text-align: right;\">\n",
       "      <th></th>\n",
       "      <th>id</th>\n",
       "      <th>plaid_category_id</th>\n",
       "      <th>group</th>\n",
       "      <th>parent_id</th>\n",
       "      <th>category_name</th>\n",
       "      <th>parent_category_name</th>\n",
       "      <th>grandparent_category_name</th>\n",
       "    </tr>\n",
       "  </thead>\n",
       "  <tbody>\n",
       "    <tr>\n",
       "      <th>0</th>\n",
       "      <td>656</td>\n",
       "      <td>0.0</td>\n",
       "      <td>NaN</td>\n",
       "      <td>NaN</td>\n",
       "      <td>NaN</td>\n",
       "      <td>0</td>\n",
       "      <td>Other</td>\n",
       "    </tr>\n",
       "    <tr>\n",
       "      <th>1</th>\n",
       "      <td>665</td>\n",
       "      <td>786.0</td>\n",
       "      <td>NaN</td>\n",
       "      <td>NaN</td>\n",
       "      <td>NaN</td>\n",
       "      <td>0</td>\n",
       "      <td>Other</td>\n",
       "    </tr>\n",
       "    <tr>\n",
       "      <th>2</th>\n",
       "      <td>658</td>\n",
       "      <td>5645.0</td>\n",
       "      <td>NaN</td>\n",
       "      <td>NaN</td>\n",
       "      <td>NaN</td>\n",
       "      <td>0</td>\n",
       "      <td>Other</td>\n",
       "    </tr>\n",
       "    <tr>\n",
       "      <th>3</th>\n",
       "      <td>667</td>\n",
       "      <td>6787.0</td>\n",
       "      <td>NaN</td>\n",
       "      <td>NaN</td>\n",
       "      <td>NaN</td>\n",
       "      <td>0</td>\n",
       "      <td>Other</td>\n",
       "    </tr>\n",
       "    <tr>\n",
       "      <th>4</th>\n",
       "      <td>661</td>\n",
       "      <td>7687.0</td>\n",
       "      <td>NaN</td>\n",
       "      <td>NaN</td>\n",
       "      <td>NaN</td>\n",
       "      <td>0</td>\n",
       "      <td>Other</td>\n",
       "    </tr>\n",
       "    <tr>\n",
       "      <th>...</th>\n",
       "      <td>...</td>\n",
       "      <td>...</td>\n",
       "      <td>...</td>\n",
       "      <td>...</td>\n",
       "      <td>...</td>\n",
       "      <td>...</td>\n",
       "      <td>...</td>\n",
       "    </tr>\n",
       "    <tr>\n",
       "      <th>715</th>\n",
       "      <td>1085</td>\n",
       "      <td>NaN</td>\n",
       "      <td>NaN</td>\n",
       "      <td>939.0</td>\n",
       "      <td>Mining</td>\n",
       "      <td>Service</td>\n",
       "      <td>Utilities</td>\n",
       "    </tr>\n",
       "    <tr>\n",
       "      <th>716</th>\n",
       "      <td>1094</td>\n",
       "      <td>NaN</td>\n",
       "      <td>NaN</td>\n",
       "      <td>939.0</td>\n",
       "      <td>Personal Care</td>\n",
       "      <td>Service</td>\n",
       "      <td>Utilities</td>\n",
       "    </tr>\n",
       "    <tr>\n",
       "      <th>717</th>\n",
       "      <td>1110</td>\n",
       "      <td>NaN</td>\n",
       "      <td>NaN</td>\n",
       "      <td>939.0</td>\n",
       "      <td>Real Estate</td>\n",
       "      <td>Service</td>\n",
       "      <td>Utilities</td>\n",
       "    </tr>\n",
       "    <tr>\n",
       "      <th>718</th>\n",
       "      <td>1139</td>\n",
       "      <td>NaN</td>\n",
       "      <td>NaN</td>\n",
       "      <td>939.0</td>\n",
       "      <td>Utilities</td>\n",
       "      <td>Service</td>\n",
       "      <td>Utilities</td>\n",
       "    </tr>\n",
       "    <tr>\n",
       "      <th>719</th>\n",
       "      <td>1150</td>\n",
       "      <td>NaN</td>\n",
       "      <td>NaN</td>\n",
       "      <td>939.0</td>\n",
       "      <td>Agriculture and Forestry</td>\n",
       "      <td>Service</td>\n",
       "      <td>Utilities</td>\n",
       "    </tr>\n",
       "  </tbody>\n",
       "</table>\n",
       "<p>720 rows × 7 columns</p>\n",
       "</div>"
      ],
      "text/plain": [
       "       id  plaid_category_id  ... parent_category_name  grandparent_category_name\n",
       "0     656                0.0  ...                    0                      Other\n",
       "1     665              786.0  ...                    0                      Other\n",
       "2     658             5645.0  ...                    0                      Other\n",
       "3     667             6787.0  ...                    0                      Other\n",
       "4     661             7687.0  ...                    0                      Other\n",
       "..    ...                ...  ...                  ...                        ...\n",
       "715  1085                NaN  ...              Service                  Utilities\n",
       "716  1094                NaN  ...              Service                  Utilities\n",
       "717  1110                NaN  ...              Service                  Utilities\n",
       "718  1139                NaN  ...              Service                  Utilities\n",
       "719  1150                NaN  ...              Service                  Utilities\n",
       "\n",
       "[720 rows x 7 columns]"
      ]
     },
     "execution_count": 87,
     "metadata": {
      "tags": []
     },
     "output_type": "execute_result"
    }
   ],
   "source": [
    "category_lookups"
   ]
  },
  {
   "cell_type": "markdown",
   "metadata": {
    "colab_type": "text",
    "id": "-9R3c-lOuWB1"
   },
   "source": [
    "# Visualize spending for a given user"
   ]
  },
  {
   "cell_type": "markdown",
   "metadata": {
    "colab_type": "text",
    "id": "2FuVqLd3u9KH"
   },
   "source": [
    "### Subset data down to a specific user"
   ]
  },
  {
   "cell_type": "code",
   "execution_count": null,
   "metadata": {
    "colab": {
     "base_uri": "https://localhost:8080/",
     "height": 408
    },
    "colab_type": "code",
    "id": "oHEqGFATiI8p",
    "outputId": "afd0eaf3-8b5e-4b74-85ca-108f7723c33f"
   },
   "outputs": [
    {
     "name": "stdout",
     "output_type": "stream",
     "text": [
      "1635ob1dkQIz1QMjLmBpt0E36VyM96ImeyrgZ    1360\n",
      "mEQmv8ybP1t3o3bYnKzwFqP5jad1KKUM8N06o    1280\n",
      "vq4mMRdZLeFon7bK63jefLOomaRPYBCmAJP6g    1073\n",
      "ojQ7ZARMD3HvOxe0AM7ZfgqByxymNgcBdErKK     351\n",
      "rekPD6wxbPfEqbVbDpYZck38dan4K3sB8rx5n     168\n",
      "1E1L81Ld3RfgPL7XdkAZtZd7V169xXHmQROrv     136\n",
      "X1VPwkEJAzHBEaByOrmDHMoDQEJO5ws4OnkXy     135\n",
      "kYgkpNBD4yF0q0db7vyeCeBR5VXVOgsRkAJ7b     124\n",
      "v37a5rODaRHkkBgZje0LFjLLVPYmr9fmzjr9D     119\n",
      "vMr0dbz7qMFmmVkDbXEXTJkRz8P4netmY9jjj      97\n",
      "prowokzo5PT6mzBPX3gRuDN6k1dr0aFJD14v6      92\n",
      "5AErXqkmRPiPy3xda15LIA1MYQwkx7f1wx65v      62\n",
      "jZrge9o4XVcbdaxM78R5C7K6BrqD1MhRMdoym      55\n",
      "DgJqoXeN79hMVXB53XYBH4wJzPk0evUZEKpbE      34\n",
      "KnrQ0oNwd1C3RNPaEBbaIqNxge7gBXTQvyjvA      28\n",
      "XgAqyyoExpUvy0yX8Z3YH5ALX4x0aEf4kqq0q      20\n",
      "a58a97rVLZs6LZdYRn94sLvNR0jRq1IZL0pnq      16\n",
      "Oj09YgyXX9h308gOwLjxiOXYZn8AmjC8ejqVj      16\n",
      "PrO6nDOgqru8qg6dQ5wOHjP3AzBJ9xtmrnYVM      14\n",
      "ALZLMwDdjmH3zXakq4BDFJ3zgX0roNU6bMEE6      12\n",
      "pRkakg38abt86wxvD380UAVNDE9XNAuJJ3Aor      11\n",
      "V34Dr53jNYCw3KgBE7L6uvBoaLKPk8traRgAZ       9\n",
      "Name: plaid_account_id, dtype: int64\n"
     ]
    }
   ],
   "source": [
    "# Get list of all user ID's\n",
    "\n",
    "users = transaction_type_user['plaid_account_id'].value_counts()\n",
    "print(users)"
   ]
  },
  {
   "cell_type": "code",
   "execution_count": null,
   "metadata": {
    "colab": {
     "base_uri": "https://localhost:8080/",
     "height": 204
    },
    "colab_type": "code",
    "id": "V028dC-TgzY4",
    "outputId": "dfcfc5ef-6562-4ec3-917c-71b1a3a14997"
   },
   "outputs": [
    {
     "data": {
      "text/html": [
       "<div>\n",
       "<style scoped>\n",
       "    .dataframe tbody tr th:only-of-type {\n",
       "        vertical-align: middle;\n",
       "    }\n",
       "\n",
       "    .dataframe tbody tr th {\n",
       "        vertical-align: top;\n",
       "    }\n",
       "\n",
       "    .dataframe thead th {\n",
       "        text-align: right;\n",
       "    }\n",
       "</style>\n",
       "<table border=\"1\" class=\"dataframe\">\n",
       "  <thead>\n",
       "    <tr style=\"text-align: right;\">\n",
       "      <th></th>\n",
       "      <th>plaid_account_id</th>\n",
       "      <th>category_name</th>\n",
       "      <th>parent_category_name</th>\n",
       "      <th>grandparent_category_name</th>\n",
       "      <th>amount_cents</th>\n",
       "      <th>date</th>\n",
       "    </tr>\n",
       "  </thead>\n",
       "  <tbody>\n",
       "    <tr>\n",
       "      <th>3694</th>\n",
       "      <td>1635ob1dkQIz1QMjLmBpt0E36VyM96ImeyrgZ</td>\n",
       "      <td>Supermarkets and Groceries</td>\n",
       "      <td>Food and Beverage Store</td>\n",
       "      <td>Food</td>\n",
       "      <td>1039</td>\n",
       "      <td>2020-08-06 05:58:00</td>\n",
       "    </tr>\n",
       "    <tr>\n",
       "      <th>3695</th>\n",
       "      <td>1635ob1dkQIz1QMjLmBpt0E36VyM96ImeyrgZ</td>\n",
       "      <td>Gas Stations</td>\n",
       "      <td>Travel</td>\n",
       "      <td>Transportation</td>\n",
       "      <td>400</td>\n",
       "      <td>2020-08-06 05:58:00</td>\n",
       "    </tr>\n",
       "    <tr>\n",
       "      <th>3696</th>\n",
       "      <td>1635ob1dkQIz1QMjLmBpt0E36VyM96ImeyrgZ</td>\n",
       "      <td>Supermarkets and Groceries</td>\n",
       "      <td>Food and Beverage Store</td>\n",
       "      <td>Food</td>\n",
       "      <td>2624</td>\n",
       "      <td>2020-08-06 05:58:00</td>\n",
       "    </tr>\n",
       "    <tr>\n",
       "      <th>3697</th>\n",
       "      <td>1635ob1dkQIz1QMjLmBpt0E36VyM96ImeyrgZ</td>\n",
       "      <td>PayPal</td>\n",
       "      <td>Third Party</td>\n",
       "      <td>Financial</td>\n",
       "      <td>-30105</td>\n",
       "      <td>2020-08-06 05:58:00</td>\n",
       "    </tr>\n",
       "    <tr>\n",
       "      <th>3698</th>\n",
       "      <td>1635ob1dkQIz1QMjLmBpt0E36VyM96ImeyrgZ</td>\n",
       "      <td>Loans and Mortgages</td>\n",
       "      <td>Financial</td>\n",
       "      <td>Financial</td>\n",
       "      <td>14300</td>\n",
       "      <td>2020-08-05 05:41:00</td>\n",
       "    </tr>\n",
       "  </tbody>\n",
       "</table>\n",
       "</div>"
      ],
      "text/plain": [
       "                           plaid_account_id  ...                date\n",
       "3694  1635ob1dkQIz1QMjLmBpt0E36VyM96ImeyrgZ  ... 2020-08-06 05:58:00\n",
       "3695  1635ob1dkQIz1QMjLmBpt0E36VyM96ImeyrgZ  ... 2020-08-06 05:58:00\n",
       "3696  1635ob1dkQIz1QMjLmBpt0E36VyM96ImeyrgZ  ... 2020-08-06 05:58:00\n",
       "3697  1635ob1dkQIz1QMjLmBpt0E36VyM96ImeyrgZ  ... 2020-08-06 05:58:00\n",
       "3698  1635ob1dkQIz1QMjLmBpt0E36VyM96ImeyrgZ  ... 2020-08-05 05:41:00\n",
       "\n",
       "[5 rows x 6 columns]"
      ]
     },
     "execution_count": 119,
     "metadata": {
      "tags": []
     },
     "output_type": "execute_result"
    }
   ],
   "source": [
    "# Get data for a specific user\n",
    "\n",
    "kevin = dfPMT_categorized_subset[ dfPMT_categorized_subset['plaid_account_id']=='1635ob1dkQIz1QMjLmBpt0E36VyM96ImeyrgZ']\n",
    "kevin.head()"
   ]
  },
  {
   "cell_type": "markdown",
   "metadata": {
    "colab_type": "text",
    "id": "R8OlsctJvBZh"
   },
   "source": [
    "### Explore data for our chosen user"
   ]
  },
  {
   "cell_type": "code",
   "execution_count": null,
   "metadata": {
    "colab": {
     "base_uri": "https://localhost:8080/",
     "height": 34
    },
    "colab_type": "code",
    "id": "3XYQEVwojw3g",
    "outputId": "a93c6376-a938-413c-c632-0a800d50e439"
   },
   "outputs": [
    {
     "data": {
      "text/plain": [
       "(1360, 6)"
      ]
     },
     "execution_count": 120,
     "metadata": {
      "tags": []
     },
     "output_type": "execute_result"
    }
   ],
   "source": [
    "kevin.shape"
   ]
  },
  {
   "cell_type": "code",
   "execution_count": null,
   "metadata": {
    "colab": {
     "base_uri": "https://localhost:8080/",
     "height": 221
    },
    "colab_type": "code",
    "id": "sEIo2nMhh2tk",
    "outputId": "a4f89e26-a61f-4878-ac76-3a222ea493e6"
   },
   "outputs": [
    {
     "data": {
      "text/plain": [
       "Shopping          477\n",
       "Transfers         242\n",
       "Food              225\n",
       "Transportation    146\n",
       "Utilities         123\n",
       "Financial         112\n",
       "Auto               19\n",
       "Govt Agencies      11\n",
       "Payments            2\n",
       "Recreation          2\n",
       "Other               1\n",
       "Name: grandparent_category_name, dtype: int64"
      ]
     },
     "execution_count": 121,
     "metadata": {
      "tags": []
     },
     "output_type": "execute_result"
    }
   ],
   "source": [
    "kevin['grandparent_category_name'].value_counts()"
   ]
  },
  {
   "cell_type": "code",
   "execution_count": null,
   "metadata": {
    "colab": {
     "base_uri": "https://localhost:8080/",
     "height": 374
    },
    "colab_type": "code",
    "id": "T1oi8ftviDKc",
    "outputId": "e5345ab4-b7ab-4703-cdb8-c55b16627585"
   },
   "outputs": [
    {
     "data": {
      "text/plain": [
       "Shops                             458\n",
       "Transfer                          242\n",
       "Travel                            146\n",
       "Service                           118\n",
       "Food and Beverage Store           113\n",
       "Third Party                        88\n",
       "Restaurants                        55\n",
       "Food and Drink                     54\n",
       "Financial                          18\n",
       "Computers and Electronics          18\n",
       "Community                          11\n",
       "Car Service                        10\n",
       "Automotive                          9\n",
       "Bank Fees                           6\n",
       "Utilities                           5\n",
       "Food and Beverage                   3\n",
       "Recreation                          2\n",
       "Payment                             2\n",
       "Clothing and Accessories            1\n",
       "Organizations and Associations      1\n",
       "Name: parent_category_name, dtype: int64"
      ]
     },
     "execution_count": 122,
     "metadata": {
      "tags": []
     },
     "output_type": "execute_result"
    }
   ],
   "source": [
    "kevin['parent_category_name'].value_counts()"
   ]
  },
  {
   "cell_type": "markdown",
   "metadata": {
    "colab_type": "text",
    "id": "nxFy_jduvIh7"
   },
   "source": [
    "### Clean the user's data "
   ]
  },
  {
   "cell_type": "code",
   "execution_count": null,
   "metadata": {
    "colab": {
     "base_uri": "https://localhost:8080/",
     "height": 419
    },
    "colab_type": "code",
    "id": "i0eNqAXqiq95",
    "outputId": "01ebe6be-d3aa-4889-c341-98403fd0e12d"
   },
   "outputs": [
    {
     "data": {
      "text/html": [
       "<div>\n",
       "<style scoped>\n",
       "    .dataframe tbody tr th:only-of-type {\n",
       "        vertical-align: middle;\n",
       "    }\n",
       "\n",
       "    .dataframe tbody tr th {\n",
       "        vertical-align: top;\n",
       "    }\n",
       "\n",
       "    .dataframe thead th {\n",
       "        text-align: right;\n",
       "    }\n",
       "</style>\n",
       "<table border=\"1\" class=\"dataframe\">\n",
       "  <thead>\n",
       "    <tr style=\"text-align: right;\">\n",
       "      <th></th>\n",
       "      <th>plaid_account_id</th>\n",
       "      <th>category_name</th>\n",
       "      <th>parent_category_name</th>\n",
       "      <th>grandparent_category_name</th>\n",
       "      <th>amount_cents</th>\n",
       "      <th>date</th>\n",
       "    </tr>\n",
       "  </thead>\n",
       "  <tbody>\n",
       "    <tr>\n",
       "      <th>3694</th>\n",
       "      <td>1635ob1dkQIz1QMjLmBpt0E36VyM96ImeyrgZ</td>\n",
       "      <td>Supermarkets and Groceries</td>\n",
       "      <td>Food and Beverage Store</td>\n",
       "      <td>Food</td>\n",
       "      <td>1039</td>\n",
       "      <td>2020-08-06 05:58:00</td>\n",
       "    </tr>\n",
       "    <tr>\n",
       "      <th>3695</th>\n",
       "      <td>1635ob1dkQIz1QMjLmBpt0E36VyM96ImeyrgZ</td>\n",
       "      <td>Gas Stations</td>\n",
       "      <td>Travel</td>\n",
       "      <td>Transportation</td>\n",
       "      <td>400</td>\n",
       "      <td>2020-08-06 05:58:00</td>\n",
       "    </tr>\n",
       "    <tr>\n",
       "      <th>3696</th>\n",
       "      <td>1635ob1dkQIz1QMjLmBpt0E36VyM96ImeyrgZ</td>\n",
       "      <td>Supermarkets and Groceries</td>\n",
       "      <td>Food and Beverage Store</td>\n",
       "      <td>Food</td>\n",
       "      <td>2624</td>\n",
       "      <td>2020-08-06 05:58:00</td>\n",
       "    </tr>\n",
       "    <tr>\n",
       "      <th>3698</th>\n",
       "      <td>1635ob1dkQIz1QMjLmBpt0E36VyM96ImeyrgZ</td>\n",
       "      <td>Loans and Mortgages</td>\n",
       "      <td>Financial</td>\n",
       "      <td>Financial</td>\n",
       "      <td>14300</td>\n",
       "      <td>2020-08-05 05:41:00</td>\n",
       "    </tr>\n",
       "    <tr>\n",
       "      <th>3700</th>\n",
       "      <td>1635ob1dkQIz1QMjLmBpt0E36VyM96ImeyrgZ</td>\n",
       "      <td>Fast Food</td>\n",
       "      <td>Restaurants</td>\n",
       "      <td>Food</td>\n",
       "      <td>1589</td>\n",
       "      <td>2020-08-05 05:41:00</td>\n",
       "    </tr>\n",
       "    <tr>\n",
       "      <th>...</th>\n",
       "      <td>...</td>\n",
       "      <td>...</td>\n",
       "      <td>...</td>\n",
       "      <td>...</td>\n",
       "      <td>...</td>\n",
       "      <td>...</td>\n",
       "    </tr>\n",
       "    <tr>\n",
       "      <th>5048</th>\n",
       "      <td>1635ob1dkQIz1QMjLmBpt0E36VyM96ImeyrgZ</td>\n",
       "      <td>Shops</td>\n",
       "      <td>Shops</td>\n",
       "      <td>Shopping</td>\n",
       "      <td>1089</td>\n",
       "      <td>2020-03-08 01:47:00</td>\n",
       "    </tr>\n",
       "    <tr>\n",
       "      <th>5049</th>\n",
       "      <td>1635ob1dkQIz1QMjLmBpt0E36VyM96ImeyrgZ</td>\n",
       "      <td>Shops</td>\n",
       "      <td>Shops</td>\n",
       "      <td>Shopping</td>\n",
       "      <td>777</td>\n",
       "      <td>2020-03-08 01:47:00</td>\n",
       "    </tr>\n",
       "    <tr>\n",
       "      <th>5050</th>\n",
       "      <td>1635ob1dkQIz1QMjLmBpt0E36VyM96ImeyrgZ</td>\n",
       "      <td>Pets</td>\n",
       "      <td>Shops</td>\n",
       "      <td>Shopping</td>\n",
       "      <td>5000</td>\n",
       "      <td>2020-03-08 01:47:00</td>\n",
       "    </tr>\n",
       "    <tr>\n",
       "      <th>5051</th>\n",
       "      <td>1635ob1dkQIz1QMjLmBpt0E36VyM96ImeyrgZ</td>\n",
       "      <td>Restaurants</td>\n",
       "      <td>Food and Drink</td>\n",
       "      <td>Food</td>\n",
       "      <td>100</td>\n",
       "      <td>2020-03-08 01:47:00</td>\n",
       "    </tr>\n",
       "    <tr>\n",
       "      <th>5053</th>\n",
       "      <td>1635ob1dkQIz1QMjLmBpt0E36VyM96ImeyrgZ</td>\n",
       "      <td>Digital Purchase</td>\n",
       "      <td>Shops</td>\n",
       "      <td>Shopping</td>\n",
       "      <td>199</td>\n",
       "      <td>2020-03-08 01:47:00</td>\n",
       "    </tr>\n",
       "  </tbody>\n",
       "</table>\n",
       "<p>1034 rows × 6 columns</p>\n",
       "</div>"
      ],
      "text/plain": [
       "                           plaid_account_id  ...                date\n",
       "3694  1635ob1dkQIz1QMjLmBpt0E36VyM96ImeyrgZ  ... 2020-08-06 05:58:00\n",
       "3695  1635ob1dkQIz1QMjLmBpt0E36VyM96ImeyrgZ  ... 2020-08-06 05:58:00\n",
       "3696  1635ob1dkQIz1QMjLmBpt0E36VyM96ImeyrgZ  ... 2020-08-06 05:58:00\n",
       "3698  1635ob1dkQIz1QMjLmBpt0E36VyM96ImeyrgZ  ... 2020-08-05 05:41:00\n",
       "3700  1635ob1dkQIz1QMjLmBpt0E36VyM96ImeyrgZ  ... 2020-08-05 05:41:00\n",
       "...                                     ...  ...                 ...\n",
       "5048  1635ob1dkQIz1QMjLmBpt0E36VyM96ImeyrgZ  ... 2020-03-08 01:47:00\n",
       "5049  1635ob1dkQIz1QMjLmBpt0E36VyM96ImeyrgZ  ... 2020-03-08 01:47:00\n",
       "5050  1635ob1dkQIz1QMjLmBpt0E36VyM96ImeyrgZ  ... 2020-03-08 01:47:00\n",
       "5051  1635ob1dkQIz1QMjLmBpt0E36VyM96ImeyrgZ  ... 2020-03-08 01:47:00\n",
       "5053  1635ob1dkQIz1QMjLmBpt0E36VyM96ImeyrgZ  ... 2020-03-08 01:47:00\n",
       "\n",
       "[1034 rows x 6 columns]"
      ]
     },
     "execution_count": 123,
     "metadata": {
      "tags": []
     },
     "output_type": "execute_result"
    }
   ],
   "source": [
    "# Remove transfers and income (i.e. non-spending transactions)\n",
    "\n",
    "kevin_expenses = kevin[ (kevin['grandparent_category_name'] != 'Transfers') & (kevin['amount_cents'] > 0)]\n",
    "kevin_expenses"
   ]
  },
  {
   "cell_type": "code",
   "execution_count": null,
   "metadata": {
    "colab": {
     "base_uri": "https://localhost:8080/",
     "height": 153
    },
    "colab_type": "code",
    "id": "VLEJO88vkZPx",
    "outputId": "1b6a5d3f-a274-43f1-e10d-bf74d8efefd9"
   },
   "outputs": [
    {
     "name": "stderr",
     "output_type": "stream",
     "text": [
      "/usr/local/lib/python3.6/dist-packages/ipykernel_launcher.py:2: SettingWithCopyWarning:\n",
      "\n",
      "\n",
      "A value is trying to be set on a copy of a slice from a DataFrame.\n",
      "Try using .loc[row_indexer,col_indexer] = value instead\n",
      "\n",
      "See the caveats in the documentation: https://pandas.pydata.org/pandas-docs/stable/user_guide/indexing.html#returning-a-view-versus-a-copy\n",
      "\n"
     ]
    }
   ],
   "source": [
    "# Add a dollar spent column\n",
    "kevin_expenses['amount_dollars'] = kevin_expenses['amount_cents'] / 100"
   ]
  },
  {
   "cell_type": "code",
   "execution_count": null,
   "metadata": {
    "colab": {
     "base_uri": "https://localhost:8080/",
     "height": 204
    },
    "colab_type": "code",
    "id": "j-ga-AuinAGQ",
    "outputId": "ec049b23-7ed7-4a63-fe6c-5802d92035e0"
   },
   "outputs": [
    {
     "data": {
      "text/html": [
       "<div>\n",
       "<style scoped>\n",
       "    .dataframe tbody tr th:only-of-type {\n",
       "        vertical-align: middle;\n",
       "    }\n",
       "\n",
       "    .dataframe tbody tr th {\n",
       "        vertical-align: top;\n",
       "    }\n",
       "\n",
       "    .dataframe thead th {\n",
       "        text-align: right;\n",
       "    }\n",
       "</style>\n",
       "<table border=\"1\" class=\"dataframe\">\n",
       "  <thead>\n",
       "    <tr style=\"text-align: right;\">\n",
       "      <th></th>\n",
       "      <th>plaid_account_id</th>\n",
       "      <th>category_name</th>\n",
       "      <th>parent_category_name</th>\n",
       "      <th>grandparent_category_name</th>\n",
       "      <th>amount_cents</th>\n",
       "      <th>date</th>\n",
       "      <th>amount_dollars</th>\n",
       "    </tr>\n",
       "  </thead>\n",
       "  <tbody>\n",
       "    <tr>\n",
       "      <th>3694</th>\n",
       "      <td>1635ob1dkQIz1QMjLmBpt0E36VyM96ImeyrgZ</td>\n",
       "      <td>Supermarkets and Groceries</td>\n",
       "      <td>Food and Beverage Store</td>\n",
       "      <td>Food</td>\n",
       "      <td>1039</td>\n",
       "      <td>2020-08-06 05:58:00</td>\n",
       "      <td>10.39</td>\n",
       "    </tr>\n",
       "    <tr>\n",
       "      <th>3695</th>\n",
       "      <td>1635ob1dkQIz1QMjLmBpt0E36VyM96ImeyrgZ</td>\n",
       "      <td>Gas Stations</td>\n",
       "      <td>Travel</td>\n",
       "      <td>Transportation</td>\n",
       "      <td>400</td>\n",
       "      <td>2020-08-06 05:58:00</td>\n",
       "      <td>4.00</td>\n",
       "    </tr>\n",
       "    <tr>\n",
       "      <th>3696</th>\n",
       "      <td>1635ob1dkQIz1QMjLmBpt0E36VyM96ImeyrgZ</td>\n",
       "      <td>Supermarkets and Groceries</td>\n",
       "      <td>Food and Beverage Store</td>\n",
       "      <td>Food</td>\n",
       "      <td>2624</td>\n",
       "      <td>2020-08-06 05:58:00</td>\n",
       "      <td>26.24</td>\n",
       "    </tr>\n",
       "    <tr>\n",
       "      <th>3698</th>\n",
       "      <td>1635ob1dkQIz1QMjLmBpt0E36VyM96ImeyrgZ</td>\n",
       "      <td>Loans and Mortgages</td>\n",
       "      <td>Financial</td>\n",
       "      <td>Financial</td>\n",
       "      <td>14300</td>\n",
       "      <td>2020-08-05 05:41:00</td>\n",
       "      <td>143.00</td>\n",
       "    </tr>\n",
       "    <tr>\n",
       "      <th>3700</th>\n",
       "      <td>1635ob1dkQIz1QMjLmBpt0E36VyM96ImeyrgZ</td>\n",
       "      <td>Fast Food</td>\n",
       "      <td>Restaurants</td>\n",
       "      <td>Food</td>\n",
       "      <td>1589</td>\n",
       "      <td>2020-08-05 05:41:00</td>\n",
       "      <td>15.89</td>\n",
       "    </tr>\n",
       "  </tbody>\n",
       "</table>\n",
       "</div>"
      ],
      "text/plain": [
       "                           plaid_account_id  ... amount_dollars\n",
       "3694  1635ob1dkQIz1QMjLmBpt0E36VyM96ImeyrgZ  ...          10.39\n",
       "3695  1635ob1dkQIz1QMjLmBpt0E36VyM96ImeyrgZ  ...           4.00\n",
       "3696  1635ob1dkQIz1QMjLmBpt0E36VyM96ImeyrgZ  ...          26.24\n",
       "3698  1635ob1dkQIz1QMjLmBpt0E36VyM96ImeyrgZ  ...         143.00\n",
       "3700  1635ob1dkQIz1QMjLmBpt0E36VyM96ImeyrgZ  ...          15.89\n",
       "\n",
       "[5 rows x 7 columns]"
      ]
     },
     "execution_count": 126,
     "metadata": {
      "tags": []
     },
     "output_type": "execute_result"
    }
   ],
   "source": [
    "kevin_expenses.head()"
   ]
  },
  {
   "cell_type": "markdown",
   "metadata": {
    "colab_type": "text",
    "id": "8_6uyeD7viZM"
   },
   "source": [
    "### Visualize"
   ]
  },
  {
   "cell_type": "code",
   "execution_count": null,
   "metadata": {
    "colab": {
     "base_uri": "https://localhost:8080/",
     "height": 542
    },
    "colab_type": "code",
    "id": "55PLrO3chUDp",
    "outputId": "2a3771f5-2a2f-446c-abeb-ecf33fd4b3c8"
   },
   "outputs": [
    {
     "data": {
      "text/html": [
       "<html>\n",
       "<head><meta charset=\"utf-8\" /></head>\n",
       "<body>\n",
       "    <div>\n",
       "            <script src=\"https://cdnjs.cloudflare.com/ajax/libs/mathjax/2.7.5/MathJax.js?config=TeX-AMS-MML_SVG\"></script><script type=\"text/javascript\">if (window.MathJax) {MathJax.Hub.Config({SVG: {font: \"STIX-Web\"}});}</script>\n",
       "                <script type=\"text/javascript\">window.PlotlyConfig = {MathJaxConfig: 'local'};</script>\n",
       "        <script src=\"https://cdn.plot.ly/plotly-latest.min.js\"></script>    \n",
       "            <div id=\"3f0c3ff5-d891-4765-a0af-1fd710238464\" class=\"plotly-graph-div\" style=\"height:525px; width:100%;\"></div>\n",
       "            <script type=\"text/javascript\">\n",
       "                \n",
       "                    window.PLOTLYENV=window.PLOTLYENV || {};\n",
       "                    \n",
       "                if (document.getElementById(\"3f0c3ff5-d891-4765-a0af-1fd710238464\")) {\n",
       "                    Plotly.newPlot(\n",
       "                        '3f0c3ff5-d891-4765-a0af-1fd710238464',\n",
       "                        [{\"domain\": {\"x\": [0.0, 1.0], \"y\": [0.0, 1.0]}, \"hoverlabel\": {\"namelength\": 0}, \"hovertemplate\": \"grandparent_category_name=%{label}<br>amount_dollars=%{value}\", \"labels\": [\"Food\", \"Transportation\", \"Food\", \"Financial\", \"Food\", \"Utilities\", \"Shopping\", \"Transportation\", \"Transportation\", \"Utilities\", \"Shopping\", \"Shopping\", \"Shopping\", \"Shopping\", \"Shopping\", \"Shopping\", \"Food\", \"Food\", \"Food\", \"Food\", \"Transportation\", \"Food\", \"Food\", \"Shopping\", \"Financial\", \"Utilities\", \"Food\", \"Shopping\", \"Shopping\", \"Food\", \"Shopping\", \"Food\", \"Transportation\", \"Food\", \"Shopping\", \"Transportation\", \"Shopping\", \"Food\", \"Shopping\", \"Food\", \"Utilities\", \"Utilities\", \"Shopping\", \"Food\", \"Shopping\", \"Food\", \"Transportation\", \"Food\", \"Food\", \"Transportation\", \"Food\", \"Shopping\", \"Shopping\", \"Food\", \"Shopping\", \"Food\", \"Utilities\", \"Food\", \"Transportation\", \"Food\", \"Food\", \"Transportation\", \"Food\", \"Shopping\", \"Food\", \"Shopping\", \"Food\", \"Food\", \"Food\", \"Shopping\", \"Shopping\", \"Food\", \"Shopping\", \"Food\", \"Food\", \"Food\", \"Shopping\", \"Utilities\", \"Utilities\", \"Shopping\", \"Transportation\", \"Food\", \"Shopping\", \"Food\", \"Shopping\", \"Shopping\", \"Shopping\", \"Shopping\", \"Shopping\", \"Transportation\", \"Transportation\", \"Transportation\", \"Transportation\", \"Utilities\", \"Shopping\", \"Food\", \"Food\", \"Transportation\", \"Shopping\", \"Shopping\", \"Food\", \"Shopping\", \"Shopping\", \"Shopping\", \"Shopping\", \"Food\", \"Transportation\", \"Auto\", \"Utilities\", \"Utilities\", \"Financial\", \"Financial\", \"Financial\", \"Shopping\", \"Food\", \"Shopping\", \"Food\", \"Transportation\", \"Shopping\", \"Food\", \"Shopping\", \"Utilities\", \"Transportation\", \"Shopping\", \"Food\", \"Food\", \"Food\", \"Transportation\", \"Shopping\", \"Food\", \"Food\", \"Food\", \"Food\", \"Food\", \"Shopping\", \"Shopping\", \"Food\", \"Shopping\", \"Shopping\", \"Transportation\", \"Transportation\", \"Transportation\", \"Transportation\", \"Transportation\", \"Shopping\", \"Shopping\", \"Shopping\", \"Shopping\", \"Shopping\", \"Shopping\", \"Food\", \"Financial\", \"Food\", \"Utilities\", \"Shopping\", \"Shopping\", \"Shopping\", \"Shopping\", \"Shopping\", \"Shopping\", \"Shopping\", \"Food\", \"Food\", \"Food\", \"Shopping\", \"Shopping\", \"Shopping\", \"Food\", \"Utilities\", \"Utilities\", \"Food\", \"Transportation\", \"Utilities\", \"Food\", \"Food\", \"Transportation\", \"Transportation\", \"Shopping\", \"Utilities\", \"Shopping\", \"Food\", \"Food\", \"Transportation\", \"Shopping\", \"Shopping\", \"Food\", \"Food\", \"Food\", \"Transportation\", \"Transportation\", \"Shopping\", \"Shopping\", \"Shopping\", \"Food\", \"Shopping\", \"Shopping\", \"Shopping\", \"Shopping\", \"Food\", \"Food\", \"Food\", \"Food\", \"Food\", \"Food\", \"Utilities\", \"Utilities\", \"Food\", \"Food\", \"Food\", \"Food\", \"Transportation\", \"Shopping\", \"Food\", \"Shopping\", \"Food\", \"Transportation\", \"Transportation\", \"Food\", \"Transportation\", \"Shopping\", \"Shopping\", \"Food\", \"Utilities\", \"Shopping\", \"Food\", \"Transportation\", \"Transportation\", \"Transportation\", \"Food\", \"Food\", \"Shopping\", \"Food\", \"Shopping\", \"Food\", \"Shopping\", \"Food\", \"Food\", \"Utilities\", \"Shopping\", \"Transportation\", \"Food\", \"Shopping\", \"Shopping\", \"Shopping\", \"Shopping\", \"Food\", \"Food\", \"Transportation\", \"Transportation\", \"Food\", \"Transportation\", \"Shopping\", \"Utilities\", \"Shopping\", \"Utilities\", \"Shopping\", \"Shopping\", \"Shopping\", \"Shopping\", \"Transportation\", \"Transportation\", \"Food\", \"Shopping\", \"Shopping\", \"Shopping\", \"Financial\", \"Shopping\", \"Shopping\", \"Food\", \"Transportation\", \"Food\", \"Transportation\", \"Transportation\", \"Shopping\", \"Shopping\", \"Transportation\", \"Transportation\", \"Shopping\", \"Shopping\", \"Food\", \"Food\", \"Financial\", \"Transportation\", \"Utilities\", \"Auto\", \"Utilities\", \"Utilities\", \"Transportation\", \"Transportation\", \"Transportation\", \"Shopping\", \"Shopping\", \"Shopping\", \"Shopping\", \"Shopping\", \"Shopping\", \"Shopping\", \"Shopping\", \"Shopping\", \"Shopping\", \"Food\", \"Utilities\", \"Transportation\", \"Transportation\", \"Transportation\", \"Utilities\", \"Food\", \"Shopping\", \"Transportation\", \"Transportation\", \"Transportation\", \"Transportation\", \"Transportation\", \"Transportation\", \"Utilities\", \"Utilities\", \"Shopping\", \"Shopping\", \"Food\", \"Shopping\", \"Shopping\", \"Shopping\", \"Shopping\", \"Shopping\", \"Shopping\", \"Shopping\", \"Transportation\", \"Transportation\", \"Shopping\", \"Transportation\", \"Transportation\", \"Shopping\", \"Shopping\", \"Shopping\", \"Shopping\", \"Shopping\", \"Shopping\", \"Shopping\", \"Transportation\", \"Transportation\", \"Food\", \"Transportation\", \"Shopping\", \"Shopping\", \"Shopping\", \"Shopping\", \"Transportation\", \"Shopping\", \"Shopping\", \"Shopping\", \"Transportation\", \"Auto\", \"Utilities\", \"Food\", \"Shopping\", \"Shopping\", \"Shopping\", \"Shopping\", \"Shopping\", \"Transportation\", \"Transportation\", \"Food\", \"Utilities\", \"Utilities\", \"Transportation\", \"Transportation\", \"Transportation\", \"Utilities\", \"Shopping\", \"Shopping\", \"Utilities\", \"Transportation\", \"Transportation\", \"Transportation\", \"Utilities\", \"Utilities\", \"Shopping\", \"Shopping\", \"Transportation\", \"Transportation\", \"Shopping\", \"Shopping\", \"Utilities\", \"Utilities\", \"Shopping\", \"Shopping\", \"Shopping\", \"Shopping\", \"Shopping\", \"Shopping\", \"Shopping\", \"Shopping\", \"Shopping\", \"Utilities\", \"Utilities\", \"Shopping\", \"Utilities\", \"Shopping\", \"Shopping\", \"Utilities\", \"Utilities\", \"Shopping\", \"Shopping\", \"Food\", \"Shopping\", \"Shopping\", \"Food\", \"Utilities\", \"Utilities\", \"Food\", \"Food\", \"Transportation\", \"Shopping\", \"Transportation\", \"Shopping\", \"Food\", \"Utilities\", \"Food\", \"Food\", \"Transportation\", \"Transportation\", \"Utilities\", \"Financial\", \"Utilities\", \"Transportation\", \"Shopping\", \"Utilities\", \"Shopping\", \"Utilities\", \"Shopping\", \"Food\", \"Transportation\", \"Transportation\", \"Transportation\", \"Food\", \"Shopping\", \"Shopping\", \"Food\", \"Transportation\", \"Utilities\", \"Transportation\", \"Transportation\", \"Shopping\", \"Utilities\", \"Shopping\", \"Shopping\", \"Shopping\", \"Shopping\", \"Shopping\", \"Shopping\", \"Shopping\", \"Food\", \"Food\", \"Shopping\", \"Food\", \"Food\", \"Utilities\", \"Utilities\", \"Transportation\", \"Transportation\", \"Transportation\", \"Food\", \"Shopping\", \"Shopping\", \"Shopping\", \"Shopping\", \"Shopping\", \"Shopping\", \"Utilities\", \"Transportation\", \"Food\", \"Food\", \"Shopping\", \"Shopping\", \"Shopping\", \"Shopping\", \"Shopping\", \"Shopping\", \"Shopping\", \"Shopping\", \"Shopping\", \"Shopping\", \"Shopping\", \"Food\", \"Shopping\", \"Shopping\", \"Shopping\", \"Shopping\", \"Transportation\", \"Shopping\", \"Shopping\", \"Shopping\", \"Shopping\", \"Shopping\", \"Shopping\", \"Shopping\", \"Utilities\", \"Shopping\", \"Shopping\", \"Food\", \"Shopping\", \"Shopping\", \"Transportation\", \"Food\", \"Shopping\", \"Utilities\", \"Shopping\", \"Shopping\", \"Transportation\", \"Shopping\", \"Food\", \"Shopping\", \"Utilities\", \"Shopping\", \"Shopping\", \"Food\", \"Shopping\", \"Shopping\", \"Utilities\", \"Shopping\", \"Shopping\", \"Food\", \"Food\", \"Shopping\", \"Utilities\", \"Shopping\", \"Food\", \"Shopping\", \"Shopping\", \"Shopping\", \"Shopping\", \"Shopping\", \"Shopping\", \"Food\", \"Food\", \"Shopping\", \"Utilities\", \"Shopping\", \"Shopping\", \"Shopping\", \"Shopping\", \"Financial\", \"Financial\", \"Utilities\", \"Transportation\", \"Shopping\", \"Shopping\", \"Financial\", \"Food\", \"Utilities\", \"Utilities\", \"Financial\", \"Utilities\", \"Shopping\", \"Utilities\", \"Food\", \"Food\", \"Food\", \"Shopping\", \"Utilities\", \"Utilities\", \"Shopping\", \"Shopping\", \"Shopping\", \"Food\", \"Shopping\", \"Shopping\", \"Shopping\", \"Shopping\", \"Food\", \"Shopping\", \"Shopping\", \"Food\", \"Utilities\", \"Shopping\", \"Shopping\", \"Food\", \"Food\", \"Shopping\", \"Transportation\", \"Shopping\", \"Shopping\", \"Shopping\", \"Transportation\", \"Shopping\", \"Food\", \"Shopping\", \"Utilities\", \"Transportation\", \"Shopping\", \"Shopping\", \"Transportation\", \"Shopping\", \"Shopping\", \"Utilities\", \"Shopping\", \"Transportation\", \"Transportation\", \"Transportation\", \"Govt Agencies\", \"Govt Agencies\", \"Transportation\", \"Food\", \"Food\", \"Food\", \"Shopping\", \"Transportation\", \"Transportation\", \"Transportation\", \"Food\", \"Food\", \"Shopping\", \"Shopping\", \"Shopping\", \"Shopping\", \"Shopping\", \"Utilities\", \"Utilities\", \"Utilities\", \"Shopping\", \"Shopping\", \"Shopping\", \"Utilities\", \"Recreation\", \"Shopping\", \"Shopping\", \"Shopping\", \"Utilities\", \"Utilities\", \"Financial\", \"Financial\", \"Financial\", \"Shopping\", \"Utilities\", \"Utilities\", \"Shopping\", \"Shopping\", \"Shopping\", \"Food\", \"Food\", \"Utilities\", \"Shopping\", \"Shopping\", \"Transportation\", \"Food\", \"Food\", \"Shopping\", \"Shopping\", \"Transportation\", \"Shopping\", \"Shopping\", \"Transportation\", \"Food\", \"Financial\", \"Financial\", \"Utilities\", \"Food\", \"Shopping\", \"Utilities\", \"Food\", \"Shopping\", \"Shopping\", \"Shopping\", \"Shopping\", \"Shopping\", \"Shopping\", \"Shopping\", \"Shopping\", \"Transportation\", \"Shopping\", \"Shopping\", \"Shopping\", \"Transportation\", \"Shopping\", \"Food\", \"Shopping\", \"Food\", \"Shopping\", \"Shopping\", \"Shopping\", \"Transportation\", \"Transportation\", \"Food\", \"Shopping\", \"Transportation\", \"Shopping\", \"Shopping\", \"Shopping\", \"Food\", \"Shopping\", \"Shopping\", \"Utilities\", \"Utilities\", \"Food\", \"Shopping\", \"Food\", \"Food\", \"Shopping\", \"Shopping\", \"Shopping\", \"Food\", \"Shopping\", \"Shopping\", \"Shopping\", \"Utilities\", \"Food\", \"Food\", \"Utilities\", \"Shopping\", \"Shopping\", \"Shopping\", \"Shopping\", \"Shopping\", \"Shopping\", \"Financial\", \"Financial\", \"Financial\", \"Utilities\", \"Financial\", \"Financial\", \"Shopping\", \"Food\", \"Shopping\", \"Food\", \"Shopping\", \"Food\", \"Utilities\", \"Food\", \"Shopping\", \"Shopping\", \"Shopping\", \"Utilities\", \"Utilities\", \"Shopping\", \"Shopping\", \"Shopping\", \"Shopping\", \"Food\", \"Food\", \"Shopping\", \"Food\", \"Shopping\", \"Auto\", \"Shopping\", \"Shopping\", \"Shopping\", \"Shopping\", \"Shopping\", \"Transportation\", \"Transportation\", \"Shopping\", \"Food\", \"Financial\", \"Shopping\", \"Shopping\", \"Food\", \"Transportation\", \"Shopping\", \"Shopping\", \"Shopping\", \"Shopping\", \"Transportation\", \"Transportation\", \"Food\", \"Food\", \"Food\", \"Shopping\", \"Shopping\", \"Food\", \"Transportation\", \"Shopping\", \"Food\", \"Food\", \"Food\", \"Transportation\", \"Shopping\", \"Transportation\", \"Food\", \"Food\", \"Shopping\", \"Shopping\", \"Shopping\", \"Food\", \"Utilities\", \"Food\", \"Shopping\", \"Shopping\", \"Utilities\", \"Shopping\", \"Auto\", \"Utilities\", \"Shopping\", \"Transportation\", \"Shopping\", \"Shopping\", \"Shopping\", \"Shopping\", \"Shopping\", \"Financial\", \"Auto\", \"Shopping\", \"Utilities\", \"Shopping\", \"Food\", \"Shopping\", \"Shopping\", \"Shopping\", \"Shopping\", \"Food\", \"Shopping\", \"Other\", \"Shopping\", \"Financial\", \"Financial\", \"Food\", \"Food\", \"Financial\", \"Shopping\", \"Shopping\", \"Shopping\", \"Shopping\", \"Shopping\", \"Shopping\", \"Shopping\", \"Shopping\", \"Utilities\", \"Utilities\", \"Utilities\", \"Food\", \"Utilities\", \"Food\", \"Food\", \"Transportation\", \"Transportation\", \"Transportation\", \"Food\", \"Food\", \"Food\", \"Auto\", \"Auto\", \"Food\", \"Shopping\", \"Food\", \"Utilities\", \"Transportation\", \"Transportation\", \"Financial\", \"Utilities\", \"Food\", \"Transportation\", \"Transportation\", \"Transportation\", \"Shopping\", \"Food\", \"Financial\", \"Financial\", \"Utilities\", \"Financial\", \"Financial\", \"Financial\", \"Financial\", \"Financial\", \"Financial\", \"Food\", \"Financial\", \"Financial\", \"Financial\", \"Financial\", \"Shopping\", \"Shopping\", \"Auto\", \"Transportation\", \"Utilities\", \"Transportation\", \"Shopping\", \"Shopping\", \"Financial\", \"Financial\", \"Financial\", \"Financial\", \"Food\", \"Financial\", \"Utilities\", \"Shopping\", \"Shopping\", \"Shopping\", \"Shopping\", \"Shopping\", \"Shopping\", \"Food\", \"Utilities\", \"Utilities\", \"Shopping\", \"Shopping\", \"Utilities\", \"Utilities\", \"Utilities\", \"Shopping\", \"Food\", \"Food\", \"Shopping\", \"Shopping\", \"Shopping\", \"Shopping\", \"Shopping\", \"Shopping\", \"Shopping\", \"Shopping\", \"Shopping\", \"Shopping\", \"Shopping\", \"Shopping\", \"Food\", \"Shopping\", \"Shopping\", \"Shopping\", \"Transportation\", \"Shopping\", \"Utilities\", \"Food\", \"Shopping\", \"Transportation\", \"Food\", \"Utilities\", \"Shopping\", \"Shopping\", \"Shopping\", \"Food\", \"Food\", \"Shopping\", \"Shopping\", \"Financial\", \"Financial\", \"Shopping\", \"Shopping\", \"Food\", \"Shopping\", \"Shopping\", \"Utilities\", \"Transportation\", \"Shopping\", \"Shopping\", \"Shopping\", \"Shopping\", \"Food\", \"Food\", \"Food\", \"Shopping\", \"Shopping\", \"Shopping\", \"Utilities\", \"Utilities\", \"Utilities\", \"Shopping\", \"Shopping\", \"Shopping\", \"Shopping\", \"Shopping\", \"Shopping\", \"Shopping\", \"Shopping\", \"Shopping\", \"Shopping\", \"Shopping\", \"Shopping\", \"Shopping\", \"Shopping\", \"Shopping\", \"Payments\", \"Transportation\", \"Food\", \"Food\", \"Shopping\", \"Shopping\", \"Shopping\", \"Shopping\", \"Utilities\", \"Transportation\", \"Transportation\", \"Food\", \"Utilities\", \"Payments\", \"Shopping\", \"Utilities\", \"Food\", \"Utilities\", \"Shopping\", \"Shopping\", \"Shopping\", \"Transportation\", \"Food\", \"Shopping\", \"Food\", \"Food\", \"Shopping\", \"Shopping\", \"Shopping\", \"Shopping\", \"Shopping\", \"Shopping\", \"Shopping\", \"Food\", \"Shopping\", \"Shopping\", \"Utilities\", \"Utilities\", \"Shopping\", \"Food\", \"Shopping\", \"Shopping\", \"Food\", \"Shopping\", \"Utilities\", \"Shopping\", \"Shopping\", \"Shopping\", \"Shopping\", \"Shopping\", \"Shopping\", \"Transportation\", \"Food\", \"Recreation\", \"Shopping\", \"Shopping\", \"Food\", \"Utilities\", \"Food\", \"Food\", \"Shopping\", \"Shopping\", \"Shopping\", \"Shopping\", \"Food\", \"Shopping\"], \"legendgroup\": \"\", \"name\": \"\", \"showlegend\": true, \"type\": \"pie\", \"values\": [10.39, 4.0, 26.24, 143.0, 15.89, 459.93, 47.06, 30.38, 2.38, 20.34, 166.0, 32.09, 21.35, 3.4, 6.41, 23.02, 9.98, 5.72, 59.82, 7.0, 7.87, 10.67, 6.42, 26.59, 65.65, 13.9, 16.48, 24.95, 22.73, 34.04, 160.0, 9.98, 10.01, 23.05, 13.99, 3.92, 5.87, 48.64, 31.0, 1.68, 83.31, 9.62, 5.0, 4.37, 53.39, 55.27, 5.37, 5.72, 8.76, 8.03, 6.27, 14.99, 7.99, 0.25, 31.68, 8.7, 4.28, 10.45, 4.81, 48.04, 12.83, 44.43, 41.44, 32.3, 20.0, 2.02, 11.54, 18.42, 30.52, 14.35, 17.69, 37.4, 18.52, 66.0, 12.84, 0.79, 6.8, 18.25, 37.25, 39.24, 7.0, 13.98, 15.49, 67.67, 16.66, 13.07, 11.74, 7.99, 38.14, 53.42, 5.06, 3.41, 1.52, 10.69, 40.0, 217.95, 3.24, 9.72, 27.07, 6.3, 4.68, 5.35, 14.99, 4.99, 4.99, 15.35, 5.53, 44.0, 1.5, 55.0, 75.0, 65.0, 63.49, 24.81, 4.56, 0.3, 28.84, 16.0, 33.12, 9.98, 20.52, 25.75, 3.23, 1.99, 19.11, 25.18, 35.81, 76.83, 4.98, 18.4, 4.68, 12.4, 2.57, 43.29, 4.99, 17.65, 12.71, 3.4, 3.4, 10.57, 8.68, 8.61, 3.1, 2.0, 1.99, 83.09, 2.87, 63.78, 42.77, 17.11, 10.74, 95.0, 32.88, 20.34, 5.35, 23.91, 15.5, 26.19, 3.0, 3.4, 6.41, 63.94, 7.84, 0.71, 17.11, 12.75, 7.21, 2.96, 21.1, 3.21, 16.33, 5.69, 4.99, 39.98, 3.01, 3.92, 12.01, 13.27, 13.9, 5.03, 63.65, 24.55, 4.0, 6.39, 6.8, 6.03, 2.41, 10.04, 1.62, 1.62, 19.5, 10.37, 7.69, 13.12, 14.09, 37.43, 34.23, 6.37, 50.71, 10.04, 12.79, 14.79, 6.45, 6.0, 9.62, 2.99, 2.0, 22.17, 10.04, 8.52, 1.62, 74.89, 6.51, 10.69, 7.13, 20.0, 3.0, 30.77, 17.02, 47.1, 7.0, 6.51, 3.21, 7.78, 8.99, 18.01, 12.33, 1.62, 5.33, 8.15, 12.95, 9.73, 8.45, 8.54, 29.84, 8.8, 11.31, 45.2, 47.06, 8.93, 5.33, 14.52, 13.86, 10.68, 7.37, 16.0, 14.74, 16.19, 1.41, 23.07, 13.0, 9.96, 3.21, 12.79, 15.05, 300.0, 3.94, 125.0, 47.06, 11.72, 1.62, 48.04, 41.72, 19.25, 12.82, 143.0, 6.99, 16.04, 1.73, 50.0, 8.49, 9.47, 19.32, 60.96, 47.06, 6.1, 5.23, 4.99, 1.99, 4.99, 4.22, 143.0, 4.44, 20.34, 30.58, 6.41, 18.25, 9.37, 3.78, 21.57, 9.99, 50.81, 19.25, 1.0, 137.1, 58.28, 19.3, 14.71, 11.8, 9.75, 44.21, 13.9, 42.13, 2.82, 16.34, 109.96, 97.78, 10.25, 57.47, 46.96, 40.7, 15.79, 3.07, 2.91, 23.17, 23.16, 18.52, 17.68, 9.61, 28.88, 14.96, 9.62, 10.31, 13.99, 0.99, 0.99, 62.04, 50.48, 5.35, 29.82, 3.25, 31.96, 21.3, 11.76, 7.48, 9.99, 5.3, 8.52, 28.45, 7.11, 123.1, 3.0, 32.09, 14.99, 9.99, 4.99, 10.32, 25.22, 6.4, 26.6, 1.62, 273.34, 23.16, 83.55, 47.91, 16.04, 7.6, 4.11, 3.4, 11.34, 10.0, 9.45, 19.66, 2.34, 15.21, 14.61, 2.79, 95.69, 4.18, 2.98, 160.0, 17.81, 15.27, 2.0, 12.3, 3.21, 10.69, 102.11, 47.17, 7.27, 5.35, 2.99, 12.99, 5.34, 59.91, 37.04, 32.09, 12.24, 1.07, 36.77, 20.32, 16.04, 11.07, 1.0, 6.61, 50.0, 1.0, 9.59, 32.09, 5.35, 143.63, 66.27, 1.99, 15.7, 20.52, 12.83, 61.63, 18.25, 81.0, 20.57, 19.22, 15.0, 4.99, 28.9, 4.99, 2.93, 10.7, 10.38, 4.82, 30.47, 3.92, 82.0, 71.0, 23.16, 4.88, 9.99, 20.34, 1.99, 6.41, 7.48, 90.95, 28.35, 17.26, 17.01, 5.72, 3.99, 11.12, 13.3, 20.11, 9.31, 8.0, 2.81, 40.0, 66.11, 13.98, 0.5, 18.18, 17.14, 16.04, 15.0, 11.21, 5.72, 8.16, 5.35, 25.05, 10.03, 12.99, 5.34, 11.4, 41.52, 3.08, 34.88, 15.19, 1.99, 87.73, 10.89, 4.99, 4.49, 3.21, 2.28, 22.32, 4.27, 19.62, 22.0, 4.32, 7.03, 1.03, 110.02, 47.06, 166.0, 4.99, 54.39, 13.79, 8.4, 5.35, 23.12, 10.0, 18.18, 0.7, 3.99, 23.35, 8.55, 65.78, 1.01, 37.96, 5.35, 3.21, 26.9, 28.88, 4.34, 6.21, 3.4, 4.29, 4.01, 17.11, 128.35, 0.85, 124.24, 2.91, 9.61, 16.64, 1.76, 69.37, 10.69, 42.0, 16.21, 12.83, 10.59, 12.99, 7.76, 1.93, 23.55, 0.47, 65.48, 5.34, 31.0, 24.23, 9.36, 15.72, 5.99, 3.99, 4.99, 11.48, 27.45, 12.41, 2.99, 205.29, 1.99, 19.23, 14.95, 9.22, 143.0, 95.0, 36.5, 0.79, 5.35, 2.99, 3.95, 6.0, 19.92, 1.0, 146.05, 11.58, 14.95, 13.9, 119.43, 7.43, 56.13, 7.24, 201.25, 3.21, 11.44, 3.99, 3.99, 5.05, 32.09, 5.34, 2.13, 5.34, 38.92, 1.51, 1.12, 6.7, 9.31, 20.44, 9.22, 18.79, 8.8, 59.48, 10.01, 28.88, 30.31, 15.24, 3.21, 2.17, 5.72, 92.83, 34.95, 20.01, 1.99, 13.47, 10.0, 21.39, 10.69, 2.99, 30.6, 42.89, 5.25, 5.0, 10.0, 1.17, 10.5, 3.38, 4.63, 4.23, 85.15, 15.02, 13.93, 1.0, 4.87, 4.88, 28.12, 0.36, 8.94, 5.35, 3.99, 34.51, 12.83, 6.41, 7.76, 4.84, 2.14, 69.37, 8.25, 16.57, 4.99, 5.0, 13.9, 69.37, 3.95, 164.96, 145.4, 20.0, 60.0, 12.81, 8.99, 26.28, 78.0, 4.28, 9.81, 1.3, 11.27, 10.0, 5.54, 50.62, 13.27, 91.51, 45.8, 3.92, 8.53, 39.69, 17.48, 1.41, 3.95, 171.05, 13.9, 6.19, 77.98, 107.33, 3.16, 88.19, 0.76, 1.99, 97.52, 82.86, 65.27, 21.03, 16.87, 34.0, 36.59, 7.34, 14.99, 3.92, 80.0, 5.2, 93.05, 6.02, 7.48, 1.96, 118.17, 7.69, 38.01, 1.62, 29.74, 5.92, 8.51, 1.07, 9.99, 23.94, 3.4, 8.09, 100.89, 62.07, 3.7, 29.99, 1.5, 9.0, 10.68, 5.34, 24.7, 6.83, 14.95, 23.41, 4.99, 30.0, 11.01, 14.0, 100.0, 10.19, 80.58, 58.85, 24.93, 5.34, 1.0, 143.0, 95.0, 50.0, 69.37, 3.95, 147.0, 3.5, 13.76, 28.83, 6.54, 21.86, 16.43, 13.9, 5.0, 16.36, 8.0, 1.99, 42.81, 12.81, 9.55, 38.5, 14.97, 17.51, 9.25, 6.09, 2.44, 18.14, 8.26, 10.0, 9.0, 17.97, 10.89, 5.35, 30.61, 16.89, 6.39, 17.0, 8.99, 24.0, 1.64, 1.99, 54.61, 30.0, 14.99, 23.01, 7.16, 60.8, 42.37, 7.77, 13.35, 3.99, 6.99, 9.05, 8.32, 16.05, 16.0, 7.63, 10.98, 6.74, 4.84, 7.84, 17.17, 40.0, 4.8, 2.5, 25.0, 3.4, 7.6, 14.88, 20.0, 10.02, 6.23, 6.8, 139.1, 1.99, 3.82, 10.69, 9.61, 2.75, 12.5, 12.5, 5.0, 2.47, 1.9, 75.0, 19.5, 9.99, 100.0, 24.59, 0.98, 84.75, 4.99, 10.19, 5.0, 13.51, 2.14, 7.19, 9.99, 143.0, 3.95, 15.29, 15.29, 171.05, 20.0, 20.0, 20.0, 20.0, 20.0, 20.0, 20.0, 20.0, 5.0, 5.0, 5.0, 10.3, 13.0, 2.1, 0.85, 7.39, 13.01, 3.38, 1.75, 20.9, 5.0, 9.52, 2.81, 18.0, 19.73, 1.85, 5.0, 7.17, 5.69, 5.0, 11.99, 1.77, 20.0, 1.99, 0.72, 6.8, 32.56, 5.0, 5.38, 11.99, 11.02, 8.66, 5.0, 5.0, 5.0, 5.0, 9.07, 5.0, 5.0, 5.0, 10.0, 7.27, 360.94, 4.96, 2.16, 16.12, 14.0, 10.51, 9.53, 10.0, 10.0, 10.0, 10.0, 15.52, 10.0, 18.69, 1.1, 20.0, 20.0, 20.0, 23.95, 5.32, 1.2, 18.25, 25.0, 24.6, 6.66, 225.44, 69.37, 66.48, 9.99, 7.36, 4.76, 50.27, 42.78, 1.99, 14.95, 7.76, 10.69, 14.99, 55.26, 32.09, 16.91, 9.14, 5.35, 5.21, 67.81, 10.19, 11.76, 3.92, 3.2, 10.69, 18.68, 38.82, 20.07, 18.16, 100.0, 8.02, 3.55, 5.34, 36.15, 4.76, 31.09, 16.91, 3.95, 171.05, 28.08, 13.9, 3.37, 68.78, 68.78, 70.13, 72.56, 8.05, 4.88, 12.57, 32.0, 5.0, 4.28, 32.42, 9.99, 2.0, 0.19, 5.0, 13.9, 12.83, 64.79, 24.04, 3.82, 1.99, 10.69, 6.8, 15.25, 14.43, 9.22, 7.76, 16.91, 12.5, 9.22, 9.22, 9.22, 0.99, 11.91, 12.23, 10.42, 43.6, 3.43, 7.72, 19.8, 13.28, 39.47, 2.08, 10.83, 13.0, 41.0, 12.95, 4.95, 12.0, 8.0, 14.95, 41.17, 5.0, 4.28, 38.0, 1.39, 24.31, 4.36, 15.78, 9.01, 45.14, 41.77, 31.21, 4.0, 2.0, 13.68, 75.88, 1.99, 301.25, 14.33, 5.34, 20.16, 31.14, 4.99, 18.55, 6.54, 10.69, 2.13, 20.3, 27.66, 13.56, 5.0, 3.99, 86.44, 4.95, 25.0, 41.23, 8.69, 9.82, 115.09, 34.42, 5.38, 46.0, 10.89, 7.77, 50.0, 1.0, 1.99]}],\n",
       "                        {\"legend\": {\"tracegroupgap\": 0}, \"template\": {\"data\": {\"bar\": [{\"error_x\": {\"color\": \"#2a3f5f\"}, \"error_y\": {\"color\": \"#2a3f5f\"}, \"marker\": {\"line\": {\"color\": \"#E5ECF6\", \"width\": 0.5}}, \"type\": \"bar\"}], \"barpolar\": [{\"marker\": {\"line\": {\"color\": \"#E5ECF6\", \"width\": 0.5}}, \"type\": \"barpolar\"}], \"carpet\": [{\"aaxis\": {\"endlinecolor\": \"#2a3f5f\", \"gridcolor\": \"white\", \"linecolor\": \"white\", \"minorgridcolor\": \"white\", \"startlinecolor\": \"#2a3f5f\"}, \"baxis\": {\"endlinecolor\": \"#2a3f5f\", \"gridcolor\": \"white\", \"linecolor\": \"white\", \"minorgridcolor\": \"white\", \"startlinecolor\": \"#2a3f5f\"}, \"type\": \"carpet\"}], \"choropleth\": [{\"colorbar\": {\"outlinewidth\": 0, \"ticks\": \"\"}, \"type\": \"choropleth\"}], \"contour\": [{\"colorbar\": {\"outlinewidth\": 0, \"ticks\": \"\"}, \"colorscale\": [[0.0, \"#0d0887\"], [0.1111111111111111, \"#46039f\"], [0.2222222222222222, \"#7201a8\"], [0.3333333333333333, \"#9c179e\"], [0.4444444444444444, \"#bd3786\"], [0.5555555555555556, \"#d8576b\"], [0.6666666666666666, \"#ed7953\"], [0.7777777777777778, \"#fb9f3a\"], [0.8888888888888888, \"#fdca26\"], [1.0, \"#f0f921\"]], \"type\": \"contour\"}], \"contourcarpet\": [{\"colorbar\": {\"outlinewidth\": 0, \"ticks\": \"\"}, \"type\": \"contourcarpet\"}], \"heatmap\": [{\"colorbar\": {\"outlinewidth\": 0, \"ticks\": \"\"}, \"colorscale\": [[0.0, \"#0d0887\"], [0.1111111111111111, \"#46039f\"], [0.2222222222222222, \"#7201a8\"], [0.3333333333333333, \"#9c179e\"], [0.4444444444444444, \"#bd3786\"], [0.5555555555555556, \"#d8576b\"], [0.6666666666666666, \"#ed7953\"], [0.7777777777777778, \"#fb9f3a\"], [0.8888888888888888, \"#fdca26\"], [1.0, \"#f0f921\"]], \"type\": \"heatmap\"}], \"heatmapgl\": [{\"colorbar\": {\"outlinewidth\": 0, \"ticks\": \"\"}, \"colorscale\": [[0.0, \"#0d0887\"], [0.1111111111111111, \"#46039f\"], [0.2222222222222222, \"#7201a8\"], [0.3333333333333333, \"#9c179e\"], [0.4444444444444444, \"#bd3786\"], [0.5555555555555556, \"#d8576b\"], [0.6666666666666666, \"#ed7953\"], [0.7777777777777778, \"#fb9f3a\"], [0.8888888888888888, \"#fdca26\"], [1.0, \"#f0f921\"]], \"type\": \"heatmapgl\"}], \"histogram\": [{\"marker\": {\"colorbar\": {\"outlinewidth\": 0, \"ticks\": \"\"}}, \"type\": \"histogram\"}], \"histogram2d\": [{\"colorbar\": {\"outlinewidth\": 0, \"ticks\": \"\"}, \"colorscale\": [[0.0, \"#0d0887\"], [0.1111111111111111, \"#46039f\"], [0.2222222222222222, \"#7201a8\"], [0.3333333333333333, \"#9c179e\"], [0.4444444444444444, \"#bd3786\"], [0.5555555555555556, \"#d8576b\"], [0.6666666666666666, \"#ed7953\"], [0.7777777777777778, \"#fb9f3a\"], [0.8888888888888888, \"#fdca26\"], [1.0, \"#f0f921\"]], \"type\": \"histogram2d\"}], \"histogram2dcontour\": [{\"colorbar\": {\"outlinewidth\": 0, \"ticks\": \"\"}, \"colorscale\": [[0.0, \"#0d0887\"], [0.1111111111111111, \"#46039f\"], [0.2222222222222222, \"#7201a8\"], [0.3333333333333333, \"#9c179e\"], [0.4444444444444444, \"#bd3786\"], [0.5555555555555556, \"#d8576b\"], [0.6666666666666666, \"#ed7953\"], [0.7777777777777778, \"#fb9f3a\"], [0.8888888888888888, \"#fdca26\"], [1.0, \"#f0f921\"]], \"type\": \"histogram2dcontour\"}], \"mesh3d\": [{\"colorbar\": {\"outlinewidth\": 0, \"ticks\": \"\"}, \"type\": \"mesh3d\"}], \"parcoords\": [{\"line\": {\"colorbar\": {\"outlinewidth\": 0, \"ticks\": \"\"}}, \"type\": \"parcoords\"}], \"pie\": [{\"automargin\": true, \"type\": \"pie\"}], \"scatter\": [{\"marker\": {\"colorbar\": {\"outlinewidth\": 0, \"ticks\": \"\"}}, \"type\": \"scatter\"}], \"scatter3d\": [{\"line\": {\"colorbar\": {\"outlinewidth\": 0, \"ticks\": \"\"}}, \"marker\": {\"colorbar\": {\"outlinewidth\": 0, \"ticks\": \"\"}}, \"type\": \"scatter3d\"}], \"scattercarpet\": [{\"marker\": {\"colorbar\": {\"outlinewidth\": 0, \"ticks\": \"\"}}, \"type\": \"scattercarpet\"}], \"scattergeo\": [{\"marker\": {\"colorbar\": {\"outlinewidth\": 0, \"ticks\": \"\"}}, \"type\": \"scattergeo\"}], \"scattergl\": [{\"marker\": {\"colorbar\": {\"outlinewidth\": 0, \"ticks\": \"\"}}, \"type\": \"scattergl\"}], \"scattermapbox\": [{\"marker\": {\"colorbar\": {\"outlinewidth\": 0, \"ticks\": \"\"}}, \"type\": \"scattermapbox\"}], \"scatterpolar\": [{\"marker\": {\"colorbar\": {\"outlinewidth\": 0, \"ticks\": \"\"}}, \"type\": \"scatterpolar\"}], \"scatterpolargl\": [{\"marker\": {\"colorbar\": {\"outlinewidth\": 0, \"ticks\": \"\"}}, \"type\": \"scatterpolargl\"}], \"scatterternary\": [{\"marker\": {\"colorbar\": {\"outlinewidth\": 0, \"ticks\": \"\"}}, \"type\": \"scatterternary\"}], \"surface\": [{\"colorbar\": {\"outlinewidth\": 0, \"ticks\": \"\"}, \"colorscale\": [[0.0, \"#0d0887\"], [0.1111111111111111, \"#46039f\"], [0.2222222222222222, \"#7201a8\"], [0.3333333333333333, \"#9c179e\"], [0.4444444444444444, \"#bd3786\"], [0.5555555555555556, \"#d8576b\"], [0.6666666666666666, \"#ed7953\"], [0.7777777777777778, \"#fb9f3a\"], [0.8888888888888888, \"#fdca26\"], [1.0, \"#f0f921\"]], \"type\": \"surface\"}], \"table\": [{\"cells\": {\"fill\": {\"color\": \"#EBF0F8\"}, \"line\": {\"color\": \"white\"}}, \"header\": {\"fill\": {\"color\": \"#C8D4E3\"}, \"line\": {\"color\": \"white\"}}, \"type\": \"table\"}]}, \"layout\": {\"annotationdefaults\": {\"arrowcolor\": \"#2a3f5f\", \"arrowhead\": 0, \"arrowwidth\": 1}, \"coloraxis\": {\"colorbar\": {\"outlinewidth\": 0, \"ticks\": \"\"}}, \"colorscale\": {\"diverging\": [[0, \"#8e0152\"], [0.1, \"#c51b7d\"], [0.2, \"#de77ae\"], [0.3, \"#f1b6da\"], [0.4, \"#fde0ef\"], [0.5, \"#f7f7f7\"], [0.6, \"#e6f5d0\"], [0.7, \"#b8e186\"], [0.8, \"#7fbc41\"], [0.9, \"#4d9221\"], [1, \"#276419\"]], \"sequential\": [[0.0, \"#0d0887\"], [0.1111111111111111, \"#46039f\"], [0.2222222222222222, \"#7201a8\"], [0.3333333333333333, \"#9c179e\"], [0.4444444444444444, \"#bd3786\"], [0.5555555555555556, \"#d8576b\"], [0.6666666666666666, \"#ed7953\"], [0.7777777777777778, \"#fb9f3a\"], [0.8888888888888888, \"#fdca26\"], [1.0, \"#f0f921\"]], \"sequentialminus\": [[0.0, \"#0d0887\"], [0.1111111111111111, \"#46039f\"], [0.2222222222222222, \"#7201a8\"], [0.3333333333333333, \"#9c179e\"], [0.4444444444444444, \"#bd3786\"], [0.5555555555555556, \"#d8576b\"], [0.6666666666666666, \"#ed7953\"], [0.7777777777777778, \"#fb9f3a\"], [0.8888888888888888, \"#fdca26\"], [1.0, \"#f0f921\"]]}, \"colorway\": [\"#636efa\", \"#EF553B\", \"#00cc96\", \"#ab63fa\", \"#FFA15A\", \"#19d3f3\", \"#FF6692\", \"#B6E880\", \"#FF97FF\", \"#FECB52\"], \"font\": {\"color\": \"#2a3f5f\"}, \"geo\": {\"bgcolor\": \"white\", \"lakecolor\": \"white\", \"landcolor\": \"#E5ECF6\", \"showlakes\": true, \"showland\": true, \"subunitcolor\": \"white\"}, \"hoverlabel\": {\"align\": \"left\"}, \"hovermode\": \"closest\", \"mapbox\": {\"style\": \"light\"}, \"paper_bgcolor\": \"white\", \"plot_bgcolor\": \"#E5ECF6\", \"polar\": {\"angularaxis\": {\"gridcolor\": \"white\", \"linecolor\": \"white\", \"ticks\": \"\"}, \"bgcolor\": \"#E5ECF6\", \"radialaxis\": {\"gridcolor\": \"white\", \"linecolor\": \"white\", \"ticks\": \"\"}}, \"scene\": {\"xaxis\": {\"backgroundcolor\": \"#E5ECF6\", \"gridcolor\": \"white\", \"gridwidth\": 2, \"linecolor\": \"white\", \"showbackground\": true, \"ticks\": \"\", \"zerolinecolor\": \"white\"}, \"yaxis\": {\"backgroundcolor\": \"#E5ECF6\", \"gridcolor\": \"white\", \"gridwidth\": 2, \"linecolor\": \"white\", \"showbackground\": true, \"ticks\": \"\", \"zerolinecolor\": \"white\"}, \"zaxis\": {\"backgroundcolor\": \"#E5ECF6\", \"gridcolor\": \"white\", \"gridwidth\": 2, \"linecolor\": \"white\", \"showbackground\": true, \"ticks\": \"\", \"zerolinecolor\": \"white\"}}, \"shapedefaults\": {\"line\": {\"color\": \"#2a3f5f\"}}, \"ternary\": {\"aaxis\": {\"gridcolor\": \"white\", \"linecolor\": \"white\", \"ticks\": \"\"}, \"baxis\": {\"gridcolor\": \"white\", \"linecolor\": \"white\", \"ticks\": \"\"}, \"bgcolor\": \"#E5ECF6\", \"caxis\": {\"gridcolor\": \"white\", \"linecolor\": \"white\", \"ticks\": \"\"}}, \"title\": {\"x\": 0.05}, \"xaxis\": {\"automargin\": true, \"gridcolor\": \"white\", \"linecolor\": \"white\", \"ticks\": \"\", \"title\": {\"standoff\": 15}, \"zerolinecolor\": \"white\", \"zerolinewidth\": 2}, \"yaxis\": {\"automargin\": true, \"gridcolor\": \"white\", \"linecolor\": \"white\", \"ticks\": \"\", \"title\": {\"standoff\": 15}, \"zerolinecolor\": \"white\", \"zerolinewidth\": 2}}}, \"title\": {\"text\": \"Kevin's Spending Habits\"}},\n",
       "                        {\"responsive\": true}\n",
       "                    ).then(function(){\n",
       "                            \n",
       "var gd = document.getElementById('3f0c3ff5-d891-4765-a0af-1fd710238464');\n",
       "var x = new MutationObserver(function (mutations, observer) {{\n",
       "        var display = window.getComputedStyle(gd).display;\n",
       "        if (!display || display === 'none') {{\n",
       "            console.log([gd, 'removed!']);\n",
       "            Plotly.purge(gd);\n",
       "            observer.disconnect();\n",
       "        }}\n",
       "}});\n",
       "\n",
       "// Listen for the removal of the full notebook cells\n",
       "var notebookContainer = gd.closest('#notebook-container');\n",
       "if (notebookContainer) {{\n",
       "    x.observe(notebookContainer, {childList: true});\n",
       "}}\n",
       "\n",
       "// Listen for the clearing of the current output cell\n",
       "var outputEl = gd.closest('.output');\n",
       "if (outputEl) {{\n",
       "    x.observe(outputEl, {childList: true});\n",
       "}}\n",
       "\n",
       "                        })\n",
       "                };\n",
       "                \n",
       "            </script>\n",
       "        </div>\n",
       "</body>\n",
       "</html>"
      ]
     },
     "metadata": {
      "tags": []
     },
     "output_type": "display_data"
    }
   ],
   "source": [
    "import plotly.express as px\n",
    "\n",
    "df = kevin_expenses\n",
    "\n",
    "fig = px.pie(df, values='amount_dollars', names='grandparent_category_name', title=\"Kevin's Spending Habits\")\n",
    "fig.show()"
   ]
  },
  {
   "cell_type": "code",
   "execution_count": null,
   "metadata": {
    "colab": {
     "base_uri": "https://localhost:8080/",
     "height": 542
    },
    "colab_type": "code",
    "id": "bxR3hYjomIGs",
    "outputId": "ef6f9275-ef1c-4495-e799-946037a353fb"
   },
   "outputs": [
    {
     "data": {
      "text/html": [
       "<html>\n",
       "<head><meta charset=\"utf-8\" /></head>\n",
       "<body>\n",
       "    <div>\n",
       "            <script src=\"https://cdnjs.cloudflare.com/ajax/libs/mathjax/2.7.5/MathJax.js?config=TeX-AMS-MML_SVG\"></script><script type=\"text/javascript\">if (window.MathJax) {MathJax.Hub.Config({SVG: {font: \"STIX-Web\"}});}</script>\n",
       "                <script type=\"text/javascript\">window.PlotlyConfig = {MathJaxConfig: 'local'};</script>\n",
       "        <script src=\"https://cdn.plot.ly/plotly-latest.min.js\"></script>    \n",
       "            <div id=\"43cbb943-35e8-4deb-b1f5-9d086618a019\" class=\"plotly-graph-div\" style=\"height:525px; width:1000px;\"></div>\n",
       "            <script type=\"text/javascript\">\n",
       "                \n",
       "                    window.PLOTLYENV=window.PLOTLYENV || {};\n",
       "                    \n",
       "                if (document.getElementById(\"43cbb943-35e8-4deb-b1f5-9d086618a019\")) {\n",
       "                    Plotly.newPlot(\n",
       "                        '43cbb943-35e8-4deb-b1f5-9d086618a019',\n",
       "                        [{\"alignmentgroup\": \"True\", \"hoverlabel\": {\"namelength\": 0}, \"hovertemplate\": \"grandparent_category_name=%{x}<br>amount_dollars=%{y}\", \"legendgroup\": \"\", \"marker\": {\"color\": \"#636efa\"}, \"name\": \"\", \"offsetgroup\": \"\", \"orientation\": \"v\", \"showlegend\": false, \"textposition\": \"auto\", \"type\": \"bar\", \"x\": [\"Food\", \"Transportation\", \"Food\", \"Financial\", \"Food\", \"Utilities\", \"Shopping\", \"Transportation\", \"Transportation\", \"Utilities\", \"Shopping\", \"Shopping\", \"Shopping\", \"Shopping\", \"Shopping\", \"Shopping\", \"Food\", \"Food\", \"Food\", \"Food\", \"Transportation\", \"Food\", \"Food\", \"Shopping\", \"Financial\", \"Utilities\", \"Food\", \"Shopping\", \"Shopping\", \"Food\", \"Shopping\", \"Food\", \"Transportation\", \"Food\", \"Shopping\", \"Transportation\", \"Shopping\", \"Food\", \"Shopping\", \"Food\", \"Utilities\", \"Utilities\", \"Shopping\", \"Food\", \"Shopping\", \"Food\", \"Transportation\", \"Food\", \"Food\", \"Transportation\", \"Food\", \"Shopping\", \"Shopping\", \"Food\", \"Shopping\", \"Food\", \"Utilities\", \"Food\", \"Transportation\", \"Food\", \"Food\", \"Transportation\", \"Food\", \"Shopping\", \"Food\", \"Shopping\", \"Food\", \"Food\", \"Food\", \"Shopping\", \"Shopping\", \"Food\", \"Shopping\", \"Food\", \"Food\", \"Food\", \"Shopping\", \"Utilities\", \"Utilities\", \"Shopping\", \"Transportation\", \"Food\", \"Shopping\", \"Food\", \"Shopping\", \"Shopping\", \"Shopping\", \"Shopping\", \"Shopping\", \"Transportation\", \"Transportation\", \"Transportation\", \"Transportation\", \"Utilities\", \"Shopping\", \"Food\", \"Food\", \"Transportation\", \"Shopping\", \"Shopping\", \"Food\", \"Shopping\", \"Shopping\", \"Shopping\", \"Shopping\", \"Food\", \"Transportation\", \"Auto\", \"Utilities\", \"Utilities\", \"Financial\", \"Financial\", \"Financial\", \"Shopping\", \"Food\", \"Shopping\", \"Food\", \"Transportation\", \"Shopping\", \"Food\", \"Shopping\", \"Utilities\", \"Transportation\", \"Shopping\", \"Food\", \"Food\", \"Food\", \"Transportation\", \"Shopping\", \"Food\", \"Food\", \"Food\", \"Food\", \"Food\", \"Shopping\", \"Shopping\", \"Food\", \"Shopping\", \"Shopping\", \"Transportation\", \"Transportation\", \"Transportation\", \"Transportation\", \"Transportation\", \"Shopping\", \"Shopping\", \"Shopping\", \"Shopping\", \"Shopping\", \"Shopping\", \"Food\", \"Financial\", \"Food\", \"Utilities\", \"Shopping\", \"Shopping\", \"Shopping\", \"Shopping\", \"Shopping\", \"Shopping\", \"Shopping\", \"Food\", \"Food\", \"Food\", \"Shopping\", \"Shopping\", \"Shopping\", \"Food\", \"Utilities\", \"Utilities\", \"Food\", \"Transportation\", \"Utilities\", \"Food\", \"Food\", \"Transportation\", \"Transportation\", \"Shopping\", \"Utilities\", \"Shopping\", \"Food\", \"Food\", \"Transportation\", \"Shopping\", \"Shopping\", \"Food\", \"Food\", \"Food\", \"Transportation\", \"Transportation\", \"Shopping\", \"Shopping\", \"Shopping\", \"Food\", \"Shopping\", \"Shopping\", \"Shopping\", \"Shopping\", \"Food\", \"Food\", \"Food\", \"Food\", \"Food\", \"Food\", \"Utilities\", \"Utilities\", \"Food\", \"Food\", \"Food\", \"Food\", \"Transportation\", \"Shopping\", \"Food\", \"Shopping\", \"Food\", \"Transportation\", \"Transportation\", \"Food\", \"Transportation\", \"Shopping\", \"Shopping\", \"Food\", \"Utilities\", \"Shopping\", \"Food\", \"Transportation\", \"Transportation\", \"Transportation\", \"Food\", \"Food\", \"Shopping\", \"Food\", \"Shopping\", \"Food\", \"Shopping\", \"Food\", \"Food\", \"Utilities\", \"Shopping\", \"Transportation\", \"Food\", \"Shopping\", \"Shopping\", \"Shopping\", \"Shopping\", \"Food\", \"Food\", \"Transportation\", \"Transportation\", \"Food\", \"Transportation\", \"Shopping\", \"Utilities\", \"Shopping\", \"Utilities\", \"Shopping\", \"Shopping\", \"Shopping\", \"Shopping\", \"Transportation\", \"Transportation\", \"Food\", \"Shopping\", \"Shopping\", \"Shopping\", \"Financial\", \"Shopping\", \"Shopping\", \"Food\", \"Transportation\", \"Food\", \"Transportation\", \"Transportation\", \"Shopping\", \"Shopping\", \"Transportation\", \"Transportation\", \"Shopping\", \"Shopping\", \"Food\", \"Food\", \"Financial\", \"Transportation\", \"Utilities\", \"Auto\", \"Utilities\", \"Utilities\", \"Transportation\", \"Transportation\", \"Transportation\", \"Shopping\", \"Shopping\", \"Shopping\", \"Shopping\", \"Shopping\", \"Shopping\", \"Shopping\", \"Shopping\", \"Shopping\", \"Shopping\", \"Food\", \"Utilities\", \"Transportation\", \"Transportation\", \"Transportation\", \"Utilities\", \"Food\", \"Shopping\", \"Transportation\", \"Transportation\", \"Transportation\", \"Transportation\", \"Transportation\", \"Transportation\", \"Utilities\", \"Utilities\", \"Shopping\", \"Shopping\", \"Food\", \"Shopping\", \"Shopping\", \"Shopping\", \"Shopping\", \"Shopping\", \"Shopping\", \"Shopping\", \"Transportation\", \"Transportation\", \"Shopping\", \"Transportation\", \"Transportation\", \"Shopping\", \"Shopping\", \"Shopping\", \"Shopping\", \"Shopping\", \"Shopping\", \"Shopping\", \"Transportation\", \"Transportation\", \"Food\", \"Transportation\", \"Shopping\", \"Shopping\", \"Shopping\", \"Shopping\", \"Transportation\", \"Shopping\", \"Shopping\", \"Shopping\", \"Transportation\", \"Auto\", \"Utilities\", \"Food\", \"Shopping\", \"Shopping\", \"Shopping\", \"Shopping\", \"Shopping\", \"Transportation\", \"Transportation\", \"Food\", \"Utilities\", \"Utilities\", \"Transportation\", \"Transportation\", \"Transportation\", \"Utilities\", \"Shopping\", \"Shopping\", \"Utilities\", \"Transportation\", \"Transportation\", \"Transportation\", \"Utilities\", \"Utilities\", \"Shopping\", \"Shopping\", \"Transportation\", \"Transportation\", \"Shopping\", \"Shopping\", \"Utilities\", \"Utilities\", \"Shopping\", \"Shopping\", \"Shopping\", \"Shopping\", \"Shopping\", \"Shopping\", \"Shopping\", \"Shopping\", \"Shopping\", \"Utilities\", \"Utilities\", \"Shopping\", \"Utilities\", \"Shopping\", \"Shopping\", \"Utilities\", \"Utilities\", \"Shopping\", \"Shopping\", \"Food\", \"Shopping\", \"Shopping\", \"Food\", \"Utilities\", \"Utilities\", \"Food\", \"Food\", \"Transportation\", \"Shopping\", \"Transportation\", \"Shopping\", \"Food\", \"Utilities\", \"Food\", \"Food\", \"Transportation\", \"Transportation\", \"Utilities\", \"Financial\", \"Utilities\", \"Transportation\", \"Shopping\", \"Utilities\", \"Shopping\", \"Utilities\", \"Shopping\", \"Food\", \"Transportation\", \"Transportation\", \"Transportation\", \"Food\", \"Shopping\", \"Shopping\", \"Food\", \"Transportation\", \"Utilities\", \"Transportation\", \"Transportation\", \"Shopping\", \"Utilities\", \"Shopping\", \"Shopping\", \"Shopping\", \"Shopping\", \"Shopping\", \"Shopping\", \"Shopping\", \"Food\", \"Food\", \"Shopping\", \"Food\", \"Food\", \"Utilities\", \"Utilities\", \"Transportation\", \"Transportation\", \"Transportation\", \"Food\", \"Shopping\", \"Shopping\", \"Shopping\", \"Shopping\", \"Shopping\", \"Shopping\", \"Utilities\", \"Transportation\", \"Food\", \"Food\", \"Shopping\", \"Shopping\", \"Shopping\", \"Shopping\", \"Shopping\", \"Shopping\", \"Shopping\", \"Shopping\", \"Shopping\", \"Shopping\", \"Shopping\", \"Food\", \"Shopping\", \"Shopping\", \"Shopping\", \"Shopping\", \"Transportation\", \"Shopping\", \"Shopping\", \"Shopping\", \"Shopping\", \"Shopping\", \"Shopping\", \"Shopping\", \"Utilities\", \"Shopping\", \"Shopping\", \"Food\", \"Shopping\", \"Shopping\", \"Transportation\", \"Food\", \"Shopping\", \"Utilities\", \"Shopping\", \"Shopping\", \"Transportation\", \"Shopping\", \"Food\", \"Shopping\", \"Utilities\", \"Shopping\", \"Shopping\", \"Food\", \"Shopping\", \"Shopping\", \"Utilities\", \"Shopping\", \"Shopping\", \"Food\", \"Food\", \"Shopping\", \"Utilities\", \"Shopping\", \"Food\", \"Shopping\", \"Shopping\", \"Shopping\", \"Shopping\", \"Shopping\", \"Shopping\", \"Food\", \"Food\", \"Shopping\", \"Utilities\", \"Shopping\", \"Shopping\", \"Shopping\", \"Shopping\", \"Financial\", \"Financial\", \"Utilities\", \"Transportation\", \"Shopping\", \"Shopping\", \"Financial\", \"Food\", \"Utilities\", \"Utilities\", \"Financial\", \"Utilities\", \"Shopping\", \"Utilities\", \"Food\", \"Food\", \"Food\", \"Shopping\", \"Utilities\", \"Utilities\", \"Shopping\", \"Shopping\", \"Shopping\", \"Food\", \"Shopping\", \"Shopping\", \"Shopping\", \"Shopping\", \"Food\", \"Shopping\", \"Shopping\", \"Food\", \"Utilities\", \"Shopping\", \"Shopping\", \"Food\", \"Food\", \"Shopping\", \"Transportation\", \"Shopping\", \"Shopping\", \"Shopping\", \"Transportation\", \"Shopping\", \"Food\", \"Shopping\", \"Utilities\", \"Transportation\", \"Shopping\", \"Shopping\", \"Transportation\", \"Shopping\", \"Shopping\", \"Utilities\", \"Shopping\", \"Transportation\", \"Transportation\", \"Transportation\", \"Govt Agencies\", \"Govt Agencies\", \"Transportation\", \"Food\", \"Food\", \"Food\", \"Shopping\", \"Transportation\", \"Transportation\", \"Transportation\", \"Food\", \"Food\", \"Shopping\", \"Shopping\", \"Shopping\", \"Shopping\", \"Shopping\", \"Utilities\", \"Utilities\", \"Utilities\", \"Shopping\", \"Shopping\", \"Shopping\", \"Utilities\", \"Recreation\", \"Shopping\", \"Shopping\", \"Shopping\", \"Utilities\", \"Utilities\", \"Financial\", \"Financial\", \"Financial\", \"Shopping\", \"Utilities\", \"Utilities\", \"Shopping\", \"Shopping\", \"Shopping\", \"Food\", \"Food\", \"Utilities\", \"Shopping\", \"Shopping\", \"Transportation\", \"Food\", \"Food\", \"Shopping\", \"Shopping\", \"Transportation\", \"Shopping\", \"Shopping\", \"Transportation\", \"Food\", \"Financial\", \"Financial\", \"Utilities\", \"Food\", \"Shopping\", \"Utilities\", \"Food\", \"Shopping\", \"Shopping\", \"Shopping\", \"Shopping\", \"Shopping\", \"Shopping\", \"Shopping\", \"Shopping\", \"Transportation\", \"Shopping\", \"Shopping\", \"Shopping\", \"Transportation\", \"Shopping\", \"Food\", \"Shopping\", \"Food\", \"Shopping\", \"Shopping\", \"Shopping\", \"Transportation\", \"Transportation\", \"Food\", \"Shopping\", \"Transportation\", \"Shopping\", \"Shopping\", \"Shopping\", \"Food\", \"Shopping\", \"Shopping\", \"Utilities\", \"Utilities\", \"Food\", \"Shopping\", \"Food\", \"Food\", \"Shopping\", \"Shopping\", \"Shopping\", \"Food\", \"Shopping\", \"Shopping\", \"Shopping\", \"Utilities\", \"Food\", \"Food\", \"Utilities\", \"Shopping\", \"Shopping\", \"Shopping\", \"Shopping\", \"Shopping\", \"Shopping\", \"Financial\", \"Financial\", \"Financial\", \"Utilities\", \"Financial\", \"Financial\", \"Shopping\", \"Food\", \"Shopping\", \"Food\", \"Shopping\", \"Food\", \"Utilities\", \"Food\", \"Shopping\", \"Shopping\", \"Shopping\", \"Utilities\", \"Utilities\", \"Shopping\", \"Shopping\", \"Shopping\", \"Shopping\", \"Food\", \"Food\", \"Shopping\", \"Food\", \"Shopping\", \"Auto\", \"Shopping\", \"Shopping\", \"Shopping\", \"Shopping\", \"Shopping\", \"Transportation\", \"Transportation\", \"Shopping\", \"Food\", \"Financial\", \"Shopping\", \"Shopping\", \"Food\", \"Transportation\", \"Shopping\", \"Shopping\", \"Shopping\", \"Shopping\", \"Transportation\", \"Transportation\", \"Food\", \"Food\", \"Food\", \"Shopping\", \"Shopping\", \"Food\", \"Transportation\", \"Shopping\", \"Food\", \"Food\", \"Food\", \"Transportation\", \"Shopping\", \"Transportation\", \"Food\", \"Food\", \"Shopping\", \"Shopping\", \"Shopping\", \"Food\", \"Utilities\", \"Food\", \"Shopping\", \"Shopping\", \"Utilities\", \"Shopping\", \"Auto\", \"Utilities\", \"Shopping\", \"Transportation\", \"Shopping\", \"Shopping\", \"Shopping\", \"Shopping\", \"Shopping\", \"Financial\", \"Auto\", \"Shopping\", \"Utilities\", \"Shopping\", \"Food\", \"Shopping\", \"Shopping\", \"Shopping\", \"Shopping\", \"Food\", \"Shopping\", \"Other\", \"Shopping\", \"Financial\", \"Financial\", \"Food\", \"Food\", \"Financial\", \"Shopping\", \"Shopping\", \"Shopping\", \"Shopping\", \"Shopping\", \"Shopping\", \"Shopping\", \"Shopping\", \"Utilities\", \"Utilities\", \"Utilities\", \"Food\", \"Utilities\", \"Food\", \"Food\", \"Transportation\", \"Transportation\", \"Transportation\", \"Food\", \"Food\", \"Food\", \"Auto\", \"Auto\", \"Food\", \"Shopping\", \"Food\", \"Utilities\", \"Transportation\", \"Transportation\", \"Financial\", \"Utilities\", \"Food\", \"Transportation\", \"Transportation\", \"Transportation\", \"Shopping\", \"Food\", \"Financial\", \"Financial\", \"Utilities\", \"Financial\", \"Financial\", \"Financial\", \"Financial\", \"Financial\", \"Financial\", \"Food\", \"Financial\", \"Financial\", \"Financial\", \"Financial\", \"Shopping\", \"Shopping\", \"Auto\", \"Transportation\", \"Utilities\", \"Transportation\", \"Shopping\", \"Shopping\", \"Financial\", \"Financial\", \"Financial\", \"Financial\", \"Food\", \"Financial\", \"Utilities\", \"Shopping\", \"Shopping\", \"Shopping\", \"Shopping\", \"Shopping\", \"Shopping\", \"Food\", \"Utilities\", \"Utilities\", \"Shopping\", \"Shopping\", \"Utilities\", \"Utilities\", \"Utilities\", \"Shopping\", \"Food\", \"Food\", \"Shopping\", \"Shopping\", \"Shopping\", \"Shopping\", \"Shopping\", \"Shopping\", \"Shopping\", \"Shopping\", \"Shopping\", \"Shopping\", \"Shopping\", \"Shopping\", \"Food\", \"Shopping\", \"Shopping\", \"Shopping\", \"Transportation\", \"Shopping\", \"Utilities\", \"Food\", \"Shopping\", \"Transportation\", \"Food\", \"Utilities\", \"Shopping\", \"Shopping\", \"Shopping\", \"Food\", \"Food\", \"Shopping\", \"Shopping\", \"Financial\", \"Financial\", \"Shopping\", \"Shopping\", \"Food\", \"Shopping\", \"Shopping\", \"Utilities\", \"Transportation\", \"Shopping\", \"Shopping\", \"Shopping\", \"Shopping\", \"Food\", \"Food\", \"Food\", \"Shopping\", \"Shopping\", \"Shopping\", \"Utilities\", \"Utilities\", \"Utilities\", \"Shopping\", \"Shopping\", \"Shopping\", \"Shopping\", \"Shopping\", \"Shopping\", \"Shopping\", \"Shopping\", \"Shopping\", \"Shopping\", \"Shopping\", \"Shopping\", \"Shopping\", \"Shopping\", \"Shopping\", \"Payments\", \"Transportation\", \"Food\", \"Food\", \"Shopping\", \"Shopping\", \"Shopping\", \"Shopping\", \"Utilities\", \"Transportation\", \"Transportation\", \"Food\", \"Utilities\", \"Payments\", \"Shopping\", \"Utilities\", \"Food\", \"Utilities\", \"Shopping\", \"Shopping\", \"Shopping\", \"Transportation\", \"Food\", \"Shopping\", \"Food\", \"Food\", \"Shopping\", \"Shopping\", \"Shopping\", \"Shopping\", \"Shopping\", \"Shopping\", \"Shopping\", \"Food\", \"Shopping\", \"Shopping\", \"Utilities\", \"Utilities\", \"Shopping\", \"Food\", \"Shopping\", \"Shopping\", \"Food\", \"Shopping\", \"Utilities\", \"Shopping\", \"Shopping\", \"Shopping\", \"Shopping\", \"Shopping\", \"Shopping\", \"Transportation\", \"Food\", \"Recreation\", \"Shopping\", \"Shopping\", \"Food\", \"Utilities\", \"Food\", \"Food\", \"Shopping\", \"Shopping\", \"Shopping\", \"Shopping\", \"Food\", \"Shopping\"], \"xaxis\": \"x\", \"y\": [10.39, 4.0, 26.24, 143.0, 15.89, 459.93, 47.06, 30.38, 2.38, 20.34, 166.0, 32.09, 21.35, 3.4, 6.41, 23.02, 9.98, 5.72, 59.82, 7.0, 7.87, 10.67, 6.42, 26.59, 65.65, 13.9, 16.48, 24.95, 22.73, 34.04, 160.0, 9.98, 10.01, 23.05, 13.99, 3.92, 5.87, 48.64, 31.0, 1.68, 83.31, 9.62, 5.0, 4.37, 53.39, 55.27, 5.37, 5.72, 8.76, 8.03, 6.27, 14.99, 7.99, 0.25, 31.68, 8.7, 4.28, 10.45, 4.81, 48.04, 12.83, 44.43, 41.44, 32.3, 20.0, 2.02, 11.54, 18.42, 30.52, 14.35, 17.69, 37.4, 18.52, 66.0, 12.84, 0.79, 6.8, 18.25, 37.25, 39.24, 7.0, 13.98, 15.49, 67.67, 16.66, 13.07, 11.74, 7.99, 38.14, 53.42, 5.06, 3.41, 1.52, 10.69, 40.0, 217.95, 3.24, 9.72, 27.07, 6.3, 4.68, 5.35, 14.99, 4.99, 4.99, 15.35, 5.53, 44.0, 1.5, 55.0, 75.0, 65.0, 63.49, 24.81, 4.56, 0.3, 28.84, 16.0, 33.12, 9.98, 20.52, 25.75, 3.23, 1.99, 19.11, 25.18, 35.81, 76.83, 4.98, 18.4, 4.68, 12.4, 2.57, 43.29, 4.99, 17.65, 12.71, 3.4, 3.4, 10.57, 8.68, 8.61, 3.1, 2.0, 1.99, 83.09, 2.87, 63.78, 42.77, 17.11, 10.74, 95.0, 32.88, 20.34, 5.35, 23.91, 15.5, 26.19, 3.0, 3.4, 6.41, 63.94, 7.84, 0.71, 17.11, 12.75, 7.21, 2.96, 21.1, 3.21, 16.33, 5.69, 4.99, 39.98, 3.01, 3.92, 12.01, 13.27, 13.9, 5.03, 63.65, 24.55, 4.0, 6.39, 6.8, 6.03, 2.41, 10.04, 1.62, 1.62, 19.5, 10.37, 7.69, 13.12, 14.09, 37.43, 34.23, 6.37, 50.71, 10.04, 12.79, 14.79, 6.45, 6.0, 9.62, 2.99, 2.0, 22.17, 10.04, 8.52, 1.62, 74.89, 6.51, 10.69, 7.13, 20.0, 3.0, 30.77, 17.02, 47.1, 7.0, 6.51, 3.21, 7.78, 8.99, 18.01, 12.33, 1.62, 5.33, 8.15, 12.95, 9.73, 8.45, 8.54, 29.84, 8.8, 11.31, 45.2, 47.06, 8.93, 5.33, 14.52, 13.86, 10.68, 7.37, 16.0, 14.74, 16.19, 1.41, 23.07, 13.0, 9.96, 3.21, 12.79, 15.05, 300.0, 3.94, 125.0, 47.06, 11.72, 1.62, 48.04, 41.72, 19.25, 12.82, 143.0, 6.99, 16.04, 1.73, 50.0, 8.49, 9.47, 19.32, 60.96, 47.06, 6.1, 5.23, 4.99, 1.99, 4.99, 4.22, 143.0, 4.44, 20.34, 30.58, 6.41, 18.25, 9.37, 3.78, 21.57, 9.99, 50.81, 19.25, 1.0, 137.1, 58.28, 19.3, 14.71, 11.8, 9.75, 44.21, 13.9, 42.13, 2.82, 16.34, 109.96, 97.78, 10.25, 57.47, 46.96, 40.7, 15.79, 3.07, 2.91, 23.17, 23.16, 18.52, 17.68, 9.61, 28.88, 14.96, 9.62, 10.31, 13.99, 0.99, 0.99, 62.04, 50.48, 5.35, 29.82, 3.25, 31.96, 21.3, 11.76, 7.48, 9.99, 5.3, 8.52, 28.45, 7.11, 123.1, 3.0, 32.09, 14.99, 9.99, 4.99, 10.32, 25.22, 6.4, 26.6, 1.62, 273.34, 23.16, 83.55, 47.91, 16.04, 7.6, 4.11, 3.4, 11.34, 10.0, 9.45, 19.66, 2.34, 15.21, 14.61, 2.79, 95.69, 4.18, 2.98, 160.0, 17.81, 15.27, 2.0, 12.3, 3.21, 10.69, 102.11, 47.17, 7.27, 5.35, 2.99, 12.99, 5.34, 59.91, 37.04, 32.09, 12.24, 1.07, 36.77, 20.32, 16.04, 11.07, 1.0, 6.61, 50.0, 1.0, 9.59, 32.09, 5.35, 143.63, 66.27, 1.99, 15.7, 20.52, 12.83, 61.63, 18.25, 81.0, 20.57, 19.22, 15.0, 4.99, 28.9, 4.99, 2.93, 10.7, 10.38, 4.82, 30.47, 3.92, 82.0, 71.0, 23.16, 4.88, 9.99, 20.34, 1.99, 6.41, 7.48, 90.95, 28.35, 17.26, 17.01, 5.72, 3.99, 11.12, 13.3, 20.11, 9.31, 8.0, 2.81, 40.0, 66.11, 13.98, 0.5, 18.18, 17.14, 16.04, 15.0, 11.21, 5.72, 8.16, 5.35, 25.05, 10.03, 12.99, 5.34, 11.4, 41.52, 3.08, 34.88, 15.19, 1.99, 87.73, 10.89, 4.99, 4.49, 3.21, 2.28, 22.32, 4.27, 19.62, 22.0, 4.32, 7.03, 1.03, 110.02, 47.06, 166.0, 4.99, 54.39, 13.79, 8.4, 5.35, 23.12, 10.0, 18.18, 0.7, 3.99, 23.35, 8.55, 65.78, 1.01, 37.96, 5.35, 3.21, 26.9, 28.88, 4.34, 6.21, 3.4, 4.29, 4.01, 17.11, 128.35, 0.85, 124.24, 2.91, 9.61, 16.64, 1.76, 69.37, 10.69, 42.0, 16.21, 12.83, 10.59, 12.99, 7.76, 1.93, 23.55, 0.47, 65.48, 5.34, 31.0, 24.23, 9.36, 15.72, 5.99, 3.99, 4.99, 11.48, 27.45, 12.41, 2.99, 205.29, 1.99, 19.23, 14.95, 9.22, 143.0, 95.0, 36.5, 0.79, 5.35, 2.99, 3.95, 6.0, 19.92, 1.0, 146.05, 11.58, 14.95, 13.9, 119.43, 7.43, 56.13, 7.24, 201.25, 3.21, 11.44, 3.99, 3.99, 5.05, 32.09, 5.34, 2.13, 5.34, 38.92, 1.51, 1.12, 6.7, 9.31, 20.44, 9.22, 18.79, 8.8, 59.48, 10.01, 28.88, 30.31, 15.24, 3.21, 2.17, 5.72, 92.83, 34.95, 20.01, 1.99, 13.47, 10.0, 21.39, 10.69, 2.99, 30.6, 42.89, 5.25, 5.0, 10.0, 1.17, 10.5, 3.38, 4.63, 4.23, 85.15, 15.02, 13.93, 1.0, 4.87, 4.88, 28.12, 0.36, 8.94, 5.35, 3.99, 34.51, 12.83, 6.41, 7.76, 4.84, 2.14, 69.37, 8.25, 16.57, 4.99, 5.0, 13.9, 69.37, 3.95, 164.96, 145.4, 20.0, 60.0, 12.81, 8.99, 26.28, 78.0, 4.28, 9.81, 1.3, 11.27, 10.0, 5.54, 50.62, 13.27, 91.51, 45.8, 3.92, 8.53, 39.69, 17.48, 1.41, 3.95, 171.05, 13.9, 6.19, 77.98, 107.33, 3.16, 88.19, 0.76, 1.99, 97.52, 82.86, 65.27, 21.03, 16.87, 34.0, 36.59, 7.34, 14.99, 3.92, 80.0, 5.2, 93.05, 6.02, 7.48, 1.96, 118.17, 7.69, 38.01, 1.62, 29.74, 5.92, 8.51, 1.07, 9.99, 23.94, 3.4, 8.09, 100.89, 62.07, 3.7, 29.99, 1.5, 9.0, 10.68, 5.34, 24.7, 6.83, 14.95, 23.41, 4.99, 30.0, 11.01, 14.0, 100.0, 10.19, 80.58, 58.85, 24.93, 5.34, 1.0, 143.0, 95.0, 50.0, 69.37, 3.95, 147.0, 3.5, 13.76, 28.83, 6.54, 21.86, 16.43, 13.9, 5.0, 16.36, 8.0, 1.99, 42.81, 12.81, 9.55, 38.5, 14.97, 17.51, 9.25, 6.09, 2.44, 18.14, 8.26, 10.0, 9.0, 17.97, 10.89, 5.35, 30.61, 16.89, 6.39, 17.0, 8.99, 24.0, 1.64, 1.99, 54.61, 30.0, 14.99, 23.01, 7.16, 60.8, 42.37, 7.77, 13.35, 3.99, 6.99, 9.05, 8.32, 16.05, 16.0, 7.63, 10.98, 6.74, 4.84, 7.84, 17.17, 40.0, 4.8, 2.5, 25.0, 3.4, 7.6, 14.88, 20.0, 10.02, 6.23, 6.8, 139.1, 1.99, 3.82, 10.69, 9.61, 2.75, 12.5, 12.5, 5.0, 2.47, 1.9, 75.0, 19.5, 9.99, 100.0, 24.59, 0.98, 84.75, 4.99, 10.19, 5.0, 13.51, 2.14, 7.19, 9.99, 143.0, 3.95, 15.29, 15.29, 171.05, 20.0, 20.0, 20.0, 20.0, 20.0, 20.0, 20.0, 20.0, 5.0, 5.0, 5.0, 10.3, 13.0, 2.1, 0.85, 7.39, 13.01, 3.38, 1.75, 20.9, 5.0, 9.52, 2.81, 18.0, 19.73, 1.85, 5.0, 7.17, 5.69, 5.0, 11.99, 1.77, 20.0, 1.99, 0.72, 6.8, 32.56, 5.0, 5.38, 11.99, 11.02, 8.66, 5.0, 5.0, 5.0, 5.0, 9.07, 5.0, 5.0, 5.0, 10.0, 7.27, 360.94, 4.96, 2.16, 16.12, 14.0, 10.51, 9.53, 10.0, 10.0, 10.0, 10.0, 15.52, 10.0, 18.69, 1.1, 20.0, 20.0, 20.0, 23.95, 5.32, 1.2, 18.25, 25.0, 24.6, 6.66, 225.44, 69.37, 66.48, 9.99, 7.36, 4.76, 50.27, 42.78, 1.99, 14.95, 7.76, 10.69, 14.99, 55.26, 32.09, 16.91, 9.14, 5.35, 5.21, 67.81, 10.19, 11.76, 3.92, 3.2, 10.69, 18.68, 38.82, 20.07, 18.16, 100.0, 8.02, 3.55, 5.34, 36.15, 4.76, 31.09, 16.91, 3.95, 171.05, 28.08, 13.9, 3.37, 68.78, 68.78, 70.13, 72.56, 8.05, 4.88, 12.57, 32.0, 5.0, 4.28, 32.42, 9.99, 2.0, 0.19, 5.0, 13.9, 12.83, 64.79, 24.04, 3.82, 1.99, 10.69, 6.8, 15.25, 14.43, 9.22, 7.76, 16.91, 12.5, 9.22, 9.22, 9.22, 0.99, 11.91, 12.23, 10.42, 43.6, 3.43, 7.72, 19.8, 13.28, 39.47, 2.08, 10.83, 13.0, 41.0, 12.95, 4.95, 12.0, 8.0, 14.95, 41.17, 5.0, 4.28, 38.0, 1.39, 24.31, 4.36, 15.78, 9.01, 45.14, 41.77, 31.21, 4.0, 2.0, 13.68, 75.88, 1.99, 301.25, 14.33, 5.34, 20.16, 31.14, 4.99, 18.55, 6.54, 10.69, 2.13, 20.3, 27.66, 13.56, 5.0, 3.99, 86.44, 4.95, 25.0, 41.23, 8.69, 9.82, 115.09, 34.42, 5.38, 46.0, 10.89, 7.77, 50.0, 1.0, 1.99], \"yaxis\": \"y\"}],\n",
       "                        {\"barmode\": \"relative\", \"legend\": {\"tracegroupgap\": 0}, \"template\": {\"data\": {\"bar\": [{\"error_x\": {\"color\": \"#2a3f5f\"}, \"error_y\": {\"color\": \"#2a3f5f\"}, \"marker\": {\"line\": {\"color\": \"#E5ECF6\", \"width\": 0.5}}, \"type\": \"bar\"}], \"barpolar\": [{\"marker\": {\"line\": {\"color\": \"#E5ECF6\", \"width\": 0.5}}, \"type\": \"barpolar\"}], \"carpet\": [{\"aaxis\": {\"endlinecolor\": \"#2a3f5f\", \"gridcolor\": \"white\", \"linecolor\": \"white\", \"minorgridcolor\": \"white\", \"startlinecolor\": \"#2a3f5f\"}, \"baxis\": {\"endlinecolor\": \"#2a3f5f\", \"gridcolor\": \"white\", \"linecolor\": \"white\", \"minorgridcolor\": \"white\", \"startlinecolor\": \"#2a3f5f\"}, \"type\": \"carpet\"}], \"choropleth\": [{\"colorbar\": {\"outlinewidth\": 0, \"ticks\": \"\"}, \"type\": \"choropleth\"}], \"contour\": [{\"colorbar\": {\"outlinewidth\": 0, \"ticks\": \"\"}, \"colorscale\": [[0.0, \"#0d0887\"], [0.1111111111111111, \"#46039f\"], [0.2222222222222222, \"#7201a8\"], [0.3333333333333333, \"#9c179e\"], [0.4444444444444444, \"#bd3786\"], [0.5555555555555556, \"#d8576b\"], [0.6666666666666666, \"#ed7953\"], [0.7777777777777778, \"#fb9f3a\"], [0.8888888888888888, \"#fdca26\"], [1.0, \"#f0f921\"]], \"type\": \"contour\"}], \"contourcarpet\": [{\"colorbar\": {\"outlinewidth\": 0, \"ticks\": \"\"}, \"type\": \"contourcarpet\"}], \"heatmap\": [{\"colorbar\": {\"outlinewidth\": 0, \"ticks\": \"\"}, \"colorscale\": [[0.0, \"#0d0887\"], [0.1111111111111111, \"#46039f\"], [0.2222222222222222, \"#7201a8\"], [0.3333333333333333, \"#9c179e\"], [0.4444444444444444, \"#bd3786\"], [0.5555555555555556, \"#d8576b\"], [0.6666666666666666, \"#ed7953\"], [0.7777777777777778, \"#fb9f3a\"], [0.8888888888888888, \"#fdca26\"], [1.0, \"#f0f921\"]], \"type\": \"heatmap\"}], \"heatmapgl\": [{\"colorbar\": {\"outlinewidth\": 0, \"ticks\": \"\"}, \"colorscale\": [[0.0, \"#0d0887\"], [0.1111111111111111, \"#46039f\"], [0.2222222222222222, \"#7201a8\"], [0.3333333333333333, \"#9c179e\"], [0.4444444444444444, \"#bd3786\"], [0.5555555555555556, \"#d8576b\"], [0.6666666666666666, \"#ed7953\"], [0.7777777777777778, \"#fb9f3a\"], [0.8888888888888888, \"#fdca26\"], [1.0, \"#f0f921\"]], \"type\": \"heatmapgl\"}], \"histogram\": [{\"marker\": {\"colorbar\": {\"outlinewidth\": 0, \"ticks\": \"\"}}, \"type\": \"histogram\"}], \"histogram2d\": [{\"colorbar\": {\"outlinewidth\": 0, \"ticks\": \"\"}, \"colorscale\": [[0.0, \"#0d0887\"], [0.1111111111111111, \"#46039f\"], [0.2222222222222222, \"#7201a8\"], [0.3333333333333333, \"#9c179e\"], [0.4444444444444444, \"#bd3786\"], [0.5555555555555556, \"#d8576b\"], [0.6666666666666666, \"#ed7953\"], [0.7777777777777778, \"#fb9f3a\"], [0.8888888888888888, \"#fdca26\"], [1.0, \"#f0f921\"]], \"type\": \"histogram2d\"}], \"histogram2dcontour\": [{\"colorbar\": {\"outlinewidth\": 0, \"ticks\": \"\"}, \"colorscale\": [[0.0, \"#0d0887\"], [0.1111111111111111, \"#46039f\"], [0.2222222222222222, \"#7201a8\"], [0.3333333333333333, \"#9c179e\"], [0.4444444444444444, \"#bd3786\"], [0.5555555555555556, \"#d8576b\"], [0.6666666666666666, \"#ed7953\"], [0.7777777777777778, \"#fb9f3a\"], [0.8888888888888888, \"#fdca26\"], [1.0, \"#f0f921\"]], \"type\": \"histogram2dcontour\"}], \"mesh3d\": [{\"colorbar\": {\"outlinewidth\": 0, \"ticks\": \"\"}, \"type\": \"mesh3d\"}], \"parcoords\": [{\"line\": {\"colorbar\": {\"outlinewidth\": 0, \"ticks\": \"\"}}, \"type\": \"parcoords\"}], \"pie\": [{\"automargin\": true, \"type\": \"pie\"}], \"scatter\": [{\"marker\": {\"colorbar\": {\"outlinewidth\": 0, \"ticks\": \"\"}}, \"type\": \"scatter\"}], \"scatter3d\": [{\"line\": {\"colorbar\": {\"outlinewidth\": 0, \"ticks\": \"\"}}, \"marker\": {\"colorbar\": {\"outlinewidth\": 0, \"ticks\": \"\"}}, \"type\": \"scatter3d\"}], \"scattercarpet\": [{\"marker\": {\"colorbar\": {\"outlinewidth\": 0, \"ticks\": \"\"}}, \"type\": \"scattercarpet\"}], \"scattergeo\": [{\"marker\": {\"colorbar\": {\"outlinewidth\": 0, \"ticks\": \"\"}}, \"type\": \"scattergeo\"}], \"scattergl\": [{\"marker\": {\"colorbar\": {\"outlinewidth\": 0, \"ticks\": \"\"}}, \"type\": \"scattergl\"}], \"scattermapbox\": [{\"marker\": {\"colorbar\": {\"outlinewidth\": 0, \"ticks\": \"\"}}, \"type\": \"scattermapbox\"}], \"scatterpolar\": [{\"marker\": {\"colorbar\": {\"outlinewidth\": 0, \"ticks\": \"\"}}, \"type\": \"scatterpolar\"}], \"scatterpolargl\": [{\"marker\": {\"colorbar\": {\"outlinewidth\": 0, \"ticks\": \"\"}}, \"type\": \"scatterpolargl\"}], \"scatterternary\": [{\"marker\": {\"colorbar\": {\"outlinewidth\": 0, \"ticks\": \"\"}}, \"type\": \"scatterternary\"}], \"surface\": [{\"colorbar\": {\"outlinewidth\": 0, \"ticks\": \"\"}, \"colorscale\": [[0.0, \"#0d0887\"], [0.1111111111111111, \"#46039f\"], [0.2222222222222222, \"#7201a8\"], [0.3333333333333333, \"#9c179e\"], [0.4444444444444444, \"#bd3786\"], [0.5555555555555556, \"#d8576b\"], [0.6666666666666666, \"#ed7953\"], [0.7777777777777778, \"#fb9f3a\"], [0.8888888888888888, \"#fdca26\"], [1.0, \"#f0f921\"]], \"type\": \"surface\"}], \"table\": [{\"cells\": {\"fill\": {\"color\": \"#EBF0F8\"}, \"line\": {\"color\": \"white\"}}, \"header\": {\"fill\": {\"color\": \"#C8D4E3\"}, \"line\": {\"color\": \"white\"}}, \"type\": \"table\"}]}, \"layout\": {\"annotationdefaults\": {\"arrowcolor\": \"#2a3f5f\", \"arrowhead\": 0, \"arrowwidth\": 1}, \"coloraxis\": {\"colorbar\": {\"outlinewidth\": 0, \"ticks\": \"\"}}, \"colorscale\": {\"diverging\": [[0, \"#8e0152\"], [0.1, \"#c51b7d\"], [0.2, \"#de77ae\"], [0.3, \"#f1b6da\"], [0.4, \"#fde0ef\"], [0.5, \"#f7f7f7\"], [0.6, \"#e6f5d0\"], [0.7, \"#b8e186\"], [0.8, \"#7fbc41\"], [0.9, \"#4d9221\"], [1, \"#276419\"]], \"sequential\": [[0.0, \"#0d0887\"], [0.1111111111111111, \"#46039f\"], [0.2222222222222222, \"#7201a8\"], [0.3333333333333333, \"#9c179e\"], [0.4444444444444444, \"#bd3786\"], [0.5555555555555556, \"#d8576b\"], [0.6666666666666666, \"#ed7953\"], [0.7777777777777778, \"#fb9f3a\"], [0.8888888888888888, \"#fdca26\"], [1.0, \"#f0f921\"]], \"sequentialminus\": [[0.0, \"#0d0887\"], [0.1111111111111111, \"#46039f\"], [0.2222222222222222, \"#7201a8\"], [0.3333333333333333, \"#9c179e\"], [0.4444444444444444, \"#bd3786\"], [0.5555555555555556, \"#d8576b\"], [0.6666666666666666, \"#ed7953\"], [0.7777777777777778, \"#fb9f3a\"], [0.8888888888888888, \"#fdca26\"], [1.0, \"#f0f921\"]]}, \"colorway\": [\"#636efa\", \"#EF553B\", \"#00cc96\", \"#ab63fa\", \"#FFA15A\", \"#19d3f3\", \"#FF6692\", \"#B6E880\", \"#FF97FF\", \"#FECB52\"], \"font\": {\"color\": \"#2a3f5f\"}, \"geo\": {\"bgcolor\": \"white\", \"lakecolor\": \"white\", \"landcolor\": \"#E5ECF6\", \"showlakes\": true, \"showland\": true, \"subunitcolor\": \"white\"}, \"hoverlabel\": {\"align\": \"left\"}, \"hovermode\": \"closest\", \"mapbox\": {\"style\": \"light\"}, \"paper_bgcolor\": \"white\", \"plot_bgcolor\": \"#E5ECF6\", \"polar\": {\"angularaxis\": {\"gridcolor\": \"white\", \"linecolor\": \"white\", \"ticks\": \"\"}, \"bgcolor\": \"#E5ECF6\", \"radialaxis\": {\"gridcolor\": \"white\", \"linecolor\": \"white\", \"ticks\": \"\"}}, \"scene\": {\"xaxis\": {\"backgroundcolor\": \"#E5ECF6\", \"gridcolor\": \"white\", \"gridwidth\": 2, \"linecolor\": \"white\", \"showbackground\": true, \"ticks\": \"\", \"zerolinecolor\": \"white\"}, \"yaxis\": {\"backgroundcolor\": \"#E5ECF6\", \"gridcolor\": \"white\", \"gridwidth\": 2, \"linecolor\": \"white\", \"showbackground\": true, \"ticks\": \"\", \"zerolinecolor\": \"white\"}, \"zaxis\": {\"backgroundcolor\": \"#E5ECF6\", \"gridcolor\": \"white\", \"gridwidth\": 2, \"linecolor\": \"white\", \"showbackground\": true, \"ticks\": \"\", \"zerolinecolor\": \"white\"}}, \"shapedefaults\": {\"line\": {\"color\": \"#2a3f5f\"}}, \"ternary\": {\"aaxis\": {\"gridcolor\": \"white\", \"linecolor\": \"white\", \"ticks\": \"\"}, \"baxis\": {\"gridcolor\": \"white\", \"linecolor\": \"white\", \"ticks\": \"\"}, \"bgcolor\": \"#E5ECF6\", \"caxis\": {\"gridcolor\": \"white\", \"linecolor\": \"white\", \"ticks\": \"\"}}, \"title\": {\"x\": 0.05}, \"xaxis\": {\"automargin\": true, \"gridcolor\": \"white\", \"linecolor\": \"white\", \"ticks\": \"\", \"title\": {\"standoff\": 15}, \"zerolinecolor\": \"white\", \"zerolinewidth\": 2}, \"yaxis\": {\"automargin\": true, \"gridcolor\": \"white\", \"linecolor\": \"white\", \"ticks\": \"\", \"title\": {\"standoff\": 15}, \"zerolinecolor\": \"white\", \"zerolinewidth\": 2}}}, \"title\": {\"text\": \"Kevin's Spending Habits\"}, \"width\": 1000, \"xaxis\": {\"anchor\": \"y\", \"domain\": [0.0, 1.0], \"title\": {\"text\": \"grandparent_category_name\"}}, \"yaxis\": {\"anchor\": \"x\", \"domain\": [0.0, 1.0], \"title\": {\"text\": \"amount_dollars\"}}},\n",
       "                        {\"responsive\": true}\n",
       "                    ).then(function(){\n",
       "                            \n",
       "var gd = document.getElementById('43cbb943-35e8-4deb-b1f5-9d086618a019');\n",
       "var x = new MutationObserver(function (mutations, observer) {{\n",
       "        var display = window.getComputedStyle(gd).display;\n",
       "        if (!display || display === 'none') {{\n",
       "            console.log([gd, 'removed!']);\n",
       "            Plotly.purge(gd);\n",
       "            observer.disconnect();\n",
       "        }}\n",
       "}});\n",
       "\n",
       "// Listen for the removal of the full notebook cells\n",
       "var notebookContainer = gd.closest('#notebook-container');\n",
       "if (notebookContainer) {{\n",
       "    x.observe(notebookContainer, {childList: true});\n",
       "}}\n",
       "\n",
       "// Listen for the clearing of the current output cell\n",
       "var outputEl = gd.closest('.output');\n",
       "if (outputEl) {{\n",
       "    x.observe(outputEl, {childList: true});\n",
       "}}\n",
       "\n",
       "                        })\n",
       "                };\n",
       "                \n",
       "            </script>\n",
       "        </div>\n",
       "</body>\n",
       "</html>"
      ]
     },
     "metadata": {
      "tags": []
     },
     "output_type": "display_data"
    }
   ],
   "source": [
    "fig = px.bar(df, x = 'grandparent_category_name', y = 'amount_dollars', title = \"Kevin's Spending Habits\", width=1000)\n",
    "fig.show()"
   ]
  },
  {
   "cell_type": "code",
   "execution_count": null,
   "metadata": {
    "colab": {
     "base_uri": "https://localhost:8080/",
     "height": 204
    },
    "colab_type": "code",
    "id": "5qpSjy9-oMvZ",
    "outputId": "2ba01427-f5e8-40a0-cb9a-e6c3b9010cf4"
   },
   "outputs": [
    {
     "data": {
      "text/plain": [
       "Shopping          0.460348\n",
       "Food              0.217602\n",
       "Transportation    0.141199\n",
       "Utilities         0.118956\n",
       "Financial         0.046422\n",
       "Auto              0.008704\n",
       "Govt Agencies     0.001934\n",
       "Payments          0.001934\n",
       "Recreation        0.001934\n",
       "Other             0.000967\n",
       "Name: grandparent_category_name, dtype: float64"
      ]
     },
     "execution_count": 99,
     "metadata": {
      "tags": []
     },
     "output_type": "execute_result"
    }
   ],
   "source": [
    "category = 'grandparent_category_name'\n",
    "cat_count = kevin_non_transfer[category].value_counts(normalize = True)\n",
    "cat_count"
   ]
  },
  {
   "cell_type": "markdown",
   "metadata": {
    "colab_type": "text",
    "id": "M2F71iEVvxGf"
   },
   "source": [
    "### Refactor the above visualization code into a function"
   ]
  },
  {
   "cell_type": "code",
   "execution_count": null,
   "metadata": {
    "colab": {
     "base_uri": "https://localhost:8080/",
     "height": 678
    },
    "colab_type": "code",
    "id": "MAQ7ELtRq9k1",
    "outputId": "607323e3-671d-4e9c-d267-3811cdc71ea9"
   },
   "outputs": [
    {
     "name": "stderr",
     "output_type": "stream",
     "text": [
      "/usr/local/lib/python3.6/dist-packages/ipykernel_launcher.py:6: SettingWithCopyWarning:\n",
      "\n",
      "\n",
      "A value is trying to be set on a copy of a slice from a DataFrame.\n",
      "Try using .loc[row_indexer,col_indexer] = value instead\n",
      "\n",
      "See the caveats in the documentation: https://pandas.pydata.org/pandas-docs/stable/user_guide/indexing.html#returning-a-view-versus-a-copy\n",
      "\n"
     ]
    },
    {
     "data": {
      "text/html": [
       "<html>\n",
       "<head><meta charset=\"utf-8\" /></head>\n",
       "<body>\n",
       "    <div>\n",
       "            <script src=\"https://cdnjs.cloudflare.com/ajax/libs/mathjax/2.7.5/MathJax.js?config=TeX-AMS-MML_SVG\"></script><script type=\"text/javascript\">if (window.MathJax) {MathJax.Hub.Config({SVG: {font: \"STIX-Web\"}});}</script>\n",
       "                <script type=\"text/javascript\">window.PlotlyConfig = {MathJaxConfig: 'local'};</script>\n",
       "        <script src=\"https://cdn.plot.ly/plotly-latest.min.js\"></script>    \n",
       "            <div id=\"2e316442-3451-4340-9a37-6f7f7da00754\" class=\"plotly-graph-div\" style=\"height:525px; width:1000px;\"></div>\n",
       "            <script type=\"text/javascript\">\n",
       "                \n",
       "                    window.PLOTLYENV=window.PLOTLYENV || {};\n",
       "                    \n",
       "                if (document.getElementById(\"2e316442-3451-4340-9a37-6f7f7da00754\")) {\n",
       "                    Plotly.newPlot(\n",
       "                        '2e316442-3451-4340-9a37-6f7f7da00754',\n",
       "                        [{\"alignmentgroup\": \"True\", \"hoverlabel\": {\"namelength\": 0}, \"hovertemplate\": \"grandparent_category_name=Food<br>date=%{x}<br>amount_dollars=%{y}\", \"legendgroup\": \"grandparent_category_name=Food\", \"marker\": {\"color\": \"#636efa\"}, \"name\": \"grandparent_category_name=Food\", \"offsetgroup\": \"grandparent_category_name=Food\", \"orientation\": \"v\", \"showlegend\": true, \"textposition\": \"auto\", \"type\": \"bar\", \"x\": [\"2020-08-06T05:58:00\", \"2020-08-06T05:58:00\", \"2020-08-05T05:41:00\", \"2020-08-04T22:42:00\", \"2020-08-04T22:42:00\", \"2020-08-04T22:42:00\", \"2020-08-04T22:42:00\", \"2020-08-04T22:42:00\", \"2020-08-04T22:42:00\", \"2020-08-04T22:42:00\", \"2020-08-02T05:37:00\", \"2020-08-01T05:55:00\", \"2020-08-01T05:55:00\", \"2020-07-30T00:33:00\", \"2020-07-29T00:29:00\", \"2020-07-28T05:58:00\", \"2020-07-28T05:58:00\", \"2020-07-27T00:22:00\", \"2020-07-27T00:22:00\", \"2020-07-25T00:14:00\", \"2020-07-25T00:14:00\", \"2020-07-25T00:14:00\", \"2020-07-25T00:14:00\", \"2020-07-25T00:14:00\", \"2020-07-23T02:18:00\", \"2020-07-23T02:18:00\", \"2020-07-23T02:18:00\", \"2020-07-23T02:18:00\", \"2020-07-22T02:07:00\", \"2020-07-22T02:07:00\", \"2020-07-22T02:07:00\", \"2020-07-20T01:27:00\", \"2020-07-20T01:27:00\", \"2020-07-20T01:27:00\", \"2020-07-20T01:27:00\", \"2020-07-18T01:15:00\", \"2020-07-15T00:59:00\", \"2020-07-15T00:59:00\", \"2020-07-14T01:33:00\", \"2020-07-14T01:33:00\", \"2020-07-14T01:33:00\", \"2020-07-13T01:27:00\", \"2020-07-12T01:24:00\", \"2020-07-12T01:24:00\", \"2020-07-12T01:24:00\", \"2020-07-12T01:24:00\", \"2020-07-11T01:04:00\", \"2020-07-11T01:04:00\", \"2020-07-11T01:04:00\", \"2020-07-11T01:04:00\", \"2020-07-10T00:52:00\", \"2020-07-09T00:49:00\", \"2020-07-07T11:52:00\", \"2020-07-07T11:52:00\", \"2020-07-05T00:21:00\", \"2020-07-05T00:21:00\", \"2020-07-05T00:21:00\", \"2020-07-04T06:10:00\", \"2020-07-04T06:10:00\", \"2020-07-04T06:10:00\", \"2020-07-04T06:10:00\", \"2020-07-03T22:33:00\", \"2020-07-03T22:33:00\", \"2020-07-02T04:14:00\", \"2020-07-02T04:14:00\", \"2020-07-01T03:42:00\", \"2020-07-01T03:42:00\", \"2020-06-26T01:24:00\", \"2020-06-26T01:24:00\", \"2020-06-27T02:06:00\", \"2020-06-28T02:13:00\", \"2020-06-28T02:13:00\", \"2020-06-28T02:13:00\", \"2020-06-29T02:51:00\", \"2020-06-30T03:39:00\", \"2020-06-30T03:39:00\", \"2020-06-30T03:39:00\", \"2020-06-30T03:39:00\", \"2020-06-28T02:13:00\", \"2020-06-28T02:13:00\", \"2020-06-28T02:13:00\", \"2020-06-26T01:24:00\", \"2020-06-26T01:24:00\", \"2020-06-25T01:05:00\", \"2020-06-25T01:05:00\", \"2020-06-25T01:05:00\", \"2020-06-24T00:37:00\", \"2020-06-24T00:37:00\", \"2020-06-24T00:37:00\", \"2020-06-23T00:08:00\", \"2020-06-22T05:54:00\", \"2020-06-22T05:54:00\", \"2020-06-16T03:41:00\", \"2020-07-15T00:59:00\", \"2020-07-15T00:59:00\", \"2020-06-07T02:54:00\", \"2020-06-07T02:54:00\", \"2020-06-04T00:23:00\", \"2020-06-03T06:05:00\", \"2020-06-02T05:21:00\", \"2020-05-23T01:51:00\", \"2020-05-19T00:05:00\", \"2020-05-18T02:48:00\", \"2020-05-12T01:15:00\", \"2020-05-11T00:52:00\", \"2020-05-10T00:37:00\", \"2020-05-10T00:37:00\", \"2020-05-09T00:21:00\", \"2020-05-09T00:21:00\", \"2020-05-09T00:21:00\", \"2020-05-06T05:14:00\", \"2020-05-02T04:29:00\", \"2020-05-01T04:20:00\", \"2020-06-12T06:27:00\", \"2020-06-12T06:27:00\", \"2020-06-12T06:27:00\", \"2020-06-12T06:27:00\", \"2020-06-12T06:27:00\", \"2020-06-11T04:39:00\", \"2020-06-11T04:39:00\", \"2020-06-09T03:43:00\", \"2020-04-25T03:26:00\", \"2020-04-24T03:18:00\", \"2020-04-16T02:30:00\", \"2020-04-15T02:10:00\", \"2020-04-13T01:49:00\", \"2020-04-13T01:49:00\", \"2020-04-11T02:03:00\", \"2020-04-09T01:34:00\", \"2020-04-09T01:34:00\", \"2020-04-07T01:02:00\", \"2020-04-06T00:46:00\", \"2020-04-06T00:46:00\", \"2020-04-05T01:28:00\", \"2020-04-03T01:00:00\", \"2020-04-02T00:48:00\", \"2020-03-31T18:31:00\", \"2020-03-30T00:07:00\", \"2020-03-29T05:57:00\", \"2020-03-24T04:28:00\", \"2020-03-15T03:30:00\", \"2020-03-15T03:30:00\", \"2020-03-14T03:20:00\", \"2020-03-13T03:06:00\", \"2020-03-13T03:06:00\", \"2020-03-08T01:47:00\", \"2020-03-08T01:47:00\", \"2020-03-08T01:47:00\", \"2020-03-08T01:47:00\", \"2020-05-04T04:47:00\", \"2020-05-03T04:38:00\", \"2020-05-03T04:38:00\", \"2020-03-08T01:47:00\", \"2020-03-08T01:47:00\", \"2020-03-08T01:47:00\", \"2020-03-08T01:47:00\", \"2020-03-08T01:47:00\", \"2020-03-08T01:47:00\", \"2020-03-08T01:47:00\", \"2020-03-08T01:47:00\", \"2020-03-08T01:47:00\", \"2020-03-08T01:47:00\", \"2020-03-08T01:47:00\", \"2020-03-08T01:47:00\", \"2020-03-08T01:47:00\", \"2020-03-08T01:47:00\", \"2020-03-08T01:47:00\", \"2020-03-08T01:47:00\", \"2020-03-08T01:47:00\", \"2020-03-08T01:47:00\", \"2020-03-08T01:47:00\", \"2020-03-08T01:47:00\", \"2020-03-08T01:47:00\", \"2020-03-08T01:47:00\", \"2020-03-08T01:47:00\", \"2020-03-08T01:47:00\", \"2020-03-08T01:47:00\", \"2020-03-08T01:47:00\", \"2020-03-08T01:47:00\", \"2020-03-08T01:47:00\", \"2020-03-08T01:47:00\", \"2020-03-08T01:47:00\", \"2020-03-08T01:47:00\", \"2020-03-08T01:47:00\", \"2020-03-08T01:47:00\", \"2020-03-08T01:47:00\", \"2020-03-08T01:47:00\", \"2020-03-08T01:47:00\", \"2020-03-08T01:47:00\", \"2020-03-08T01:47:00\", \"2020-03-08T01:47:00\", \"2020-03-08T01:47:00\", \"2020-03-08T01:47:00\", \"2020-03-08T01:47:00\", \"2020-03-08T01:47:00\", \"2020-03-08T01:47:00\", \"2020-03-08T01:47:00\", \"2020-03-08T01:47:00\", \"2020-03-08T01:47:00\", \"2020-03-08T01:47:00\", \"2020-03-08T01:47:00\", \"2020-03-08T01:47:00\", \"2020-03-08T01:47:00\", \"2020-03-08T01:47:00\", \"2020-03-08T01:47:00\", \"2020-03-08T01:47:00\", \"2020-03-08T01:47:00\", \"2020-03-08T01:47:00\", \"2020-03-08T01:47:00\", \"2020-03-08T01:47:00\", \"2020-03-08T01:47:00\", \"2020-03-08T01:47:00\", \"2020-03-08T01:47:00\", \"2020-03-08T01:47:00\", \"2020-03-08T01:47:00\", \"2020-03-08T01:47:00\", \"2020-03-08T01:47:00\", \"2020-03-08T01:47:00\", \"2020-03-08T01:47:00\", \"2020-03-08T01:47:00\", \"2020-03-08T01:47:00\", \"2020-03-08T01:47:00\", \"2020-03-08T01:47:00\", \"2020-03-08T01:47:00\", \"2020-03-08T01:47:00\"], \"xaxis\": \"x\", \"y\": [10.39, 26.24, 15.89, 9.98, 5.72, 59.82, 7.0, 10.67, 6.42, 16.48, 34.04, 9.98, 23.05, 48.64, 1.68, 4.37, 55.27, 5.72, 8.76, 6.27, 0.25, 8.7, 10.45, 48.04, 12.83, 41.44, 20.0, 11.54, 18.42, 30.52, 37.4, 66.0, 12.84, 0.79, 13.98, 67.67, 217.95, 3.24, 4.68, 15.35, 4.56, 28.84, 9.98, 19.11, 25.18, 35.81, 18.4, 4.68, 12.4, 2.57, 43.29, 12.71, 10.74, 32.88, 63.94, 7.84, 0.71, 2.96, 16.33, 39.98, 3.01, 63.65, 24.55, 6.03, 2.41, 10.04, 13.12, 50.71, 10.04, 12.79, 14.79, 6.45, 6.0, 2.0, 22.17, 10.04, 8.52, 6.51, 7.13, 30.77, 6.51, 8.99, 5.33, 8.15, 9.73, 8.54, 8.8, 11.31, 5.33, 16.0, 14.74, 23.07, 48.04, 1.73, 8.49, 4.99, 4.22, 44.21, 97.78, 9.61, 123.1, 83.55, 9.45, 15.7, 61.63, 20.57, 19.22, 2.93, 10.38, 4.82, 90.95, 5.72, 13.3, 5.72, 8.16, 25.05, 10.03, 34.88, 22.32, 4.27, 8.4, 4.34, 4.01, 16.64, 16.21, 23.55, 0.47, 24.23, 27.45, 12.41, 6.0, 119.43, 7.43, 56.13, 5.05, 38.92, 6.7, 18.79, 8.8, 5.72, 3.38, 4.63, 4.23, 4.87, 4.88, 4.28, 9.81, 50.62, 13.27, 1.41, 6.19, 3.16, 5.2, 6.02, 1.62, 23.94, 3.7, 1.5, 9.0, 6.83, 11.01, 14.0, 13.76, 6.54, 16.43, 5.0, 9.25, 6.09, 18.14, 8.99, 54.61, 13.35, 3.99, 6.99, 16.05, 10.98, 6.74, 4.84, 4.8, 2.5, 14.88, 10.02, 0.98, 13.51, 15.29, 15.29, 10.3, 2.1, 0.85, 1.75, 20.9, 5.0, 18.0, 1.85, 1.77, 32.56, 9.07, 15.52, 1.2, 7.36, 4.76, 5.21, 18.68, 18.16, 36.15, 4.76, 3.37, 5.0, 4.28, 32.42, 12.23, 10.42, 10.83, 12.0, 38.0, 24.31, 4.36, 13.68, 20.16, 18.55, 4.95, 9.82, 34.42, 5.38, 1.0], \"yaxis\": \"y\"}, {\"alignmentgroup\": \"True\", \"hoverlabel\": {\"namelength\": 0}, \"hovertemplate\": \"grandparent_category_name=Transportation<br>date=%{x}<br>amount_dollars=%{y}\", \"legendgroup\": \"grandparent_category_name=Transportation\", \"marker\": {\"color\": \"#EF553B\"}, \"name\": \"grandparent_category_name=Transportation\", \"offsetgroup\": \"grandparent_category_name=Transportation\", \"orientation\": \"v\", \"showlegend\": true, \"textposition\": \"auto\", \"type\": \"bar\", \"x\": [\"2020-08-06T05:58:00\", \"2020-08-05T05:41:00\", \"2020-08-05T05:41:00\", \"2020-08-04T22:42:00\", \"2020-08-01T05:55:00\", \"2020-07-31T00:28:00\", \"2020-07-28T05:58:00\", \"2020-07-27T00:22:00\", \"2020-07-25T00:14:00\", \"2020-07-23T02:18:00\", \"2020-07-20T01:27:00\", \"2020-07-17T01:05:00\", \"2020-07-15T00:59:00\", \"2020-07-15T00:59:00\", \"2020-07-15T00:59:00\", \"2020-07-15T00:59:00\", \"2020-07-14T01:33:00\", \"2020-07-13T01:27:00\", \"2020-07-12T01:24:00\", \"2020-07-12T01:24:00\", \"2020-07-08T00:40:00\", \"2020-07-08T00:40:00\", \"2020-07-08T00:40:00\", \"2020-07-08T00:40:00\", \"2020-07-08T00:40:00\", \"2020-07-04T06:10:00\", \"2020-07-04T06:10:00\", \"2020-07-04T06:10:00\", \"2020-07-03T22:33:00\", \"2020-07-01T03:42:00\", \"2020-07-01T03:42:00\", \"2020-06-30T03:39:00\", \"2020-06-28T02:13:00\", \"2020-06-28T02:13:00\", \"2020-06-28T02:13:00\", \"2020-06-26T01:24:00\", \"2020-06-26T01:24:00\", \"2020-06-26T01:24:00\", \"2020-06-24T00:37:00\", \"2020-06-22T05:54:00\", \"2020-06-22T05:54:00\", \"2020-06-22T05:54:00\", \"2020-06-16T03:41:00\", \"2020-06-16T03:41:00\", \"2020-07-15T00:59:00\", \"2020-07-15T00:59:00\", \"2020-07-15T00:59:00\", \"2020-06-09T03:43:00\", \"2020-06-09T03:43:00\", \"2020-06-07T02:54:00\", \"2020-06-07T02:54:00\", \"2020-06-07T02:54:00\", \"2020-06-07T02:54:00\", \"2020-06-03T06:05:00\", \"2020-06-03T06:05:00\", \"2020-06-03T06:05:00\", \"2020-06-02T05:21:00\", \"2020-06-02T05:21:00\", \"2020-06-02T05:21:00\", \"2020-06-02T05:21:00\", \"2020-06-02T05:21:00\", \"2020-06-02T05:21:00\", \"2020-05-28T03:23:00\", \"2020-05-28T03:23:00\", \"2020-05-27T03:01:00\", \"2020-05-27T03:01:00\", \"2020-05-23T01:51:00\", \"2020-05-23T01:51:00\", \"2020-05-22T01:35:00\", \"2020-05-21T07:26:00\", \"2020-05-20T01:01:00\", \"2020-05-18T02:48:00\", \"2020-05-18T02:48:00\", \"2020-05-17T02:33:00\", \"2020-05-17T02:33:00\", \"2020-05-17T02:33:00\", \"2020-05-16T02:17:00\", \"2020-05-16T02:17:00\", \"2020-05-16T02:17:00\", \"2020-05-14T01:46:00\", \"2020-05-14T01:46:00\", \"2020-05-10T00:37:00\", \"2020-05-10T00:37:00\", \"2020-05-08T00:03:00\", \"2020-05-08T00:03:00\", \"2020-05-08T00:03:00\", \"2020-05-02T04:29:00\", \"2020-05-02T04:29:00\", \"2020-05-02T04:29:00\", \"2020-04-30T04:09:00\", \"2020-06-14T02:46:00\", \"2020-06-14T02:46:00\", \"2020-06-12T06:27:00\", \"2020-06-12T06:27:00\", \"2020-06-12T06:27:00\", \"2020-06-11T04:39:00\", \"2020-04-28T03:51:00\", \"2020-04-24T03:18:00\", \"2020-04-17T02:31:00\", \"2020-04-07T01:02:00\", \"2020-03-29T05:57:00\", \"2020-03-29T05:57:00\", \"2020-03-21T03:41:00\", \"2020-03-19T03:15:00\", \"2020-03-15T03:30:00\", \"2020-03-15T03:30:00\", \"2020-03-15T03:30:00\", \"2020-03-15T03:30:00\", \"2020-03-14T03:20:00\", \"2020-03-13T03:06:00\", \"2020-03-13T03:06:00\", \"2020-03-08T01:47:00\", \"2020-03-08T01:47:00\", \"2020-05-04T04:47:00\", \"2020-03-08T01:47:00\", \"2020-03-08T01:47:00\", \"2020-03-08T01:47:00\", \"2020-03-08T01:47:00\", \"2020-03-08T01:47:00\", \"2020-03-08T01:47:00\", \"2020-03-08T01:47:00\", \"2020-03-08T01:47:00\", \"2020-03-08T01:47:00\", \"2020-03-08T01:47:00\", \"2020-03-08T01:47:00\", \"2020-03-08T01:47:00\", \"2020-03-08T01:47:00\", \"2020-03-08T01:47:00\", \"2020-03-08T01:47:00\", \"2020-03-08T01:47:00\", \"2020-03-08T01:47:00\", \"2020-03-08T01:47:00\", \"2020-03-08T01:47:00\", \"2020-03-08T01:47:00\", \"2020-03-08T01:47:00\", \"2020-03-08T01:47:00\", \"2020-03-08T01:47:00\", \"2020-03-08T01:47:00\", \"2020-03-08T01:47:00\", \"2020-03-08T01:47:00\", \"2020-03-08T01:47:00\", \"2020-03-08T01:47:00\", \"2020-03-08T01:47:00\", \"2020-03-08T01:47:00\", \"2020-03-08T01:47:00\", \"2020-03-08T01:47:00\"], \"xaxis\": \"x\", \"y\": [4.0, 30.38, 2.38, 7.87, 10.01, 3.92, 5.37, 8.03, 4.81, 44.43, 7.0, 53.42, 5.06, 3.41, 1.52, 9.72, 5.53, 16.0, 3.23, 76.83, 10.57, 8.68, 8.61, 3.1, 2.0, 5.69, 3.92, 12.01, 4.0, 1.62, 1.62, 1.62, 20.0, 3.0, 17.02, 18.01, 12.33, 1.62, 8.93, 16.19, 1.41, 13.0, 11.72, 1.62, 50.0, 9.47, 19.32, 6.1, 5.23, 4.44, 9.37, 3.78, 21.57, 42.13, 2.82, 16.34, 57.47, 46.96, 40.7, 15.79, 3.07, 2.91, 62.04, 50.48, 29.82, 3.25, 28.45, 7.11, 3.0, 10.32, 1.62, 11.34, 10.0, 15.21, 14.61, 2.79, 17.81, 15.27, 2.0, 47.17, 7.27, 15.0, 28.9, 30.47, 3.92, 4.88, 28.35, 17.26, 17.01, 20.11, 8.0, 2.81, 11.4, 41.52, 3.08, 2.28, 0.7, 4.29, 2.91, 0.79, 10.01, 3.21, 20.01, 10.0, 42.89, 5.25, 5.0, 10.5, 15.02, 13.93, 1.0, 5.54, 3.92, 17.48, 34.0, 3.92, 7.69, 38.01, 5.92, 16.89, 6.39, 30.0, 42.37, 7.77, 16.0, 7.84, 40.0, 2.75, 7.39, 13.01, 3.38, 7.17, 5.69, 20.0, 1.99, 0.72, 2.16, 14.0, 3.92, 20.07, 72.56, 11.91, 39.47, 2.08, 4.28, 86.44], \"yaxis\": \"y\"}, {\"alignmentgroup\": \"True\", \"hoverlabel\": {\"namelength\": 0}, \"hovertemplate\": \"grandparent_category_name=Other<br>date=%{x}<br>amount_dollars=%{y}\", \"legendgroup\": \"grandparent_category_name=Other\", \"marker\": {\"color\": \"#00cc96\"}, \"name\": \"grandparent_category_name=Other\", \"offsetgroup\": \"grandparent_category_name=Other\", \"orientation\": \"v\", \"showlegend\": true, \"textposition\": \"auto\", \"type\": \"bar\", \"x\": [\"2020-08-05T05:41:00\", \"2020-08-04T22:42:00\", \"2020-07-14T01:33:00\", \"2020-07-14T01:33:00\", \"2020-07-14T01:33:00\", \"2020-07-14T01:33:00\", \"2020-07-07T11:52:00\", \"2020-06-09T03:43:00\", \"2020-06-07T02:54:00\", \"2020-06-07T02:54:00\", \"2020-05-20T01:01:00\", \"2020-05-08T00:03:00\", \"2020-04-07T01:02:00\", \"2020-04-07T01:02:00\", \"2020-04-07T01:02:00\", \"2020-04-07T01:02:00\", \"2020-03-15T03:30:00\", \"2020-03-15T03:30:00\", \"2020-03-10T05:44:00\", \"2020-03-08T01:47:00\", \"2020-03-08T01:47:00\", \"2020-03-08T01:47:00\", \"2020-05-04T04:47:00\", \"2020-05-04T04:47:00\", \"2020-03-08T01:47:00\", \"2020-03-08T01:47:00\", \"2020-03-08T01:47:00\", \"2020-03-08T01:47:00\", \"2020-03-08T01:47:00\", \"2020-03-08T01:47:00\", \"2020-03-08T01:47:00\", \"2020-03-08T01:47:00\", \"2020-03-08T01:47:00\", \"2020-03-08T01:47:00\", \"2020-03-08T01:47:00\", \"2020-03-08T01:47:00\", \"2020-03-08T01:47:00\", \"2020-03-08T01:47:00\", \"2020-03-08T01:47:00\", \"2020-03-08T01:47:00\", \"2020-03-08T01:47:00\", \"2020-03-08T01:47:00\", \"2020-03-08T01:47:00\", \"2020-03-08T01:47:00\", \"2020-03-08T01:47:00\", \"2020-03-08T01:47:00\", \"2020-03-08T01:47:00\", \"2020-03-08T01:47:00\", \"2020-03-08T01:47:00\", \"2020-03-08T01:47:00\", \"2020-03-08T01:47:00\", \"2020-03-08T01:47:00\", \"2020-03-08T01:47:00\", \"2020-03-08T01:47:00\", \"2020-03-08T01:47:00\", \"2020-03-08T01:47:00\", \"2020-03-08T01:47:00\", \"2020-03-08T01:47:00\", \"2020-03-08T01:47:00\", \"2020-03-08T01:47:00\", \"2020-03-08T01:47:00\", \"2020-03-08T01:47:00\", \"2020-03-08T01:47:00\", \"2020-03-08T01:47:00\"], \"xaxis\": \"x\", \"y\": [143.0, 65.65, 44.0, 75.0, 65.0, 63.49, 95.0, 143.0, 143.0, 30.58, 273.34, 71.0, 143.0, 95.0, 3.95, 146.05, 10.0, 1.17, 8.25, 3.95, 164.96, 145.4, 3.95, 171.05, 143.0, 95.0, 50.0, 3.95, 147.0, 10.0, 24.0, 3.82, 75.0, 19.5, 7.19, 143.0, 3.95, 171.05, 9.52, 2.81, 5.0, 5.0, 5.38, 11.02, 8.66, 5.0, 5.0, 5.0, 5.0, 5.0, 5.0, 5.0, 10.0, 4.96, 10.0, 10.0, 10.0, 10.0, 10.0, 3.95, 171.05, 0.99, 41.0, 25.0], \"yaxis\": \"y\"}, {\"alignmentgroup\": \"True\", \"hoverlabel\": {\"namelength\": 0}, \"hovertemplate\": \"grandparent_category_name=Utilities<br>date=%{x}<br>amount_dollars=%{y}\", \"legendgroup\": \"grandparent_category_name=Utilities\", \"marker\": {\"color\": \"#ab63fa\"}, \"name\": \"grandparent_category_name=Utilities\", \"offsetgroup\": \"grandparent_category_name=Utilities\", \"orientation\": \"v\", \"showlegend\": true, \"textposition\": \"auto\", \"type\": \"bar\", \"x\": [\"2020-08-05T05:41:00\", \"2020-08-05T05:41:00\", \"2020-08-04T22:42:00\", \"2020-07-29T00:29:00\", \"2020-07-29T00:29:00\", \"2020-07-25T00:14:00\", \"2020-07-20T01:27:00\", \"2020-07-20T01:27:00\", \"2020-07-15T00:59:00\", \"2020-07-14T01:33:00\", \"2020-07-14T01:33:00\", \"2020-07-12T01:24:00\", \"2020-07-07T11:52:00\", \"2020-07-04T06:10:00\", \"2020-07-04T06:10:00\", \"2020-07-04T06:10:00\", \"2020-07-04T06:10:00\", \"2020-06-28T02:13:00\", \"2020-06-28T02:13:00\", \"2020-06-27T02:06:00\", \"2020-06-24T00:37:00\", \"2020-06-21T05:37:00\", \"2020-06-20T05:15:00\", \"2020-06-07T02:54:00\", \"2020-06-07T02:54:00\", \"2020-06-07T02:54:00\", \"2020-06-04T00:23:00\", \"2020-06-03T06:05:00\", \"2020-06-02T05:21:00\", \"2020-06-02T05:21:00\", \"2020-05-19T00:05:00\", \"2020-05-17T02:33:00\", \"2020-05-17T02:33:00\", \"2020-05-17T02:33:00\", \"2020-05-17T02:33:00\", \"2020-05-16T02:17:00\", \"2020-05-16T02:17:00\", \"2020-05-14T01:46:00\", \"2020-05-14T01:46:00\", \"2020-05-14T01:46:00\", \"2020-05-14T01:46:00\", \"2020-05-14T01:46:00\", \"2020-05-12T01:15:00\", \"2020-05-12T01:15:00\", \"2020-05-10T00:37:00\", \"2020-05-10T00:37:00\", \"2020-05-09T00:21:00\", \"2020-05-08T00:03:00\", \"2020-05-08T00:03:00\", \"2020-05-08T00:03:00\", \"2020-05-08T00:03:00\", \"2020-04-29T04:00:00\", \"2020-06-14T02:46:00\", \"2020-06-12T06:27:00\", \"2020-06-12T06:27:00\", \"2020-06-11T04:39:00\", \"2020-04-25T03:26:00\", \"2020-04-22T03:02:00\", \"2020-04-15T02:10:00\", \"2020-04-14T02:00:00\", \"2020-04-12T02:15:00\", \"2020-04-08T01:18:00\", \"2020-04-07T01:02:00\", \"2020-04-07T01:02:00\", \"2020-04-07T01:02:00\", \"2020-04-07T01:02:00\", \"2020-04-07T01:02:00\", \"2020-04-04T01:12:00\", \"2020-04-04T01:12:00\", \"2020-03-31T18:31:00\", \"2020-03-21T03:41:00\", \"2020-03-16T02:43:00\", \"2020-03-11T02:40:00\", \"2020-03-11T02:40:00\", \"2020-03-11T02:40:00\", \"2020-03-10T05:44:00\", \"2020-03-09T01:57:00\", \"2020-03-08T01:47:00\", \"2020-03-08T01:47:00\", \"2020-03-08T01:47:00\", \"2020-03-08T01:47:00\", \"2020-05-04T04:47:00\", \"2020-05-03T04:38:00\", \"2020-03-08T01:47:00\", \"2020-03-08T01:47:00\", \"2020-03-08T01:47:00\", \"2020-03-08T01:47:00\", \"2020-03-08T01:47:00\", \"2020-03-08T01:47:00\", \"2020-03-08T01:47:00\", \"2020-03-08T01:47:00\", \"2020-03-08T01:47:00\", \"2020-03-08T01:47:00\", \"2020-03-08T01:47:00\", \"2020-03-08T01:47:00\", \"2020-03-08T01:47:00\", \"2020-03-08T01:47:00\", \"2020-03-08T01:47:00\", \"2020-03-08T01:47:00\", \"2020-03-08T01:47:00\", \"2020-03-08T01:47:00\", \"2020-03-08T01:47:00\", \"2020-03-08T01:47:00\", \"2020-03-08T01:47:00\", \"2020-03-08T01:47:00\", \"2020-03-08T01:47:00\", \"2020-03-08T01:47:00\", \"2020-03-08T01:47:00\", \"2020-03-08T01:47:00\", \"2020-03-08T01:47:00\", \"2020-03-08T01:47:00\", \"2020-03-08T01:47:00\", \"2020-03-08T01:47:00\", \"2020-03-08T01:47:00\", \"2020-03-08T01:47:00\", \"2020-03-08T01:47:00\", \"2020-03-08T01:47:00\", \"2020-03-08T01:47:00\", \"2020-03-08T01:47:00\", \"2020-03-08T01:47:00\", \"2020-03-08T01:47:00\", \"2020-03-08T01:47:00\", \"2020-03-08T01:47:00\"], \"xaxis\": \"x\", \"y\": [459.93, 20.34, 13.9, 83.31, 9.62, 4.28, 18.25, 37.25, 10.69, 1.5, 55.0, 25.75, 20.34, 21.1, 3.21, 4.99, 13.9, 9.62, 2.99, 3.21, 45.2, 3.21, 15.05, 20.34, 6.41, 18.25, 13.9, 109.96, 23.17, 23.16, 23.16, 19.66, 2.34, 95.69, 160.0, 12.3, 3.21, 12.99, 5.34, 1.0, 6.61, 1.0, 5.35, 143.63, 18.25, 81.0, 10.7, 82.0, 23.16, 20.34, 6.41, 9.31, 66.11, 12.99, 5.34, 3.21, 3.21, 128.35, 69.37, 12.99, 5.34, 205.29, 36.5, 19.92, 1.0, 11.58, 13.9, 201.25, 3.21, 9.31, 34.95, 2.99, 34.51, 12.83, 6.41, 69.37, 13.9, 69.37, 60.0, 12.81, 1.3, 13.9, 107.33, 100.89, 62.07, 30.0, 100.0, 69.37, 13.9, 42.81, 12.81, 20.0, 139.1, 10.69, 100.0, 5.0, 5.0, 5.0, 13.0, 5.0, 11.99, 11.99, 16.12, 18.69, 18.25, 25.0, 225.44, 69.37, 66.48, 10.69, 100.0, 70.13, 5.0, 13.9, 12.83, 13.28, 13.0, 4.95, 8.0, 301.25, 14.33, 10.69, 115.09], \"yaxis\": \"y\"}, {\"alignmentgroup\": \"True\", \"hoverlabel\": {\"namelength\": 0}, \"hovertemplate\": \"grandparent_category_name=Shopping<br>date=%{x}<br>amount_dollars=%{y}\", \"legendgroup\": \"grandparent_category_name=Shopping\", \"marker\": {\"color\": \"#FFA15A\"}, \"name\": \"grandparent_category_name=Shopping\", \"offsetgroup\": \"grandparent_category_name=Shopping\", \"orientation\": \"v\", \"showlegend\": true, \"textposition\": \"auto\", \"type\": \"bar\", \"x\": [\"2020-08-05T05:41:00\", \"2020-08-05T05:41:00\", \"2020-08-05T05:41:00\", \"2020-08-05T05:41:00\", \"2020-08-05T05:41:00\", \"2020-08-05T05:41:00\", \"2020-08-05T05:41:00\", \"2020-08-04T22:42:00\", \"2020-08-04T22:42:00\", \"2020-08-04T22:42:00\", \"2020-08-02T05:37:00\", \"2020-07-31T00:28:00\", \"2020-07-31T00:28:00\", \"2020-07-30T00:33:00\", \"2020-07-29T00:29:00\", \"2020-07-28T05:58:00\", \"2020-07-25T00:14:00\", \"2020-07-25T00:14:00\", \"2020-07-25T00:14:00\", \"2020-07-23T02:18:00\", \"2020-07-23T02:18:00\", \"2020-07-22T02:07:00\", \"2020-07-22T02:07:00\", \"2020-07-22T02:07:00\", \"2020-07-20T01:27:00\", \"2020-07-20T01:27:00\", \"2020-07-20T01:27:00\", \"2020-07-18T01:15:00\", \"2020-07-18T01:15:00\", \"2020-07-17T01:05:00\", \"2020-07-17T01:05:00\", \"2020-07-17T01:05:00\", \"2020-07-15T00:59:00\", \"2020-07-15T00:59:00\", \"2020-07-15T00:59:00\", \"2020-07-14T01:33:00\", \"2020-07-14T01:33:00\", \"2020-07-14T01:33:00\", \"2020-07-14T01:33:00\", \"2020-07-14T01:33:00\", \"2020-07-14T01:33:00\", \"2020-07-13T01:27:00\", \"2020-07-12T01:24:00\", \"2020-07-12T01:24:00\", \"2020-07-12T01:24:00\", \"2020-07-10T00:52:00\", \"2020-07-10T00:52:00\", \"2020-07-09T00:49:00\", \"2020-07-09T00:49:00\", \"2020-07-08T00:40:00\", \"2020-07-08T00:40:00\", \"2020-07-08T00:40:00\", \"2020-07-08T00:40:00\", \"2020-07-08T00:40:00\", \"2020-07-08T00:40:00\", \"2020-07-07T11:52:00\", \"2020-07-07T11:52:00\", \"2020-07-07T11:52:00\", \"2020-07-07T11:52:00\", \"2020-07-07T11:52:00\", \"2020-07-07T11:52:00\", \"2020-07-07T11:52:00\", \"2020-07-05T00:21:00\", \"2020-07-05T00:21:00\", \"2020-07-05T00:21:00\", \"2020-07-04T06:10:00\", \"2020-07-04T06:10:00\", \"2020-07-03T22:33:00\", \"2020-07-03T22:33:00\", \"2020-07-01T03:42:00\", \"2020-07-01T03:42:00\", \"2020-07-01T03:42:00\", \"2020-07-01T03:42:00\", \"2020-07-01T03:42:00\", \"2020-07-01T03:42:00\", \"2020-07-01T03:42:00\", \"2020-06-30T03:39:00\", \"2020-06-29T02:51:00\", \"2020-06-28T02:13:00\", \"2020-06-28T02:13:00\", \"2020-06-27T02:06:00\", \"2020-06-25T01:05:00\", \"2020-06-25T01:05:00\", \"2020-06-25T01:05:00\", \"2020-06-24T00:37:00\", \"2020-06-24T00:37:00\", \"2020-06-24T00:37:00\", \"2020-06-24T00:37:00\", \"2020-06-24T00:37:00\", \"2020-06-21T05:37:00\", \"2020-06-20T05:15:00\", \"2020-06-20T05:15:00\", \"2020-06-20T05:15:00\", \"2020-06-18T04:22:00\", \"2020-06-16T03:41:00\", \"2020-06-16T03:41:00\", \"2020-06-16T03:41:00\", \"2020-06-16T03:41:00\", \"2020-07-16T00:50:00\", \"2020-07-16T00:50:00\", \"2020-06-09T03:43:00\", \"2020-06-09T03:43:00\", \"2020-06-09T03:43:00\", \"2020-06-08T03:17:00\", \"2020-06-07T02:54:00\", \"2020-06-03T06:05:00\", \"2020-06-03T06:05:00\", \"2020-06-03T06:05:00\", \"2020-06-05T00:46:00\", \"2020-06-05T00:46:00\", \"2020-06-05T00:46:00\", \"2020-06-05T00:46:00\", \"2020-06-04T00:23:00\", \"2020-06-04T00:23:00\", \"2020-06-03T06:05:00\", \"2020-06-02T05:21:00\", \"2020-06-02T05:21:00\", \"2020-06-02T05:21:00\", \"2020-06-02T05:21:00\", \"2020-06-02T05:21:00\", \"2020-06-02T05:21:00\", \"2020-06-01T04:59:00\", \"2020-05-31T04:42:00\", \"2020-05-31T04:42:00\", \"2020-05-28T03:23:00\", \"2020-05-27T03:01:00\", \"2020-05-27T03:01:00\", \"2020-05-27T03:01:00\", \"2020-05-27T03:01:00\", \"2020-05-26T02:38:00\", \"2020-05-24T02:08:00\", \"2020-05-24T02:08:00\", \"2020-05-22T01:35:00\", \"2020-05-22T01:35:00\", \"2020-05-22T01:35:00\", \"2020-05-22T01:35:00\", \"2020-05-21T07:26:00\", \"2020-05-21T07:26:00\", \"2020-05-20T01:01:00\", \"2020-05-19T00:05:00\", \"2020-05-19T00:05:00\", \"2020-05-19T00:05:00\", \"2020-05-19T00:05:00\", \"2020-05-19T00:05:00\", \"2020-05-17T02:33:00\", \"2020-05-17T02:33:00\", \"2020-05-16T02:17:00\", \"2020-05-15T02:02:00\", \"2020-05-14T01:46:00\", \"2020-05-14T01:46:00\", \"2020-05-14T01:46:00\", \"2020-05-14T01:46:00\", \"2020-05-14T01:46:00\", \"2020-05-14T01:46:00\", \"2020-05-14T01:46:00\", \"2020-05-14T01:46:00\", \"2020-05-14T01:46:00\", \"2020-05-14T01:46:00\", \"2020-05-14T01:46:00\", \"2020-05-14T01:46:00\", \"2020-05-14T01:46:00\", \"2020-05-14T01:46:00\", \"2020-05-12T01:15:00\", \"2020-05-12T01:15:00\", \"2020-05-12T01:15:00\", \"2020-05-12T01:15:00\", \"2020-05-10T00:37:00\", \"2020-05-10T00:37:00\", \"2020-05-08T00:03:00\", \"2020-05-08T00:03:00\", \"2020-05-08T00:03:00\", \"2020-05-02T04:29:00\", \"2020-05-02T04:29:00\", \"2020-06-14T02:46:00\", \"2020-06-14T02:46:00\", \"2020-06-14T02:46:00\", \"2020-06-14T02:46:00\", \"2020-06-14T02:46:00\", \"2020-06-14T02:46:00\", \"2020-06-13T02:21:00\", \"2020-06-12T06:27:00\", \"2020-06-12T06:27:00\", \"2020-06-12T06:27:00\", \"2020-06-12T06:27:00\", \"2020-06-12T06:27:00\", \"2020-06-12T06:27:00\", \"2020-06-12T06:27:00\", \"2020-06-12T06:27:00\", \"2020-06-11T04:39:00\", \"2020-06-11T04:39:00\", \"2020-06-11T04:39:00\", \"2020-06-10T04:10:00\", \"2020-06-10T04:10:00\", \"2020-06-10T04:10:00\", \"2020-06-10T04:10:00\", \"2020-06-10T04:10:00\", \"2020-06-10T04:10:00\", \"2020-06-10T04:10:00\", \"2020-06-10T04:10:00\", \"2020-04-29T04:00:00\", \"2020-04-29T04:00:00\", \"2020-04-29T04:00:00\", \"2020-04-29T04:00:00\", \"2020-04-28T03:51:00\", \"2020-04-28T03:51:00\", \"2020-04-28T03:51:00\", \"2020-04-26T03:35:00\", \"2020-04-26T03:35:00\", \"2020-04-25T03:26:00\", \"2020-04-25T03:26:00\", \"2020-04-25T03:26:00\", \"2020-04-25T03:26:00\", \"2020-04-25T03:26:00\", \"2020-04-25T03:26:00\", \"2020-04-24T03:18:00\", \"2020-04-19T02:40:00\", \"2020-04-18T02:32:00\", \"2020-04-17T02:31:00\", \"2020-04-16T02:30:00\", \"2020-04-15T02:10:00\", \"2020-04-15T02:10:00\", \"2020-04-15T02:10:00\", \"2020-04-15T02:10:00\", \"2020-04-14T02:00:00\", \"2020-04-13T01:49:00\", \"2020-04-12T02:15:00\", \"2020-04-12T02:15:00\", \"2020-04-11T02:03:00\", \"2020-04-11T02:03:00\", \"2020-04-10T01:48:00\", \"2020-04-10T01:48:00\", \"2020-04-10T01:48:00\", \"2020-04-10T01:48:00\", \"2020-04-09T01:34:00\", \"2020-04-08T01:18:00\", \"2020-04-08T01:18:00\", \"2020-04-08T01:18:00\", \"2020-04-08T01:18:00\", \"2020-04-07T01:02:00\", \"2020-04-07T01:02:00\", \"2020-04-07T01:02:00\", \"2020-04-04T01:12:00\", \"2020-04-04T01:12:00\", \"2020-04-03T01:00:00\", \"2020-04-03T01:00:00\", \"2020-04-03T01:00:00\", \"2020-04-02T00:48:00\", \"2020-04-02T00:48:00\", \"2020-04-02T00:48:00\", \"2020-04-02T00:48:00\", \"2020-04-01T00:35:00\", \"2020-03-31T18:31:00\", \"2020-03-31T18:31:00\", \"2020-03-29T05:57:00\", \"2020-03-29T05:57:00\", \"2020-03-29T05:57:00\", \"2020-03-29T05:57:00\", \"2020-03-26T05:11:00\", \"2020-03-21T03:41:00\", \"2020-03-21T03:41:00\", \"2020-03-21T03:41:00\", \"2020-03-18T03:02:00\", \"2020-03-16T02:43:00\", \"2020-03-16T02:43:00\", \"2020-03-14T03:20:00\", \"2020-03-13T03:06:00\", \"2020-03-12T02:54:00\", \"2020-03-12T02:54:00\", \"2020-03-11T02:40:00\", \"2020-03-11T02:40:00\", \"2020-03-11T02:40:00\", \"2020-03-10T05:44:00\", \"2020-03-10T05:44:00\", \"2020-03-10T05:44:00\", \"2020-03-10T05:44:00\", \"2020-03-10T05:44:00\", \"2020-03-08T01:47:00\", \"2020-03-08T01:47:00\", \"2020-03-08T01:47:00\", \"2020-03-08T01:47:00\", \"2020-03-08T01:47:00\", \"2020-03-08T01:47:00\", \"2020-03-08T01:47:00\", \"2020-03-08T01:47:00\", \"2020-03-08T01:47:00\", \"2020-05-05T05:00:00\", \"2020-05-03T04:38:00\", \"2020-05-02T04:29:00\", \"2020-03-08T01:47:00\", \"2020-03-08T01:47:00\", \"2020-03-08T01:47:00\", \"2020-03-08T01:47:00\", \"2020-03-08T01:47:00\", \"2020-03-08T01:47:00\", \"2020-03-08T01:47:00\", \"2020-03-08T01:47:00\", \"2020-03-08T01:47:00\", \"2020-03-08T01:47:00\", \"2020-03-08T01:47:00\", \"2020-03-08T01:47:00\", \"2020-03-08T01:47:00\", \"2020-03-08T01:47:00\", \"2020-03-08T01:47:00\", \"2020-03-08T01:47:00\", \"2020-03-08T01:47:00\", \"2020-03-08T01:47:00\", \"2020-03-08T01:47:00\", \"2020-03-08T01:47:00\", \"2020-03-08T01:47:00\", \"2020-03-08T01:47:00\", \"2020-03-08T01:47:00\", \"2020-03-08T01:47:00\", \"2020-03-08T01:47:00\", \"2020-03-08T01:47:00\", \"2020-03-08T01:47:00\", \"2020-03-08T01:47:00\", \"2020-03-08T01:47:00\", \"2020-03-08T01:47:00\", \"2020-03-08T01:47:00\", \"2020-03-08T01:47:00\", \"2020-03-08T01:47:00\", \"2020-03-08T01:47:00\", \"2020-03-08T01:47:00\", \"2020-03-08T01:47:00\", \"2020-03-08T01:47:00\", \"2020-03-08T01:47:00\", \"2020-03-08T01:47:00\", \"2020-03-08T01:47:00\", \"2020-03-08T01:47:00\", \"2020-03-08T01:47:00\", \"2020-03-08T01:47:00\", \"2020-03-08T01:47:00\", \"2020-03-08T01:47:00\", \"2020-03-08T01:47:00\", \"2020-03-08T01:47:00\", \"2020-03-08T01:47:00\", \"2020-03-08T01:47:00\", \"2020-03-08T01:47:00\", \"2020-03-08T01:47:00\", \"2020-03-08T01:47:00\", \"2020-03-08T01:47:00\", \"2020-03-08T01:47:00\", \"2020-03-08T01:47:00\", \"2020-03-08T01:47:00\", \"2020-03-08T01:47:00\", \"2020-03-08T01:47:00\", \"2020-03-08T01:47:00\", \"2020-03-08T01:47:00\", \"2020-03-08T01:47:00\", \"2020-03-08T01:47:00\", \"2020-03-08T01:47:00\", \"2020-03-08T01:47:00\", \"2020-03-08T01:47:00\", \"2020-03-08T01:47:00\", \"2020-03-08T01:47:00\", \"2020-03-08T01:47:00\", \"2020-03-08T01:47:00\", \"2020-03-08T01:47:00\", \"2020-03-08T01:47:00\", \"2020-03-08T01:47:00\", \"2020-03-08T01:47:00\", \"2020-03-08T01:47:00\", \"2020-03-08T01:47:00\", \"2020-03-08T01:47:00\", \"2020-03-08T01:47:00\", \"2020-03-08T01:47:00\", \"2020-03-08T01:47:00\", \"2020-03-08T01:47:00\", \"2020-03-08T01:47:00\", \"2020-03-08T01:47:00\", \"2020-03-08T01:47:00\", \"2020-03-08T01:47:00\", \"2020-03-08T01:47:00\", \"2020-03-08T01:47:00\", \"2020-03-08T01:47:00\", \"2020-03-08T01:47:00\", \"2020-03-08T01:47:00\", \"2020-03-08T01:47:00\", \"2020-03-08T01:47:00\", \"2020-03-08T01:47:00\", \"2020-03-08T01:47:00\", \"2020-03-08T01:47:00\", \"2020-03-08T01:47:00\", \"2020-03-08T01:47:00\", \"2020-03-08T01:47:00\", \"2020-03-08T01:47:00\", \"2020-03-08T01:47:00\", \"2020-03-08T01:47:00\", \"2020-03-08T01:47:00\", \"2020-03-08T01:47:00\", \"2020-03-08T01:47:00\", \"2020-03-08T01:47:00\", \"2020-03-08T01:47:00\", \"2020-03-08T01:47:00\", \"2020-03-08T01:47:00\", \"2020-03-08T01:47:00\", \"2020-03-08T01:47:00\", \"2020-03-08T01:47:00\", \"2020-03-08T01:47:00\", \"2020-03-08T01:47:00\", \"2020-03-08T01:47:00\", \"2020-03-08T01:47:00\", \"2020-03-08T01:47:00\", \"2020-03-08T01:47:00\", \"2020-03-08T01:47:00\", \"2020-03-08T01:47:00\", \"2020-03-08T01:47:00\", \"2020-03-08T01:47:00\", \"2020-03-08T01:47:00\", \"2020-03-08T01:47:00\", \"2020-03-08T01:47:00\", \"2020-03-08T01:47:00\", \"2020-03-08T01:47:00\", \"2020-03-08T01:47:00\", \"2020-03-08T01:47:00\", \"2020-03-08T01:47:00\", \"2020-03-08T01:47:00\", \"2020-03-08T01:47:00\", \"2020-03-08T01:47:00\", \"2020-03-08T01:47:00\", \"2020-03-08T01:47:00\", \"2020-03-08T01:47:00\", \"2020-03-08T01:47:00\", \"2020-03-08T01:47:00\", \"2020-03-08T01:47:00\", \"2020-03-08T01:47:00\", \"2020-03-08T01:47:00\", \"2020-03-08T01:47:00\", \"2020-03-08T01:47:00\", \"2020-03-08T01:47:00\", \"2020-03-08T01:47:00\", \"2020-03-08T01:47:00\", \"2020-03-08T01:47:00\", \"2020-03-08T01:47:00\", \"2020-03-08T01:47:00\", \"2020-03-08T01:47:00\", \"2020-03-08T01:47:00\", \"2020-03-08T01:47:00\", \"2020-03-08T01:47:00\", \"2020-03-08T01:47:00\", \"2020-03-08T01:47:00\", \"2020-03-08T01:47:00\", \"2020-03-08T01:47:00\", \"2020-03-08T01:47:00\", \"2020-03-08T01:47:00\", \"2020-03-08T01:47:00\", \"2020-03-08T01:47:00\", \"2020-03-08T01:47:00\", \"2020-03-08T01:47:00\", \"2020-03-08T01:47:00\", \"2020-03-08T01:47:00\", \"2020-03-08T01:47:00\", \"2020-03-08T01:47:00\", \"2020-03-08T01:47:00\", \"2020-03-08T01:47:00\", \"2020-03-08T01:47:00\", \"2020-03-08T01:47:00\", \"2020-03-08T01:47:00\", \"2020-03-08T01:47:00\", \"2020-03-08T01:47:00\", \"2020-03-08T01:47:00\", \"2020-03-08T01:47:00\", \"2020-03-08T01:47:00\", \"2020-03-08T01:47:00\", \"2020-03-08T01:47:00\", \"2020-03-08T01:47:00\", \"2020-03-08T01:47:00\", \"2020-03-08T01:47:00\", \"2020-03-08T01:47:00\", \"2020-03-08T01:47:00\", \"2020-03-08T01:47:00\", \"2020-03-08T01:47:00\", \"2020-03-08T01:47:00\", \"2020-03-08T01:47:00\", \"2020-03-08T01:47:00\", \"2020-03-08T01:47:00\"], \"xaxis\": \"x\", \"y\": [47.06, 166.0, 32.09, 21.35, 3.4, 6.41, 23.02, 26.59, 24.95, 22.73, 160.0, 13.99, 5.87, 31.0, 5.0, 53.39, 14.99, 7.99, 31.68, 32.3, 2.02, 14.35, 17.69, 18.52, 6.8, 39.24, 15.49, 16.66, 13.07, 11.74, 7.99, 38.14, 40.0, 27.07, 6.3, 5.35, 14.99, 4.99, 4.99, 24.81, 0.3, 33.12, 20.52, 1.99, 4.98, 4.99, 17.65, 3.4, 3.4, 1.99, 83.09, 2.87, 63.78, 42.77, 17.11, 5.35, 23.91, 15.5, 26.19, 3.0, 3.4, 6.41, 17.11, 12.75, 7.21, 13.27, 5.03, 6.39, 6.8, 19.5, 10.37, 7.69, 14.09, 37.43, 34.23, 6.37, 74.89, 10.69, 47.1, 7.0, 7.78, 12.95, 8.45, 29.84, 47.06, 14.52, 13.86, 10.68, 7.37, 9.96, 12.79, 300.0, 3.94, 125.0, 47.06, 41.72, 19.25, 12.82, 6.99, 16.04, 60.96, 47.06, 4.99, 1.99, 9.99, 50.81, 19.25, 1.0, 137.1, 58.28, 19.3, 14.71, 11.8, 9.75, 10.25, 18.52, 17.68, 28.88, 14.96, 9.62, 10.31, 13.99, 0.99, 0.99, 5.35, 31.96, 21.3, 11.76, 7.48, 9.99, 5.3, 8.52, 32.09, 14.99, 9.99, 4.99, 25.22, 6.4, 26.6, 47.91, 16.04, 7.6, 4.11, 3.4, 4.18, 2.98, 10.69, 102.11, 5.35, 2.99, 59.91, 37.04, 32.09, 12.24, 1.07, 36.77, 20.32, 16.04, 11.07, 50.0, 9.59, 32.09, 66.27, 1.99, 20.52, 12.83, 4.99, 4.99, 9.99, 1.99, 7.48, 3.99, 11.12, 40.0, 13.98, 0.5, 18.18, 17.14, 16.04, 15.0, 11.21, 5.35, 15.19, 1.99, 87.73, 10.89, 4.99, 4.49, 19.62, 22.0, 4.32, 7.03, 1.03, 110.02, 47.06, 166.0, 4.99, 54.39, 13.79, 5.35, 23.12, 10.0, 18.18, 3.99, 23.35, 8.55, 65.78, 1.01, 37.96, 5.35, 26.9, 28.88, 6.21, 3.4, 17.11, 0.85, 124.24, 9.61, 1.76, 10.69, 42.0, 12.83, 10.59, 7.76, 1.93, 65.48, 31.0, 9.36, 15.72, 5.99, 3.99, 4.99, 11.48, 2.99, 1.99, 19.23, 14.95, 9.22, 5.35, 2.99, 14.95, 7.24, 11.44, 3.99, 3.99, 32.09, 5.34, 2.13, 5.34, 1.51, 1.12, 20.44, 9.22, 59.48, 28.88, 30.31, 15.24, 2.17, 92.83, 1.99, 13.47, 21.39, 10.69, 30.6, 85.15, 28.12, 0.36, 8.94, 5.35, 3.99, 7.76, 4.84, 2.14, 16.57, 4.99, 5.0, 20.0, 8.99, 26.28, 78.0, 11.27, 10.0, 91.51, 45.8, 8.53, 39.69, 77.98, 88.19, 0.76, 1.99, 97.52, 82.86, 65.27, 21.03, 16.87, 36.59, 7.34, 14.99, 80.0, 93.05, 7.48, 1.96, 118.17, 29.74, 8.51, 1.07, 9.99, 3.4, 8.09, 29.99, 10.68, 5.34, 24.7, 14.95, 23.41, 4.99, 10.19, 80.58, 58.85, 24.93, 5.34, 1.0, 3.5, 28.83, 21.86, 16.36, 8.0, 1.99, 9.55, 38.5, 14.97, 17.51, 2.44, 8.26, 9.0, 17.97, 10.89, 5.35, 30.61, 17.0, 1.64, 1.99, 14.99, 23.01, 7.16, 60.8, 9.05, 8.32, 7.63, 17.17, 25.0, 3.4, 7.6, 6.23, 6.8, 1.99, 9.61, 12.5, 12.5, 5.0, 2.47, 1.9, 9.99, 24.59, 84.75, 4.99, 10.19, 5.0, 2.14, 9.99, 20.0, 20.0, 20.0, 20.0, 20.0, 20.0, 20.0, 20.0, 19.73, 6.8, 7.27, 360.94, 10.51, 9.53, 1.1, 20.0, 20.0, 20.0, 23.95, 5.32, 24.6, 6.66, 9.99, 50.27, 42.78, 1.99, 14.95, 7.76, 10.69, 14.99, 55.26, 32.09, 16.91, 9.14, 5.35, 67.81, 10.19, 11.76, 3.2, 38.82, 8.02, 3.55, 5.34, 31.09, 16.91, 28.08, 13.9, 68.78, 68.78, 8.05, 4.88, 12.57, 32.0, 9.99, 2.0, 0.19, 64.79, 24.04, 3.82, 1.99, 10.69, 6.8, 15.25, 14.43, 9.22, 7.76, 16.91, 12.5, 9.22, 9.22, 9.22, 43.6, 3.43, 7.72, 19.8, 12.95, 14.95, 41.17, 5.0, 1.39, 15.78, 9.01, 45.14, 41.77, 31.21, 4.0, 2.0, 75.88, 1.99, 5.34, 31.14, 4.99, 6.54, 2.13, 20.3, 27.66, 13.56, 5.0, 3.99, 41.23, 8.69, 46.0, 10.89, 7.77, 50.0, 1.99], \"yaxis\": \"y\"}],\n",
       "                        {\"barmode\": \"relative\", \"legend\": {\"tracegroupgap\": 0}, \"template\": {\"data\": {\"bar\": [{\"error_x\": {\"color\": \"#2a3f5f\"}, \"error_y\": {\"color\": \"#2a3f5f\"}, \"marker\": {\"line\": {\"color\": \"#E5ECF6\", \"width\": 0.5}}, \"type\": \"bar\"}], \"barpolar\": [{\"marker\": {\"line\": {\"color\": \"#E5ECF6\", \"width\": 0.5}}, \"type\": \"barpolar\"}], \"carpet\": [{\"aaxis\": {\"endlinecolor\": \"#2a3f5f\", \"gridcolor\": \"white\", \"linecolor\": \"white\", \"minorgridcolor\": \"white\", \"startlinecolor\": \"#2a3f5f\"}, \"baxis\": {\"endlinecolor\": \"#2a3f5f\", \"gridcolor\": \"white\", \"linecolor\": \"white\", \"minorgridcolor\": \"white\", \"startlinecolor\": \"#2a3f5f\"}, \"type\": \"carpet\"}], \"choropleth\": [{\"colorbar\": {\"outlinewidth\": 0, \"ticks\": \"\"}, \"type\": \"choropleth\"}], \"contour\": [{\"colorbar\": {\"outlinewidth\": 0, \"ticks\": \"\"}, \"colorscale\": [[0.0, \"#0d0887\"], [0.1111111111111111, \"#46039f\"], [0.2222222222222222, \"#7201a8\"], [0.3333333333333333, \"#9c179e\"], [0.4444444444444444, \"#bd3786\"], [0.5555555555555556, \"#d8576b\"], [0.6666666666666666, \"#ed7953\"], [0.7777777777777778, \"#fb9f3a\"], [0.8888888888888888, \"#fdca26\"], [1.0, \"#f0f921\"]], \"type\": \"contour\"}], \"contourcarpet\": [{\"colorbar\": {\"outlinewidth\": 0, \"ticks\": \"\"}, \"type\": \"contourcarpet\"}], \"heatmap\": [{\"colorbar\": {\"outlinewidth\": 0, \"ticks\": \"\"}, \"colorscale\": [[0.0, \"#0d0887\"], [0.1111111111111111, \"#46039f\"], [0.2222222222222222, \"#7201a8\"], [0.3333333333333333, \"#9c179e\"], [0.4444444444444444, \"#bd3786\"], [0.5555555555555556, \"#d8576b\"], [0.6666666666666666, \"#ed7953\"], [0.7777777777777778, \"#fb9f3a\"], [0.8888888888888888, \"#fdca26\"], [1.0, \"#f0f921\"]], \"type\": \"heatmap\"}], \"heatmapgl\": [{\"colorbar\": {\"outlinewidth\": 0, \"ticks\": \"\"}, \"colorscale\": [[0.0, \"#0d0887\"], [0.1111111111111111, \"#46039f\"], [0.2222222222222222, \"#7201a8\"], [0.3333333333333333, \"#9c179e\"], [0.4444444444444444, \"#bd3786\"], [0.5555555555555556, \"#d8576b\"], [0.6666666666666666, \"#ed7953\"], [0.7777777777777778, \"#fb9f3a\"], [0.8888888888888888, \"#fdca26\"], [1.0, \"#f0f921\"]], \"type\": \"heatmapgl\"}], \"histogram\": [{\"marker\": {\"colorbar\": {\"outlinewidth\": 0, \"ticks\": \"\"}}, \"type\": \"histogram\"}], \"histogram2d\": [{\"colorbar\": {\"outlinewidth\": 0, \"ticks\": \"\"}, \"colorscale\": [[0.0, \"#0d0887\"], [0.1111111111111111, \"#46039f\"], [0.2222222222222222, \"#7201a8\"], [0.3333333333333333, \"#9c179e\"], [0.4444444444444444, \"#bd3786\"], [0.5555555555555556, \"#d8576b\"], [0.6666666666666666, \"#ed7953\"], [0.7777777777777778, \"#fb9f3a\"], [0.8888888888888888, \"#fdca26\"], [1.0, \"#f0f921\"]], \"type\": \"histogram2d\"}], \"histogram2dcontour\": [{\"colorbar\": {\"outlinewidth\": 0, \"ticks\": \"\"}, \"colorscale\": [[0.0, \"#0d0887\"], [0.1111111111111111, \"#46039f\"], [0.2222222222222222, \"#7201a8\"], [0.3333333333333333, \"#9c179e\"], [0.4444444444444444, \"#bd3786\"], [0.5555555555555556, \"#d8576b\"], [0.6666666666666666, \"#ed7953\"], [0.7777777777777778, \"#fb9f3a\"], [0.8888888888888888, \"#fdca26\"], [1.0, \"#f0f921\"]], \"type\": \"histogram2dcontour\"}], \"mesh3d\": [{\"colorbar\": {\"outlinewidth\": 0, \"ticks\": \"\"}, \"type\": \"mesh3d\"}], \"parcoords\": [{\"line\": {\"colorbar\": {\"outlinewidth\": 0, \"ticks\": \"\"}}, \"type\": \"parcoords\"}], \"pie\": [{\"automargin\": true, \"type\": \"pie\"}], \"scatter\": [{\"marker\": {\"colorbar\": {\"outlinewidth\": 0, \"ticks\": \"\"}}, \"type\": \"scatter\"}], \"scatter3d\": [{\"line\": {\"colorbar\": {\"outlinewidth\": 0, \"ticks\": \"\"}}, \"marker\": {\"colorbar\": {\"outlinewidth\": 0, \"ticks\": \"\"}}, \"type\": \"scatter3d\"}], \"scattercarpet\": [{\"marker\": {\"colorbar\": {\"outlinewidth\": 0, \"ticks\": \"\"}}, \"type\": \"scattercarpet\"}], \"scattergeo\": [{\"marker\": {\"colorbar\": {\"outlinewidth\": 0, \"ticks\": \"\"}}, \"type\": \"scattergeo\"}], \"scattergl\": [{\"marker\": {\"colorbar\": {\"outlinewidth\": 0, \"ticks\": \"\"}}, \"type\": \"scattergl\"}], \"scattermapbox\": [{\"marker\": {\"colorbar\": {\"outlinewidth\": 0, \"ticks\": \"\"}}, \"type\": \"scattermapbox\"}], \"scatterpolar\": [{\"marker\": {\"colorbar\": {\"outlinewidth\": 0, \"ticks\": \"\"}}, \"type\": \"scatterpolar\"}], \"scatterpolargl\": [{\"marker\": {\"colorbar\": {\"outlinewidth\": 0, \"ticks\": \"\"}}, \"type\": \"scatterpolargl\"}], \"scatterternary\": [{\"marker\": {\"colorbar\": {\"outlinewidth\": 0, \"ticks\": \"\"}}, \"type\": \"scatterternary\"}], \"surface\": [{\"colorbar\": {\"outlinewidth\": 0, \"ticks\": \"\"}, \"colorscale\": [[0.0, \"#0d0887\"], [0.1111111111111111, \"#46039f\"], [0.2222222222222222, \"#7201a8\"], [0.3333333333333333, \"#9c179e\"], [0.4444444444444444, \"#bd3786\"], [0.5555555555555556, \"#d8576b\"], [0.6666666666666666, \"#ed7953\"], [0.7777777777777778, \"#fb9f3a\"], [0.8888888888888888, \"#fdca26\"], [1.0, \"#f0f921\"]], \"type\": \"surface\"}], \"table\": [{\"cells\": {\"fill\": {\"color\": \"#EBF0F8\"}, \"line\": {\"color\": \"white\"}}, \"header\": {\"fill\": {\"color\": \"#C8D4E3\"}, \"line\": {\"color\": \"white\"}}, \"type\": \"table\"}]}, \"layout\": {\"annotationdefaults\": {\"arrowcolor\": \"#2a3f5f\", \"arrowhead\": 0, \"arrowwidth\": 1}, \"coloraxis\": {\"colorbar\": {\"outlinewidth\": 0, \"ticks\": \"\"}}, \"colorscale\": {\"diverging\": [[0, \"#8e0152\"], [0.1, \"#c51b7d\"], [0.2, \"#de77ae\"], [0.3, \"#f1b6da\"], [0.4, \"#fde0ef\"], [0.5, \"#f7f7f7\"], [0.6, \"#e6f5d0\"], [0.7, \"#b8e186\"], [0.8, \"#7fbc41\"], [0.9, \"#4d9221\"], [1, \"#276419\"]], \"sequential\": [[0.0, \"#0d0887\"], [0.1111111111111111, \"#46039f\"], [0.2222222222222222, \"#7201a8\"], [0.3333333333333333, \"#9c179e\"], [0.4444444444444444, \"#bd3786\"], [0.5555555555555556, \"#d8576b\"], [0.6666666666666666, \"#ed7953\"], [0.7777777777777778, \"#fb9f3a\"], [0.8888888888888888, \"#fdca26\"], [1.0, \"#f0f921\"]], \"sequentialminus\": [[0.0, \"#0d0887\"], [0.1111111111111111, \"#46039f\"], [0.2222222222222222, \"#7201a8\"], [0.3333333333333333, \"#9c179e\"], [0.4444444444444444, \"#bd3786\"], [0.5555555555555556, \"#d8576b\"], [0.6666666666666666, \"#ed7953\"], [0.7777777777777778, \"#fb9f3a\"], [0.8888888888888888, \"#fdca26\"], [1.0, \"#f0f921\"]]}, \"colorway\": [\"#636efa\", \"#EF553B\", \"#00cc96\", \"#ab63fa\", \"#FFA15A\", \"#19d3f3\", \"#FF6692\", \"#B6E880\", \"#FF97FF\", \"#FECB52\"], \"font\": {\"color\": \"#2a3f5f\"}, \"geo\": {\"bgcolor\": \"white\", \"lakecolor\": \"white\", \"landcolor\": \"#E5ECF6\", \"showlakes\": true, \"showland\": true, \"subunitcolor\": \"white\"}, \"hoverlabel\": {\"align\": \"left\"}, \"hovermode\": \"closest\", \"mapbox\": {\"style\": \"light\"}, \"paper_bgcolor\": \"white\", \"plot_bgcolor\": \"#E5ECF6\", \"polar\": {\"angularaxis\": {\"gridcolor\": \"white\", \"linecolor\": \"white\", \"ticks\": \"\"}, \"bgcolor\": \"#E5ECF6\", \"radialaxis\": {\"gridcolor\": \"white\", \"linecolor\": \"white\", \"ticks\": \"\"}}, \"scene\": {\"xaxis\": {\"backgroundcolor\": \"#E5ECF6\", \"gridcolor\": \"white\", \"gridwidth\": 2, \"linecolor\": \"white\", \"showbackground\": true, \"ticks\": \"\", \"zerolinecolor\": \"white\"}, \"yaxis\": {\"backgroundcolor\": \"#E5ECF6\", \"gridcolor\": \"white\", \"gridwidth\": 2, \"linecolor\": \"white\", \"showbackground\": true, \"ticks\": \"\", \"zerolinecolor\": \"white\"}, \"zaxis\": {\"backgroundcolor\": \"#E5ECF6\", \"gridcolor\": \"white\", \"gridwidth\": 2, \"linecolor\": \"white\", \"showbackground\": true, \"ticks\": \"\", \"zerolinecolor\": \"white\"}}, \"shapedefaults\": {\"line\": {\"color\": \"#2a3f5f\"}}, \"ternary\": {\"aaxis\": {\"gridcolor\": \"white\", \"linecolor\": \"white\", \"ticks\": \"\"}, \"baxis\": {\"gridcolor\": \"white\", \"linecolor\": \"white\", \"ticks\": \"\"}, \"bgcolor\": \"#E5ECF6\", \"caxis\": {\"gridcolor\": \"white\", \"linecolor\": \"white\", \"ticks\": \"\"}}, \"title\": {\"x\": 0.05}, \"xaxis\": {\"automargin\": true, \"gridcolor\": \"white\", \"linecolor\": \"white\", \"ticks\": \"\", \"title\": {\"standoff\": 15}, \"zerolinecolor\": \"white\", \"zerolinewidth\": 2}, \"yaxis\": {\"automargin\": true, \"gridcolor\": \"white\", \"linecolor\": \"white\", \"ticks\": \"\", \"title\": {\"standoff\": 15}, \"zerolinecolor\": \"white\", \"zerolinewidth\": 2}}}, \"title\": {\"text\": \"Kevin's Spending Habits\"}, \"width\": 1000, \"xaxis\": {\"anchor\": \"y\", \"domain\": [0.0, 1.0], \"title\": {\"text\": \"date\"}}, \"yaxis\": {\"anchor\": \"x\", \"domain\": [0.0, 1.0], \"title\": {\"text\": \"amount_dollars\"}}},\n",
       "                        {\"responsive\": true}\n",
       "                    ).then(function(){\n",
       "                            \n",
       "var gd = document.getElementById('2e316442-3451-4340-9a37-6f7f7da00754');\n",
       "var x = new MutationObserver(function (mutations, observer) {{\n",
       "        var display = window.getComputedStyle(gd).display;\n",
       "        if (!display || display === 'none') {{\n",
       "            console.log([gd, 'removed!']);\n",
       "            Plotly.purge(gd);\n",
       "            observer.disconnect();\n",
       "        }}\n",
       "}});\n",
       "\n",
       "// Listen for the removal of the full notebook cells\n",
       "var notebookContainer = gd.closest('#notebook-container');\n",
       "if (notebookContainer) {{\n",
       "    x.observe(notebookContainer, {childList: true});\n",
       "}}\n",
       "\n",
       "// Listen for the clearing of the current output cell\n",
       "var outputEl = gd.closest('.output');\n",
       "if (outputEl) {{\n",
       "    x.observe(outputEl, {childList: true});\n",
       "}}\n",
       "\n",
       "                        })\n",
       "                };\n",
       "                \n",
       "            </script>\n",
       "        </div>\n",
       "</body>\n",
       "</html>"
      ]
     },
     "metadata": {
      "tags": []
     },
     "output_type": "display_data"
    }
   ],
   "source": [
    "def grapher(user, df, category,  threshold = 0.05, user_name = 'Kevin', graph_type = 'pie', start_date=, end_date,):\n",
    "    kevin = df[ df['plaid_account_id']==user ]\n",
    "\n",
    "    kevin_non_transfer = kevin[ (kevin[category] != 'Transfers') & (kevin['amount_cents'] > 0)]\n",
    "\n",
    "    kevin_non_transfer['amount_dollars'] = kevin_non_transfer['amount_cents'] / 100\n",
    "\n",
    "    cat_count = kevin_non_transfer[category].value_counts(normalize = True)\n",
    "\n",
    "    for i in range(len(cat_count.index)):\n",
    "        if cat_count[i] <= threshold:\n",
    "            bad_cat = cat_count.index[i]\n",
    "\n",
    "            kevin_non_transfer = kevin_non_transfer.replace([bad_cat], ['Other'])\n",
    "\n",
    "    df = kevin_non_transfer\n",
    "\n",
    "    if graph_type == 'pie':\n",
    "      fig = px.pie(df, values='amount_dollars', names=category, title=f\"{user_name}'s Spending Habits\")\n",
    "      fig.show()\n",
    "      return\n",
    "    \n",
    "    elif graph_type == 'bar':\n",
    "      fig = px.bar(df, x = 'date', y = 'amount_dollars', color=category, title = \"Kevin's Spending Habits\", width=1000)\n",
    "      fig.show()\n",
    "      return\n",
    "\n",
    "    else:\n",
    "      raise TypeError(\"Invalid Chart Type\")\n",
    "\n",
    "  \n",
    "grapher('1635ob1dkQIz1QMjLmBpt0E36VyM96ImeyrgZ', dfPMT_categorized_subset, 'grandparent_category_name', graph_type='bar')"
   ]
  },
  {
   "cell_type": "code",
   "execution_count": null,
   "metadata": {
    "colab": {
     "base_uri": "https://localhost:8080/",
     "height": 408
    },
    "colab_type": "code",
    "id": "g7sMVpxksQC4",
    "outputId": "aed0463c-9111-4699-d374-edd70eb07e62"
   },
   "outputs": [
    {
     "data": {
      "text/plain": [
       "1635ob1dkQIz1QMjLmBpt0E36VyM96ImeyrgZ    1360\n",
       "mEQmv8ybP1t3o3bYnKzwFqP5jad1KKUM8N06o    1280\n",
       "vq4mMRdZLeFon7bK63jefLOomaRPYBCmAJP6g    1073\n",
       "ojQ7ZARMD3HvOxe0AM7ZfgqByxymNgcBdErKK     351\n",
       "rekPD6wxbPfEqbVbDpYZck38dan4K3sB8rx5n     168\n",
       "1E1L81Ld3RfgPL7XdkAZtZd7V169xXHmQROrv     136\n",
       "X1VPwkEJAzHBEaByOrmDHMoDQEJO5ws4OnkXy     135\n",
       "kYgkpNBD4yF0q0db7vyeCeBR5VXVOgsRkAJ7b     124\n",
       "v37a5rODaRHkkBgZje0LFjLLVPYmr9fmzjr9D     119\n",
       "vMr0dbz7qMFmmVkDbXEXTJkRz8P4netmY9jjj      97\n",
       "prowokzo5PT6mzBPX3gRuDN6k1dr0aFJD14v6      92\n",
       "5AErXqkmRPiPy3xda15LIA1MYQwkx7f1wx65v      62\n",
       "jZrge9o4XVcbdaxM78R5C7K6BrqD1MhRMdoym      55\n",
       "DgJqoXeN79hMVXB53XYBH4wJzPk0evUZEKpbE      34\n",
       "KnrQ0oNwd1C3RNPaEBbaIqNxge7gBXTQvyjvA      28\n",
       "XgAqyyoExpUvy0yX8Z3YH5ALX4x0aEf4kqq0q      20\n",
       "a58a97rVLZs6LZdYRn94sLvNR0jRq1IZL0pnq      16\n",
       "Oj09YgyXX9h308gOwLjxiOXYZn8AmjC8ejqVj      16\n",
       "PrO6nDOgqru8qg6dQ5wOHjP3AzBJ9xtmrnYVM      14\n",
       "ALZLMwDdjmH3zXakq4BDFJ3zgX0roNU6bMEE6      12\n",
       "pRkakg38abt86wxvD380UAVNDE9XNAuJJ3Aor      11\n",
       "V34Dr53jNYCw3KgBE7L6uvBoaLKPk8traRgAZ       9\n",
       "Name: plaid_account_id, dtype: int64"
      ]
     },
     "execution_count": 101,
     "metadata": {
      "tags": []
     },
     "output_type": "execute_result"
    }
   ],
   "source": [
    "users"
   ]
  },
  {
   "cell_type": "code",
   "execution_count": null,
   "metadata": {
    "colab": {
     "base_uri": "https://localhost:8080/",
     "height": 678
    },
    "colab_type": "code",
    "id": "F30f6GLSsRP5",
    "outputId": "98fba432-3d2f-46b5-c31f-e6a2734d414c"
   },
   "outputs": [
    {
     "name": "stderr",
     "output_type": "stream",
     "text": [
      "/usr/local/lib/python3.6/dist-packages/ipykernel_launcher.py:6: SettingWithCopyWarning:\n",
      "\n",
      "\n",
      "A value is trying to be set on a copy of a slice from a DataFrame.\n",
      "Try using .loc[row_indexer,col_indexer] = value instead\n",
      "\n",
      "See the caveats in the documentation: https://pandas.pydata.org/pandas-docs/stable/user_guide/indexing.html#returning-a-view-versus-a-copy\n",
      "\n"
     ]
    },
    {
     "data": {
      "text/html": [
       "<html>\n",
       "<head><meta charset=\"utf-8\" /></head>\n",
       "<body>\n",
       "    <div>\n",
       "            <script src=\"https://cdnjs.cloudflare.com/ajax/libs/mathjax/2.7.5/MathJax.js?config=TeX-AMS-MML_SVG\"></script><script type=\"text/javascript\">if (window.MathJax) {MathJax.Hub.Config({SVG: {font: \"STIX-Web\"}});}</script>\n",
       "                <script type=\"text/javascript\">window.PlotlyConfig = {MathJaxConfig: 'local'};</script>\n",
       "        <script src=\"https://cdn.plot.ly/plotly-latest.min.js\"></script>    \n",
       "            <div id=\"8368edfc-5b0b-4900-a411-98aaf6380bb0\" class=\"plotly-graph-div\" style=\"height:525px; width:100%;\"></div>\n",
       "            <script type=\"text/javascript\">\n",
       "                \n",
       "                    window.PLOTLYENV=window.PLOTLYENV || {};\n",
       "                    \n",
       "                if (document.getElementById(\"8368edfc-5b0b-4900-a411-98aaf6380bb0\")) {\n",
       "                    Plotly.newPlot(\n",
       "                        '8368edfc-5b0b-4900-a411-98aaf6380bb0',\n",
       "                        [{\"domain\": {\"x\": [0.0, 1.0], \"y\": [0.0, 1.0]}, \"hoverlabel\": {\"namelength\": 0}, \"hovertemplate\": \"category_name=%{label}<br>amount_dollars=%{value}\", \"labels\": [\"Other\", \"Supermarkets and Groceries\", \"Other\", \"Other\", \"Other\", \"Shops\", \"Storage\", \"Storage\", \"Other\", \"Other\", \"Storage\", \"Restaurants\", \"Other\", \"Other\", \"Other\", \"Chase QuickPay\", \"Chase QuickPay\", \"Chase QuickPay\", \"Other\", \"Chase QuickPay\", \"Other\", \"Other\", \"Other\", \"Chase QuickPay\", \"Other\", \"Other\", \"Supermarkets and Groceries\", \"Other\", \"Other\", \"Gas Stations\", \"Gas Stations\", \"Other\", \"Other\", \"Chase QuickPay\", \"Chase QuickPay\", \"Other\", \"Other\", \"Other\", \"Other\", \"Other\", \"Supermarkets and Groceries\", \"Chase QuickPay\", \"Other\", \"Gas Stations\", \"Storage\", \"Other\", \"Supermarkets and Groceries\", \"Other\", \"Storage\", \"Storage\", \"Other\", \"Gas Stations\", \"Other\", \"Other\", \"Shops\", \"Other\", \"Other\", \"Other\", \"Shops\", \"Other\", \"Restaurants\", \"Other\", \"Other\", \"Chase QuickPay\", \"Chase QuickPay\", \"Other\", \"Other\", \"Other\", \"Other\", \"Other\", \"Other\", \"Shops\", \"Gas Stations\", \"Other\", \"Chase QuickPay\", \"Restaurants\", \"Other\", \"Gas Stations\", \"Gas Stations\", \"Other\", \"Other\", \"Other\", \"Other\", \"Gas Stations\", \"Other\", \"Other\", \"Other\", \"Other\", \"Other\", \"Other\", \"Other\", \"Other\", \"Other\", \"Other\", \"Shops\", \"Other\", \"Gas Stations\", \"Other\", \"Other\", \"Other\", \"Other\", \"Storage\", \"Other\", \"Other\", \"Other\", \"Other\", \"Other\", \"Shops\", \"Storage\", \"Storage\", \"Restaurants\", \"Other\", \"Supermarkets and Groceries\", \"Chase QuickPay\", \"Other\", \"Other\", \"Other\", \"Supermarkets and Groceries\", \"Other\", \"Other\", \"Other\", \"Other\", \"Gas Stations\", \"Other\", \"Other\", \"Other\", \"Shops\", \"Shops\", \"Chase QuickPay\", \"Other\", \"Other\", \"Other\", \"Other\", \"Supermarkets and Groceries\", \"Supermarkets and Groceries\", \"Chase QuickPay\", \"Chase QuickPay\", \"Chase QuickPay\", \"Other\", \"Other\", \"Gas Stations\", \"Other\", \"Gas Stations\", \"Other\", \"Other\", \"Other\", \"Other\", \"Other\", \"Chase QuickPay\", \"Other\", \"Other\", \"Supermarkets and Groceries\", \"Other\", \"Other\", \"Other\", \"Shops\", \"Storage\", \"Storage\", \"Other\", \"Other\", \"Storage\", \"Restaurants\", \"Other\", \"Other\", \"Chase QuickPay\", \"Chase QuickPay\", \"Chase QuickPay\", \"Other\", \"Other\", \"Shops\", \"Shops\", \"Other\", \"Other\", \"Other\", \"Other\", \"Gas Stations\", \"Chase QuickPay\", \"Other\", \"Other\", \"Chase QuickPay\", \"Other\", \"Shops\", \"Shops\", \"Shops\", \"Other\", \"Chase QuickPay\", \"Other\", \"Shops\", \"Other\", \"Other\", \"Other\", \"Other\", \"Other\", \"Other\", \"Other\", \"Other\", \"Other\", \"Other\", \"Shops\", \"Shops\", \"Shops\", \"Other\", \"Other\", \"Other\", \"Other\", \"Other\", \"Storage\", \"Supermarkets and Groceries\", \"Other\", \"Chase QuickPay\", \"Storage\", \"Storage\", \"Other\", \"Shops\", \"Shops\", \"Other\", \"Other\", \"Other\", \"Shops\", \"Other\", \"Other\", \"Restaurants\", \"Other\", \"Chase QuickPay\", \"Chase QuickPay\", \"Other\", \"Other\", \"Other\", \"Gas Stations\", \"Other\", \"Other\", \"Other\", \"Supermarkets and Groceries\", \"Supermarkets and Groceries\", \"Shops\", \"Shops\", \"Shops\", \"Gas Stations\", \"Other\", \"Other\", \"Other\", \"Storage\", \"Other\", \"Other\", \"Other\", \"Storage\", \"Shops\", \"Other\", \"Shops\", \"Shops\", \"Shops\", \"Shops\", \"Gas Stations\", \"Shops\", \"Restaurants\", \"Other\", \"Other\", \"Other\", \"Shops\", \"Shops\", \"Shops\", \"Other\", \"Shops\", \"Shops\", \"Gas Stations\", \"Other\", \"Shops\", \"Gas Stations\", \"Supermarkets and Groceries\", \"Other\", \"Other\", \"Shops\", \"Shops\", \"Shops\", \"Chase QuickPay\", \"Shops\", \"Shops\", \"Shops\", \"Shops\", \"Shops\", \"Shops\", \"Shops\", \"Shops\", \"Shops\", \"Shops\", \"Shops\", \"Shops\", \"Shops\", \"Shops\", \"Shops\", \"Shops\", \"Shops\", \"Shops\", \"Supermarkets and Groceries\", \"Other\", \"Other\", \"Other\", \"Restaurants\", \"Other\", \"Storage\", \"Other\", \"Storage\", \"Gas Stations\", \"Other\", \"Supermarkets and Groceries\", \"Other\", \"Shops\", \"Shops\", \"Other\", \"Gas Stations\", \"Gas Stations\", \"Gas Stations\", \"Gas Stations\", \"Other\", \"Chase QuickPay\", \"Gas Stations\", \"Other\", \"Other\", \"Chase QuickPay\", \"Other\", \"Restaurants\", \"Other\", \"Other\", \"Other\", \"Storage\", \"Other\", \"Other\", \"Other\", \"Other\", \"Other\", \"Storage\", \"Other\", \"Shops\", \"Shops\", \"Supermarkets and Groceries\", \"Supermarkets and Groceries\", \"Other\", \"Shops\", \"Other\", \"Gas Stations\", \"Gas Stations\", \"Chase QuickPay\", \"Chase QuickPay\", \"Chase QuickPay\", \"Other\", \"Other\", \"Other\", \"Other\", \"Other\", \"Gas Stations\", \"Storage\", \"Shops\", \"Shops\", \"Shops\", \"Other\", \"Storage\", \"Shops\", \"Shops\", \"Shops\", \"Shops\", \"Shops\", \"Other\", \"Gas Stations\", \"Shops\", \"Shops\", \"Other\", \"Restaurants\", \"Shops\", \"Shops\", \"Shops\", \"Shops\", \"Shops\", \"Shops\", \"Gas Stations\", \"Gas Stations\", \"Restaurants\", \"Other\", \"Other\", \"Chase QuickPay\", \"Restaurants\", \"Restaurants\", \"Other\", \"Other\", \"Other\", \"Gas Stations\", \"Shops\", \"Shops\", \"Shops\", \"Supermarkets and Groceries\", \"Other\", \"Other\", \"Other\", \"Storage\", \"Gas Stations\", \"Restaurants\", \"Shops\", \"Other\", \"Shops\", \"Other\", \"Other\", \"Other\", \"Other\", \"Storage\", \"Gas Stations\", \"Other\", \"Other\", \"Supermarkets and Groceries\", \"Gas Stations\", \"Gas Stations\", \"Restaurants\", \"Gas Stations\", \"Other\", \"Supermarkets and Groceries\", \"Other\", \"Gas Stations\", \"Gas Stations\", \"Other\", \"Supermarkets and Groceries\", \"Chase QuickPay\", \"Other\", \"Other\", \"Restaurants\", \"Other\", \"Other\", \"Chase QuickPay\", \"Other\", \"Other\", \"Storage\", \"Other\", \"Restaurants\", \"Supermarkets and Groceries\", \"Other\", \"Other\", \"Supermarkets and Groceries\", \"Supermarkets and Groceries\", \"Other\", \"Other\", \"Supermarkets and Groceries\", \"Supermarkets and Groceries\", \"Other\", \"Other\", \"Storage\", \"Other\", \"Supermarkets and Groceries\", \"Supermarkets and Groceries\", \"Other\", \"Other\", \"Other\", \"Other\", \"Other\", \"Other\", \"Supermarkets and Groceries\", \"Supermarkets and Groceries\", \"Other\", \"Other\", \"Other\", \"Restaurants\", \"Restaurants\", \"Other\", \"Supermarkets and Groceries\", \"Chase QuickPay\", \"Restaurants\", \"Other\", \"Other\", \"Other\", \"Storage\", \"Other\", \"Other\", \"Gas Stations\", \"Storage\", \"Shops\", \"Gas Stations\", \"Other\", \"Other\", \"Supermarkets and Groceries\", \"Gas Stations\", \"Supermarkets and Groceries\", \"Supermarkets and Groceries\", \"Chase QuickPay\", \"Other\", \"Gas Stations\", \"Gas Stations\", \"Other\", \"Other\", \"Supermarkets and Groceries\", \"Gas Stations\", \"Other\", \"Other\", \"Other\", \"Other\", \"Other\", \"Restaurants\", \"Supermarkets and Groceries\", \"Supermarkets and Groceries\", \"Other\", \"Storage\", \"Storage\", \"Other\", \"Other\", \"Other\", \"Restaurants\", \"Other\", \"Shops\", \"Other\", \"Gas Stations\", \"Other\", \"Other\", \"Other\", \"Supermarkets and Groceries\", \"Other\", \"Other\", \"Other\", \"Other\", \"Other\", \"Other\", \"Chase QuickPay\", \"Supermarkets and Groceries\", \"Other\", \"Other\", \"Supermarkets and Groceries\", \"Supermarkets and Groceries\", \"Other\", \"Other\", \"Supermarkets and Groceries\", \"Supermarkets and Groceries\", \"Other\", \"Other\", \"Other\", \"Other\", \"Storage\", \"Storage\", \"Gas Stations\", \"Restaurants\", \"Other\", \"Other\", \"Restaurants\", \"Other\", \"Other\", \"Other\", \"Other\", \"Storage\", \"Restaurants\", \"Shops\", \"Shops\", \"Supermarkets and Groceries\", \"Gas Stations\", \"Other\", \"Other\", \"Other\", \"Other\", \"Gas Stations\", \"Gas Stations\", \"Gas Stations\", \"Supermarkets and Groceries\", \"Other\", \"Other\", \"Supermarkets and Groceries\", \"Chase QuickPay\", \"Gas Stations\", \"Supermarkets and Groceries\", \"Restaurants\", \"Supermarkets and Groceries\", \"Chase QuickPay\", \"Other\", \"Other\", \"Other\", \"Shops\", \"Other\", \"Other\", \"Gas Stations\", \"Shops\", \"Shops\", \"Storage\", \"Storage\", \"Other\", \"Other\", \"Storage\", \"Restaurants\", \"Supermarkets and Groceries\", \"Other\", \"Supermarkets and Groceries\", \"Other\", \"Other\", \"Other\", \"Other\", \"Other\", \"Chase QuickPay\", \"Chase QuickPay\", \"Chase QuickPay\", \"Other\", \"Other\", \"Other\", \"Other\", \"Other\", \"Supermarkets and Groceries\", \"Chase QuickPay\", \"Chase QuickPay\", \"Chase QuickPay\", \"Supermarkets and Groceries\", \"Chase QuickPay\", \"Other\", \"Other\", \"Other\", \"Storage\", \"Storage\", \"Other\", \"Other\", \"Storage\", \"Other\", \"Other\", \"Other\", \"Other\", \"Restaurants\", \"Other\", \"Supermarkets and Groceries\", \"Other\", \"Other\", \"Shops\", \"Other\", \"Other\", \"Other\", \"Shops\", \"Shops\", \"Other\", \"Other\", \"Other\", \"Other\", \"Other\", \"Other\", \"Other\", \"Other\", \"Other\", \"Other\", \"Other\", \"Supermarkets and Groceries\", \"Other\", \"Gas Stations\", \"Other\", \"Other\", \"Gas Stations\", \"Chase QuickPay\", \"Chase QuickPay\", \"Gas Stations\", \"Other\", \"Other\", \"Other\", \"Chase QuickPay\", \"Other\", \"Other\", \"Other\", \"Shops\", \"Restaurants\", \"Other\", \"Storage\", \"Other\", \"Shops\", \"Gas Stations\", \"Storage\", \"Shops\", \"Other\", \"Chase QuickPay\", \"Supermarkets and Groceries\", \"Shops\", \"Gas Stations\", \"Chase QuickPay\", \"Shops\", \"Other\", \"Other\", \"Other\", \"Other\", \"Other\", \"Storage\", \"Other\", \"Other\", \"Supermarkets and Groceries\", \"Other\", \"Storage\", \"Restaurants\", \"Gas Stations\", \"Other\", \"Other\", \"Other\", \"Other\", \"Other\", \"Other\", \"Other\", \"Other\", \"Shops\", \"Gas Stations\", \"Gas Stations\", \"Gas Stations\", \"Other\", \"Gas Stations\", \"Other\", \"Supermarkets and Groceries\", \"Other\", \"Chase QuickPay\", \"Chase QuickPay\", \"Other\", \"Other\", \"Other\", \"Gas Stations\", \"Storage\", \"Other\", \"Other\", \"Storage\", \"Restaurants\", \"Other\", \"Other\", \"Shops\", \"Shops\", \"Shops\", \"Other\", \"Other\", \"Other\", \"Other\", \"Other\", \"Other\", \"Shops\", \"Gas Stations\", \"Supermarkets and Groceries\", \"Other\", \"Gas Stations\", \"Gas Stations\", \"Other\", \"Gas Stations\", \"Gas Stations\", \"Other\", \"Other\", \"Supermarkets and Groceries\", \"Gas Stations\", \"Supermarkets and Groceries\", \"Shops\", \"Supermarkets and Groceries\", \"Chase QuickPay\", \"Other\", \"Other\", \"Other\", \"Supermarkets and Groceries\", \"Supermarkets and Groceries\", \"Other\", \"Restaurants\", \"Other\", \"Restaurants\", \"Other\", \"Storage\", \"Storage\", \"Other\", \"Other\", \"Supermarkets and Groceries\", \"Supermarkets and Groceries\", \"Supermarkets and Groceries\", \"Other\", \"Other\", \"Gas Stations\", \"Other\", \"Shops\", \"Restaurants\", \"Other\", \"Supermarkets and Groceries\", \"Other\", \"Gas Stations\", \"Shops\", \"Shops\", \"Supermarkets and Groceries\", \"Gas Stations\", \"Other\", \"Supermarkets and Groceries\", \"Chase QuickPay\", \"Other\", \"Other\", \"Restaurants\", \"Other\", \"Other\", \"Other\", \"Other\", \"Other\", \"Storage\", \"Other\", \"Other\", \"Other\", \"Storage\", \"Restaurants\", \"Other\", \"Other\", \"Shops\", \"Other\", \"Other\", \"Shops\", \"Shops\", \"Shops\", \"Shops\", \"Shops\", \"Other\", \"Other\", \"Other\", \"Gas Stations\", \"Supermarkets and Groceries\", \"Restaurants\", \"Gas Stations\", \"Gas Stations\", \"Supermarkets and Groceries\", \"Other\", \"Other\", \"Other\", \"Gas Stations\", \"Other\", \"Supermarkets and Groceries\", \"Other\", \"Gas Stations\", \"Other\", \"Chase QuickPay\", \"Chase QuickPay\", \"Other\", \"Other\", \"Other\", \"Other\", \"Other\", \"Other\", \"Restaurants\", \"Other\", \"Other\", \"Gas Stations\", \"Other\", \"Other\", \"Other\", \"Supermarkets and Groceries\", \"Other\", \"Other\", \"Storage\", \"Supermarkets and Groceries\", \"Other\", \"Other\", \"Gas Stations\", \"Other\", \"Gas Stations\", \"Gas Stations\", \"Other\", \"Gas Stations\", \"Supermarkets and Groceries\", \"Gas Stations\", \"Shops\", \"Other\", \"Other\", \"Restaurants\", \"Other\", \"Other\", \"Supermarkets and Groceries\", \"Supermarkets and Groceries\", \"Chase QuickPay\", \"Chase QuickPay\", \"Supermarkets and Groceries\", \"Other\", \"Restaurants\", \"Other\", \"Storage\", \"Other\", \"Chase QuickPay\", \"Gas Stations\", \"Gas Stations\", \"Other\", \"Other\", \"Other\", \"Other\", \"Other\", \"Other\", \"Other\", \"Other\", \"Restaurants\", \"Shops\", \"Other\", \"Other\", \"Other\", \"Storage\", \"Other\", \"Shops\", \"Shops\", \"Restaurants\", \"Supermarkets and Groceries\", \"Restaurants\", \"Chase QuickPay\", \"Supermarkets and Groceries\", \"Other\", \"Other\", \"Other\", \"Chase QuickPay\", \"Chase QuickPay\", \"Chase QuickPay\", \"Chase QuickPay\", \"Other\", \"Other\", \"Other\", \"Other\", \"Storage\", \"Other\", \"Restaurants\", \"Other\", \"Other\", \"Supermarkets and Groceries\", \"Other\", \"Supermarkets and Groceries\", \"Other\", \"Storage\", \"Other\", \"Chase QuickPay\", \"Shops\", \"Other\", \"Other\", \"Restaurants\", \"Gas Stations\", \"Storage\", \"Other\", \"Gas Stations\", \"Other\", \"Other\", \"Gas Stations\", \"Other\", \"Other\", \"Other\", \"Other\", \"Gas Stations\", \"Other\", \"Supermarkets and Groceries\", \"Other\", \"Other\", \"Chase QuickPay\", \"Other\", \"Other\", \"Supermarkets and Groceries\", \"Chase QuickPay\", \"Chase QuickPay\", \"Supermarkets and Groceries\", \"Chase QuickPay\", \"Restaurants\", \"Other\", \"Supermarkets and Groceries\", \"Supermarkets and Groceries\", \"Supermarkets and Groceries\", \"Other\", \"Chase QuickPay\", \"Chase QuickPay\", \"Other\", \"Supermarkets and Groceries\", \"Gas Stations\", \"Chase QuickPay\", \"Restaurants\", \"Other\", \"Other\", \"Supermarkets and Groceries\", \"Other\", \"Other\", \"Chase QuickPay\", \"Shops\", \"Storage\", \"Other\", \"Other\", \"Restaurants\", \"Other\", \"Other\", \"Other\", \"Storage\", \"Gas Stations\", \"Other\", \"Other\", \"Other\", \"Other\", \"Supermarkets and Groceries\", \"Chase QuickPay\", \"Chase QuickPay\", \"Chase QuickPay\", \"Supermarkets and Groceries\", \"Other\", \"Chase QuickPay\", \"Chase QuickPay\", \"Other\", \"Other\", \"Other\", \"Other\", \"Other\", \"Other\", \"Other\", \"Chase QuickPay\", \"Restaurants\", \"Supermarkets and Groceries\", \"Gas Stations\", \"Other\", \"Other\", \"Other\", \"Gas Stations\", \"Other\", \"Chase QuickPay\", \"Other\", \"Other\", \"Supermarkets and Groceries\", \"Supermarkets and Groceries\", \"Other\", \"Supermarkets and Groceries\", \"Other\", \"Chase QuickPay\", \"Chase QuickPay\", \"Chase QuickPay\", \"Other\", \"Other\", \"Other\", \"Restaurants\", \"Restaurants\", \"Shops\", \"Other\", \"Other\", \"Other\", \"Other\", \"Other\", \"Storage\", \"Restaurants\", \"Other\", \"Supermarkets and Groceries\", \"Storage\", \"Restaurants\", \"Storage\", \"Supermarkets and Groceries\", \"Other\", \"Other\", \"Restaurants\", \"Other\", \"Other\", \"Other\", \"Other\", \"Other\", \"Other\", \"Other\", \"Other\", \"Other\", \"Other\", \"Other\", \"Supermarkets and Groceries\", \"Restaurants\", \"Restaurants\", \"Other\", \"Gas Stations\", \"Other\", \"Other\", \"Other\", \"Supermarkets and Groceries\", \"Other\", \"Other\", \"Other\", \"Other\", \"Supermarkets and Groceries\", \"Other\", \"Other\", \"Other\", \"Other\", \"Other\", \"Other\", \"Supermarkets and Groceries\", \"Supermarkets and Groceries\", \"Other\", \"Supermarkets and Groceries\", \"Other\", \"Other\", \"Chase QuickPay\", \"Shops\", \"Storage\", \"Storage\", \"Other\", \"Other\", \"Other\", \"Restaurants\", \"Other\", \"Gas Stations\", \"Other\", \"Other\", \"Other\", \"Other\", \"Storage\", \"Chase QuickPay\", \"Other\", \"Other\", \"Other\", \"Shops\", \"Other\", \"Other\", \"Supermarkets and Groceries\", \"Supermarkets and Groceries\", \"Other\", \"Other\", \"Other\", \"Chase QuickPay\", \"Other\", \"Restaurants\"], \"legendgroup\": \"\", \"name\": \"\", \"showlegend\": true, \"type\": \"pie\", \"values\": [12.96, 172.75, 23.69, 15.99, 19.99, 72.52, 86.5, 45.0, 50.0, 63.0, 46.0, 50.0, 45.0, 12.95, 60.0, 150.0, 60.0, 20.0, 6.98, 40.0, 6.96, 1.99, 5.99, 20.0, 30.0, 26.62, 52.57, 35.99, 4.86, 11.84, 25.35, 7.0, 3.9, 20.0, 20.0, 50.0, 14.02, 6.47, 19.12, 2.37, 114.73, 5.0, 7.55, 5.0, 46.0, 12.31, 13.33, 22.3, 86.5, 45.0, 63.0, 10.35, 4.31, 28.79, 11.86, 19.54, 18.09, 19.99, 73.54, 71.83, 50.0, 50.0, 26.97, 150.0, 25.0, 15.99, 7.52, 10.78, 1.62, 5.99, 10.8, 4.9, 15.03, 7.0, 20.0, 6.47, 6.0, 28.36, 11.35, 10.89, 5.61, 5.4, 4.32, 6.01, 101.4, 10.74, 1.62, 20.24, 7.12, 6.48, 6.47, 3.76, 69.9, 8.15, 3.0, 50.0, 5.0, 14.03, 22.0, 11.6, 63.0, 46.0, 34.02, 12.0, 25.83, 11.72, 19.99, 59.99, 86.5, 45.0, 40.0, 25.0, 25.49, 150.0, 5.9, 19.44, 7.55, 3.23, 16.23, 14.99, 5.99, 47.39, 16.34, 64.77, 18.34, 2.16, 4.0, 3.12, 20.0, 16.8, 10.79, 7.99, 15.74, 12.83, 10.35, 800.0, 190.0, 50.0, 7.44, 104.36, 5.0, 15.99, 10.37, 8.4, 6.47, 14.03, 23.73, 31.87, 15.0, 20.0, 2.5, 8.19, 7.1, 88.14, 19.99, 59.99, 86.5, 45.0, 50.0, 63.0, 46.0, 35.0, 25.0, 18.87, 20.0, 200.0, 50.0, 16.19, 9.72, 10.7, 4.0, 8.64, 8.64, 5.99, 43.18, 18.35, 296.39, 10.77, 79.95, 60.0, 34.0, 6.0, 6.0, 2.95, 3.24, 20.0, 1.0, 3.8, 5.39, 5.0, 25.8, 5.84, 6.56, 3.89, 10.77, 1.0, 14.03, 46.62, 4.0, 0.75, 3.68, 9.72, 17.28, 8.64, 54.31, 5.4, 46.0, 47.35, 8.64, 100.0, 86.5, 45.0, 62.0, 11.84, 2.52, 11.81, 15.99, 19.98, 65.0, 1.0, 50.0, 45.0, 35.0, 15.0, 100.0, 5.95, 34.0, 12.96, 15.0, 6.48, 4.32, 2.64, 77.77, 57.19, 3.85, 3.0, 2.0, 4.08, 56.0, 7.75, 81.0, 78.5, 72.0, 15.01, 1.69, 46.0, 29.5, 12.0, 2.9, 2.9, 3.0, 2.47, 22.0, 2.0, 4.04, 1.94, 4.79, 1.08, 2.9, 2.95, 1.85, 2.78, 2.85, 1.9, 23.73, 2.17, 2.95, 3.48, 18.6, 9.69, 13.53, 2.85, 2.0, 2.0, 250.0, 5.9, 5.0, 4.95, 4.8, 3.0, 2.95, 2.9, 2.0, 2.0, 2.0, 11.6, 4.0, 4.0, 3.0, 2.0, 3.0, 3.0, 2.0, 56.48, 56.0, 21.05, 1.0, 20.0, 55.74, 78.5, 25.0, 46.0, 26.85, 9.8, 20.23, 72.0, 79.98, 3.0, 19.98, 22.61, 10.37, 19.02, 20.0, 5.48, 200.0, 30.07, 100.0, 200.0, 20.0, 56.0, 31.65, 1.0, 19.98, 55.74, 78.5, 16.0, 21.7, 4.0, 12.0, 72.0, 46.0, 6.47, 2.0, 1.95, 3.22, 8.85, 5.42, 6.0, 16.0, 12.41, 22.35, 150.0, 20.0, 20.0, 56.0, 19.98, 62.41, 72.0, 29.13, 29.38, 78.5, 13.95, 13.54, 11.98, 156.94, 46.0, 6.9, 5.85, 5.0, 3.95, 3.0, 16.0, 23.44, 2.0, 1.95, 15.63, 10.0, 4.2, 4.0, 4.0, 5.0, 2.0, 2.0, 26.44, 22.35, 8.01, 4.69, 5.4, 150.0, 10.0, 2.44, 29.25, 25.0, 25.0, 35.44, 2.95, 2.0, 1.95, 18.73, 56.0, 19.98, 19.2, 78.5, 3.96, 20.0, 14.89, 20.0, 3.0, 62.95, 2.5, 57.41, 72.0, 46.0, 20.43, 48.17, 14.47, 8.63, 28.35, 5.0, 10.0, 15.35, 9.93, 3.97, 7.01, 11.36, 16.02, 14.59, 13.0, 25.0, 10.0, 20.35, 12.51, 11.87, 300.0, 35.0, 19.98, 78.8, 43.0, 35.0, 25.0, 45.52, 5.72, 4.3, 14.11, 38.07, 8.35, 54.53, 41.76, 22.5, 15.99, 72.0, 46.0, 18.44, 24.62, 5.15, 14.47, 33.0, 57.69, 9.61, 1.65, 5.0, 2.62, 63.0, 100.0, 19.98, 75.42, 25.0, 25.0, 1.99, 26.22, 43.5, 10.0, 15.99, 19.62, 14.75, 185.0, 35.0, 72.0, 10.0, 46.0, 78.31, 30.72, 14.47, 13.95, 17.53, 13.5, 142.61, 6.0, 200.0, 16.19, 5.35, 1.0, 5.34, 16.5, 60.02, 1.9, 15.99, 19.98, 23.52, 4.0, 5.4, 7.75, 40.81, 7.86, 75.41, 82.5, 53.0, 72.0, 39.92, 11.54, 25.0, 14.56, 42.25, 35.0, 5.36, 4.96, 4.95, 3.49, 16.82, 14.32, 4.08, 2.02, 1.79, 7.56, 1.25, 14.0, 27.64, 3.08, 2.15, 30.88, 7.56, 11.6, 65.48, 19.48, 15.08, 15.99, 19.98, 75.41, 11.82, 82.5, 43.0, 42.0, 57.0, 14.0, 14.0, 31.71, 4.28, 2.08, 17.25, 72.0, 117.0, 25.0, 15.86, 6.0, 11.38, 25.0, 2.16, 35.0, 22.99, 13.1, 7.56, 10.35, 19.98, 20.39, 5.24, 9.71, 2.0, 30.0, 40.38, 34.39, 7.57, 15.25, 5.0, 15.99, 25.04, 19.98, 30.99, 76.73, 12.0, 24.1, 78.9, 5.26, 82.5, 43.0, 50.0, 72.0, 46.0, 25.0, 64.51, 21.58, 21.31, 15.0, 9.96, 9.5, 15.25, 7.56, 10.0, 7.8, 10.0, 18.18, 1.99, 1.99, 4.99, 3.5, 40.25, 10.0, 20.0, 20.0, 5.4, 20.0, 19.98, 4.51, 75.83, 82.5, 43.0, 50.0, 5.39, 46.0, 16.2, 23.0, 15.99, 72.0, 50.0, 50.0, 4.58, 22.0, 4.99, 50.0, 9.99, 9.99, 4.99, 19.44, 27.48, 0.46, 54.1, 23.4, 13.69, 3.79, 0.42, 19.89, 21.58, 6.9, 6.9, 5.0, 6.18, 0.99, 12.04, 8.1, 25.0, 6.98, 180.0, 17.0, 30.19, 25.0, 40.0, 40.0, 10.0, 56.0, 19.98, 52.16, 115.31, 10.16, 57.4, 78.5, 72.0, 144.54, 13.38, 46.0, 48.18, 14.47, 1.0, 23.49, 14.03, 20.02, 150.0, 1.95, 10.8, 14.68, 56.0, 19.98, 57.4, 105.46, 25.0, 72.0, 120.0, 2.47, 46.0, 23.0, 10.1, 10.05, 19.96, 7.68, 6.47, 112.45, 49.58, 14.47, 0.99, 2.0, 15.0, 40.36, 15.08, 45.0, 6.85, 15.57, 33.71, 18.89, 170.0, 10.0, 56.0, 23.74, 57.4, 28.0, 78.5, 25.0, 62.59, 46.0, 20.0, 9.69, 11.99, 12.6, 10.0, 4.9, 62.0, 2.5, 19.98, 9.18, 72.0, 14.47, 15.98, 18.57, 48.15, 2.99, 7.35, 10.35, 0.9, 9.5, 18.77, 202.25, 2.5, 10.0, 23.35, 44.41, 4.0, 61.93, 165.0, 19.98, 4.41, 57.4, 31.95, 4.87, 72.0, 20.0, 42.33, 30.58, 25.0, 82.5, 46.0, 14.47, 5.0, 13.08, 11.34, 28.22, 20.3, 11.58, 22.35, 38.0, 1.95, 11.03, 15.64, 12.52, 4.53, 23.9, 2.95, 2.85, 14.0, 17.35, 5.01, 107.4, 150.0, 1.98, 20.0, 12.8, 19.98, 57.4, 33.21, 15.0, 5.0, 82.5, 25.0, 72.0, 18.39, 46.0, 20.0, 93.07, 52.46, 23.97, 20.0, 40.0, 3.0, 3.0, 2.0, 2.0, 2.0, 14.47, 2.7, 120.0, 25.35, 22.71, 10.35, 16.75, 14.36, 5.99, 1.61, 9.11, 11.77, 14.38, 1.3, 2.79, 51.82, 21.63, 11.0, 160.0, 30.0, 25.72, 4.0, 8.76, 57.4, 5.94, 197.15, 25.0, 270.0, 19.98, 29.04, 72.0, 2.16, 25.0, 53.98, 14.47, 2.0, 46.0, 4.44, 5.39, 11.46, 10.0, 7.0, 10.0, 10.36, 100.0, 22.42, 37.46, 27.35, 2.95, 21.0, 18.5, 8.49, 60.0, 4.99, 34.43, 166.05, 30.0, 100.0, 53.0, 13.86, 34.5, 19.98, 175.0, 5.31, 160.0, 21.85, 25.46, 19.98, 100.0, 71.72, 6.47, 150.0, 15.99, 89.68, 72.0, 25.0, 2.0, 27.0, 15.25, 26.62, 46.0, 14.47, 5.85, 2.0, 9.28, 20.72, 50.21, 20.0, 8.89, 30.0, 1.0, 10.0, 160.0, 40.0, 10.0, 60.0, 15.99, 19.98, 11.6, 78.8, 82.5, 72.0, 25.0, 240.0, 16.0, 18.14, 56.0, 12.5, 12.85, 46.0, 11.37, 10.0, 9.63, 35.38, 14.47, 10.26, 20.35, 18.47, 0.99, 20.0, 3.25, 23.4, 20.39, 1.08, 2.99, 0.99, 2.04, 20.0, 39.38, 46.66, 2.99, 2.99, 10.0, 31.98, 39.0, 72.59, 30.0, 30.0, 11.04, 20.0, 30.87, 1.0, 22.33, 8.85, 11.79, 17.53, 150.0, 30.0, 167.0, 26.79, 21.63, 10.0, 10.01, 15.99, 19.98, 30.59, 50.0, 23.0, 100.0, 59.99, 45.0, 83.0, 72.0, 40.0, 25.0, 3.78, 31.29, 46.0, 7.37, 9.99, 19.42, 5.3, 3.25, 7.0, 7.0, 55.0, 20.0, 27.64, 13.89, 10.0, 20.0, 18.2, 37.0, 29.0, 2.15, 7.79, 6.48, 15.28, 25.0, 14.0, 4.78, 37.32, 6.38, 26.0, 1.52, 15.65, 8.75, 20.0, 6.4, 83.58, 76.48, 24.0, 19.3, 9.59, 9.72, 20.0, 175.0, 10.0, 6.36, 15.99, 19.98, 12.94, 3.07, 59.99, 30.71, 50.0, 62.0, 60.0, 34.0, 46.0, 35.0, 25.0, 22.56, 193.0, 10.08, 45.0, 4.17, 10.8, 12.96, 22.64, 20.0, 15.12, 7.56, 4.26, 7.56, 5.48, 10.8, 7.56, 7.64, 8.64, 5.64, 3.3, 11.25, 5.0, 20.74, 22.0, 6.48, 7.56, 6.56, 13.6, 3.24, 3.24, 5.48, 91.24, 4.47, 8.59, 4.28, 1.66, 3.89, 15.99, 19.98, 13.97, 57.95, 50.0, 24.8, 8.64, 7.06, 155.0, 59.99, 86.5, 45.0, 67.0, 17.25, 1.62, 35.0, 25.0, 10.38, 4.9, 5.56, 6.48, 20.0, 46.0, 23.0, 8.81, 3.82, 5.56, 5.0, 15.27, 12.96, 67.31, 0.32, 6.48, 100.0, 20.32, 150.0, 7.72, 195.32]}],\n",
       "                        {\"legend\": {\"tracegroupgap\": 0}, \"template\": {\"data\": {\"bar\": [{\"error_x\": {\"color\": \"#2a3f5f\"}, \"error_y\": {\"color\": \"#2a3f5f\"}, \"marker\": {\"line\": {\"color\": \"#E5ECF6\", \"width\": 0.5}}, \"type\": \"bar\"}], \"barpolar\": [{\"marker\": {\"line\": {\"color\": \"#E5ECF6\", \"width\": 0.5}}, \"type\": \"barpolar\"}], \"carpet\": [{\"aaxis\": {\"endlinecolor\": \"#2a3f5f\", \"gridcolor\": \"white\", \"linecolor\": \"white\", \"minorgridcolor\": \"white\", \"startlinecolor\": \"#2a3f5f\"}, \"baxis\": {\"endlinecolor\": \"#2a3f5f\", \"gridcolor\": \"white\", \"linecolor\": \"white\", \"minorgridcolor\": \"white\", \"startlinecolor\": \"#2a3f5f\"}, \"type\": \"carpet\"}], \"choropleth\": [{\"colorbar\": {\"outlinewidth\": 0, \"ticks\": \"\"}, \"type\": \"choropleth\"}], \"contour\": [{\"colorbar\": {\"outlinewidth\": 0, \"ticks\": \"\"}, \"colorscale\": [[0.0, \"#0d0887\"], [0.1111111111111111, \"#46039f\"], [0.2222222222222222, \"#7201a8\"], [0.3333333333333333, \"#9c179e\"], [0.4444444444444444, \"#bd3786\"], [0.5555555555555556, \"#d8576b\"], [0.6666666666666666, \"#ed7953\"], [0.7777777777777778, \"#fb9f3a\"], [0.8888888888888888, \"#fdca26\"], [1.0, \"#f0f921\"]], \"type\": \"contour\"}], \"contourcarpet\": [{\"colorbar\": {\"outlinewidth\": 0, \"ticks\": \"\"}, \"type\": \"contourcarpet\"}], \"heatmap\": [{\"colorbar\": {\"outlinewidth\": 0, \"ticks\": \"\"}, \"colorscale\": [[0.0, \"#0d0887\"], [0.1111111111111111, \"#46039f\"], [0.2222222222222222, \"#7201a8\"], [0.3333333333333333, \"#9c179e\"], [0.4444444444444444, \"#bd3786\"], [0.5555555555555556, \"#d8576b\"], [0.6666666666666666, \"#ed7953\"], [0.7777777777777778, \"#fb9f3a\"], [0.8888888888888888, \"#fdca26\"], [1.0, \"#f0f921\"]], \"type\": \"heatmap\"}], \"heatmapgl\": [{\"colorbar\": {\"outlinewidth\": 0, \"ticks\": \"\"}, \"colorscale\": [[0.0, \"#0d0887\"], [0.1111111111111111, \"#46039f\"], [0.2222222222222222, \"#7201a8\"], [0.3333333333333333, \"#9c179e\"], [0.4444444444444444, \"#bd3786\"], [0.5555555555555556, \"#d8576b\"], [0.6666666666666666, \"#ed7953\"], [0.7777777777777778, \"#fb9f3a\"], [0.8888888888888888, \"#fdca26\"], [1.0, \"#f0f921\"]], \"type\": \"heatmapgl\"}], \"histogram\": [{\"marker\": {\"colorbar\": {\"outlinewidth\": 0, \"ticks\": \"\"}}, \"type\": \"histogram\"}], \"histogram2d\": [{\"colorbar\": {\"outlinewidth\": 0, \"ticks\": \"\"}, \"colorscale\": [[0.0, \"#0d0887\"], [0.1111111111111111, \"#46039f\"], [0.2222222222222222, \"#7201a8\"], [0.3333333333333333, \"#9c179e\"], [0.4444444444444444, \"#bd3786\"], [0.5555555555555556, \"#d8576b\"], [0.6666666666666666, \"#ed7953\"], [0.7777777777777778, \"#fb9f3a\"], [0.8888888888888888, \"#fdca26\"], [1.0, \"#f0f921\"]], \"type\": \"histogram2d\"}], \"histogram2dcontour\": [{\"colorbar\": {\"outlinewidth\": 0, \"ticks\": \"\"}, \"colorscale\": [[0.0, \"#0d0887\"], [0.1111111111111111, \"#46039f\"], [0.2222222222222222, \"#7201a8\"], [0.3333333333333333, \"#9c179e\"], [0.4444444444444444, \"#bd3786\"], [0.5555555555555556, \"#d8576b\"], [0.6666666666666666, \"#ed7953\"], [0.7777777777777778, \"#fb9f3a\"], [0.8888888888888888, \"#fdca26\"], [1.0, \"#f0f921\"]], \"type\": \"histogram2dcontour\"}], \"mesh3d\": [{\"colorbar\": {\"outlinewidth\": 0, \"ticks\": \"\"}, \"type\": \"mesh3d\"}], \"parcoords\": [{\"line\": {\"colorbar\": {\"outlinewidth\": 0, \"ticks\": \"\"}}, \"type\": \"parcoords\"}], \"pie\": [{\"automargin\": true, \"type\": \"pie\"}], \"scatter\": [{\"marker\": {\"colorbar\": {\"outlinewidth\": 0, \"ticks\": \"\"}}, \"type\": \"scatter\"}], \"scatter3d\": [{\"line\": {\"colorbar\": {\"outlinewidth\": 0, \"ticks\": \"\"}}, \"marker\": {\"colorbar\": {\"outlinewidth\": 0, \"ticks\": \"\"}}, \"type\": \"scatter3d\"}], \"scattercarpet\": [{\"marker\": {\"colorbar\": {\"outlinewidth\": 0, \"ticks\": \"\"}}, \"type\": \"scattercarpet\"}], \"scattergeo\": [{\"marker\": {\"colorbar\": {\"outlinewidth\": 0, \"ticks\": \"\"}}, \"type\": \"scattergeo\"}], \"scattergl\": [{\"marker\": {\"colorbar\": {\"outlinewidth\": 0, \"ticks\": \"\"}}, \"type\": \"scattergl\"}], \"scattermapbox\": [{\"marker\": {\"colorbar\": {\"outlinewidth\": 0, \"ticks\": \"\"}}, \"type\": \"scattermapbox\"}], \"scatterpolar\": [{\"marker\": {\"colorbar\": {\"outlinewidth\": 0, \"ticks\": \"\"}}, \"type\": \"scatterpolar\"}], \"scatterpolargl\": [{\"marker\": {\"colorbar\": {\"outlinewidth\": 0, \"ticks\": \"\"}}, \"type\": \"scatterpolargl\"}], \"scatterternary\": [{\"marker\": {\"colorbar\": {\"outlinewidth\": 0, \"ticks\": \"\"}}, \"type\": \"scatterternary\"}], \"surface\": [{\"colorbar\": {\"outlinewidth\": 0, \"ticks\": \"\"}, \"colorscale\": [[0.0, \"#0d0887\"], [0.1111111111111111, \"#46039f\"], [0.2222222222222222, \"#7201a8\"], [0.3333333333333333, \"#9c179e\"], [0.4444444444444444, \"#bd3786\"], [0.5555555555555556, \"#d8576b\"], [0.6666666666666666, \"#ed7953\"], [0.7777777777777778, \"#fb9f3a\"], [0.8888888888888888, \"#fdca26\"], [1.0, \"#f0f921\"]], \"type\": \"surface\"}], \"table\": [{\"cells\": {\"fill\": {\"color\": \"#EBF0F8\"}, \"line\": {\"color\": \"white\"}}, \"header\": {\"fill\": {\"color\": \"#C8D4E3\"}, \"line\": {\"color\": \"white\"}}, \"type\": \"table\"}]}, \"layout\": {\"annotationdefaults\": {\"arrowcolor\": \"#2a3f5f\", \"arrowhead\": 0, \"arrowwidth\": 1}, \"coloraxis\": {\"colorbar\": {\"outlinewidth\": 0, \"ticks\": \"\"}}, \"colorscale\": {\"diverging\": [[0, \"#8e0152\"], [0.1, \"#c51b7d\"], [0.2, \"#de77ae\"], [0.3, \"#f1b6da\"], [0.4, \"#fde0ef\"], [0.5, \"#f7f7f7\"], [0.6, \"#e6f5d0\"], [0.7, \"#b8e186\"], [0.8, \"#7fbc41\"], [0.9, \"#4d9221\"], [1, \"#276419\"]], \"sequential\": [[0.0, \"#0d0887\"], [0.1111111111111111, \"#46039f\"], [0.2222222222222222, \"#7201a8\"], [0.3333333333333333, \"#9c179e\"], [0.4444444444444444, \"#bd3786\"], [0.5555555555555556, \"#d8576b\"], [0.6666666666666666, \"#ed7953\"], [0.7777777777777778, \"#fb9f3a\"], [0.8888888888888888, \"#fdca26\"], [1.0, \"#f0f921\"]], \"sequentialminus\": [[0.0, \"#0d0887\"], [0.1111111111111111, \"#46039f\"], [0.2222222222222222, \"#7201a8\"], [0.3333333333333333, \"#9c179e\"], [0.4444444444444444, \"#bd3786\"], [0.5555555555555556, \"#d8576b\"], [0.6666666666666666, \"#ed7953\"], [0.7777777777777778, \"#fb9f3a\"], [0.8888888888888888, \"#fdca26\"], [1.0, \"#f0f921\"]]}, \"colorway\": [\"#636efa\", \"#EF553B\", \"#00cc96\", \"#ab63fa\", \"#FFA15A\", \"#19d3f3\", \"#FF6692\", \"#B6E880\", \"#FF97FF\", \"#FECB52\"], \"font\": {\"color\": \"#2a3f5f\"}, \"geo\": {\"bgcolor\": \"white\", \"lakecolor\": \"white\", \"landcolor\": \"#E5ECF6\", \"showlakes\": true, \"showland\": true, \"subunitcolor\": \"white\"}, \"hoverlabel\": {\"align\": \"left\"}, \"hovermode\": \"closest\", \"mapbox\": {\"style\": \"light\"}, \"paper_bgcolor\": \"white\", \"plot_bgcolor\": \"#E5ECF6\", \"polar\": {\"angularaxis\": {\"gridcolor\": \"white\", \"linecolor\": \"white\", \"ticks\": \"\"}, \"bgcolor\": \"#E5ECF6\", \"radialaxis\": {\"gridcolor\": \"white\", \"linecolor\": \"white\", \"ticks\": \"\"}}, \"scene\": {\"xaxis\": {\"backgroundcolor\": \"#E5ECF6\", \"gridcolor\": \"white\", \"gridwidth\": 2, \"linecolor\": \"white\", \"showbackground\": true, \"ticks\": \"\", \"zerolinecolor\": \"white\"}, \"yaxis\": {\"backgroundcolor\": \"#E5ECF6\", \"gridcolor\": \"white\", \"gridwidth\": 2, \"linecolor\": \"white\", \"showbackground\": true, \"ticks\": \"\", \"zerolinecolor\": \"white\"}, \"zaxis\": {\"backgroundcolor\": \"#E5ECF6\", \"gridcolor\": \"white\", \"gridwidth\": 2, \"linecolor\": \"white\", \"showbackground\": true, \"ticks\": \"\", \"zerolinecolor\": \"white\"}}, \"shapedefaults\": {\"line\": {\"color\": \"#2a3f5f\"}}, \"ternary\": {\"aaxis\": {\"gridcolor\": \"white\", \"linecolor\": \"white\", \"ticks\": \"\"}, \"baxis\": {\"gridcolor\": \"white\", \"linecolor\": \"white\", \"ticks\": \"\"}, \"bgcolor\": \"#E5ECF6\", \"caxis\": {\"gridcolor\": \"white\", \"linecolor\": \"white\", \"ticks\": \"\"}}, \"title\": {\"x\": 0.05}, \"xaxis\": {\"automargin\": true, \"gridcolor\": \"white\", \"linecolor\": \"white\", \"ticks\": \"\", \"title\": {\"standoff\": 15}, \"zerolinecolor\": \"white\", \"zerolinewidth\": 2}, \"yaxis\": {\"automargin\": true, \"gridcolor\": \"white\", \"linecolor\": \"white\", \"ticks\": \"\", \"title\": {\"standoff\": 15}, \"zerolinecolor\": \"white\", \"zerolinewidth\": 2}}}, \"title\": {\"text\": \"Kevin's Spending Habits\"}},\n",
       "                        {\"responsive\": true}\n",
       "                    ).then(function(){\n",
       "                            \n",
       "var gd = document.getElementById('8368edfc-5b0b-4900-a411-98aaf6380bb0');\n",
       "var x = new MutationObserver(function (mutations, observer) {{\n",
       "        var display = window.getComputedStyle(gd).display;\n",
       "        if (!display || display === 'none') {{\n",
       "            console.log([gd, 'removed!']);\n",
       "            Plotly.purge(gd);\n",
       "            observer.disconnect();\n",
       "        }}\n",
       "}});\n",
       "\n",
       "// Listen for the removal of the full notebook cells\n",
       "var notebookContainer = gd.closest('#notebook-container');\n",
       "if (notebookContainer) {{\n",
       "    x.observe(notebookContainer, {childList: true});\n",
       "}}\n",
       "\n",
       "// Listen for the clearing of the current output cell\n",
       "var outputEl = gd.closest('.output');\n",
       "if (outputEl) {{\n",
       "    x.observe(outputEl, {childList: true});\n",
       "}}\n",
       "\n",
       "                        })\n",
       "                };\n",
       "                \n",
       "            </script>\n",
       "        </div>\n",
       "</body>\n",
       "</html>"
      ]
     },
     "metadata": {
      "tags": []
     },
     "output_type": "display_data"
    }
   ],
   "source": [
    "input_user = 'mEQmv8ybP1t3o3bYnKzwFqP5jad1KKUM8N06o'\n",
    "grapher(input_user, transaction_type_user, 'category_name')"
   ]
  },
  {
   "cell_type": "code",
   "execution_count": null,
   "metadata": {
    "colab": {
     "base_uri": "https://localhost:8080/",
     "height": 459
    },
    "colab_type": "code",
    "id": "eeEvs3SMwqZv",
    "outputId": "767af8e9-4309-45e7-da5e-93ac38754df5"
   },
   "outputs": [
    {
     "name": "stderr",
     "output_type": "stream",
     "text": [
      "/usr/local/lib/python3.6/dist-packages/ipykernel_launcher.py:6: SettingWithCopyWarning:\n",
      "\n",
      "\n",
      "A value is trying to be set on a copy of a slice from a DataFrame.\n",
      "Try using .loc[row_indexer,col_indexer] = value instead\n",
      "\n",
      "See the caveats in the documentation: https://pandas.pydata.org/pandas-docs/stable/user_guide/indexing.html#returning-a-view-versus-a-copy\n",
      "\n"
     ]
    },
    {
     "ename": "ValueError",
     "evalue": "ignored",
     "output_type": "error",
     "traceback": [
      "\u001b[0;31m---------------------------------------------------------------------------\u001b[0m",
      "\u001b[0;31mValueError\u001b[0m                                Traceback (most recent call last)",
      "\u001b[0;32m<ipython-input-130-dd297da1487b>\u001b[0m in \u001b[0;36m<module>\u001b[0;34m()\u001b[0m\n\u001b[1;32m      1\u001b[0m \u001b[0minput_user\u001b[0m \u001b[0;34m=\u001b[0m \u001b[0;34m'mEQmv8ybP1t3o3bYnKzwFqP5jad1KKUM8N06o'\u001b[0m\u001b[0;34m\u001b[0m\u001b[0;34m\u001b[0m\u001b[0m\n\u001b[0;32m----> 2\u001b[0;31m \u001b[0mgrapher\u001b[0m\u001b[0;34m(\u001b[0m\u001b[0minput_user\u001b[0m\u001b[0;34m,\u001b[0m \u001b[0mtransaction_type_user\u001b[0m\u001b[0;34m,\u001b[0m \u001b[0;34m'grandparent_category_name'\u001b[0m\u001b[0;34m,\u001b[0m \u001b[0mgraph_type\u001b[0m\u001b[0;34m=\u001b[0m\u001b[0;34m'bar'\u001b[0m\u001b[0;34m)\u001b[0m\u001b[0;34m\u001b[0m\u001b[0;34m\u001b[0m\u001b[0m\n\u001b[0m",
      "\u001b[0;32m<ipython-input-129-1024520ab2f0>\u001b[0m in \u001b[0;36mgrapher\u001b[0;34m(user, df, category, threshold, user_name, graph_type)\u001b[0m\n\u001b[1;32m     22\u001b[0m \u001b[0;34m\u001b[0m\u001b[0m\n\u001b[1;32m     23\u001b[0m     \u001b[0;32melif\u001b[0m \u001b[0mgraph_type\u001b[0m \u001b[0;34m==\u001b[0m \u001b[0;34m'bar'\u001b[0m\u001b[0;34m:\u001b[0m\u001b[0;34m\u001b[0m\u001b[0;34m\u001b[0m\u001b[0m\n\u001b[0;32m---> 24\u001b[0;31m       \u001b[0mfig\u001b[0m \u001b[0;34m=\u001b[0m \u001b[0mpx\u001b[0m\u001b[0;34m.\u001b[0m\u001b[0mbar\u001b[0m\u001b[0;34m(\u001b[0m\u001b[0mdf\u001b[0m\u001b[0;34m,\u001b[0m \u001b[0mx\u001b[0m \u001b[0;34m=\u001b[0m \u001b[0;34m'date'\u001b[0m\u001b[0;34m,\u001b[0m \u001b[0my\u001b[0m \u001b[0;34m=\u001b[0m \u001b[0;34m'amount_dollars'\u001b[0m\u001b[0;34m,\u001b[0m \u001b[0mcolor\u001b[0m\u001b[0;34m=\u001b[0m\u001b[0mcategory\u001b[0m\u001b[0;34m,\u001b[0m \u001b[0mtitle\u001b[0m \u001b[0;34m=\u001b[0m \u001b[0;34m\"Kevin's Spending Habits\"\u001b[0m\u001b[0;34m,\u001b[0m \u001b[0mwidth\u001b[0m\u001b[0;34m=\u001b[0m\u001b[0;36m1000\u001b[0m\u001b[0;34m)\u001b[0m\u001b[0;34m\u001b[0m\u001b[0;34m\u001b[0m\u001b[0m\n\u001b[0m\u001b[1;32m     25\u001b[0m       \u001b[0mfig\u001b[0m\u001b[0;34m.\u001b[0m\u001b[0mshow\u001b[0m\u001b[0;34m(\u001b[0m\u001b[0;34m)\u001b[0m\u001b[0;34m\u001b[0m\u001b[0;34m\u001b[0m\u001b[0m\n\u001b[1;32m     26\u001b[0m       \u001b[0;32mreturn\u001b[0m\u001b[0;34m\u001b[0m\u001b[0;34m\u001b[0m\u001b[0m\n",
      "\u001b[0;32m/usr/local/lib/python3.6/dist-packages/plotly/express/_chart_types.py\u001b[0m in \u001b[0;36mbar\u001b[0;34m(data_frame, x, y, color, facet_row, facet_col, facet_col_wrap, hover_name, hover_data, custom_data, text, error_x, error_x_minus, error_y, error_y_minus, animation_frame, animation_group, category_orders, labels, color_discrete_sequence, color_discrete_map, color_continuous_scale, range_color, color_continuous_midpoint, opacity, orientation, barmode, log_x, log_y, range_x, range_y, title, template, width, height)\u001b[0m\n\u001b[1;32m    311\u001b[0m         \u001b[0mconstructor\u001b[0m\u001b[0;34m=\u001b[0m\u001b[0mgo\u001b[0m\u001b[0;34m.\u001b[0m\u001b[0mBar\u001b[0m\u001b[0;34m,\u001b[0m\u001b[0;34m\u001b[0m\u001b[0;34m\u001b[0m\u001b[0m\n\u001b[1;32m    312\u001b[0m         \u001b[0mtrace_patch\u001b[0m\u001b[0;34m=\u001b[0m\u001b[0mdict\u001b[0m\u001b[0;34m(\u001b[0m\u001b[0morientation\u001b[0m\u001b[0;34m=\u001b[0m\u001b[0morientation\u001b[0m\u001b[0;34m,\u001b[0m \u001b[0mtextposition\u001b[0m\u001b[0;34m=\u001b[0m\u001b[0;34m\"auto\"\u001b[0m\u001b[0;34m)\u001b[0m\u001b[0;34m,\u001b[0m\u001b[0;34m\u001b[0m\u001b[0;34m\u001b[0m\u001b[0m\n\u001b[0;32m--> 313\u001b[0;31m         \u001b[0mlayout_patch\u001b[0m\u001b[0;34m=\u001b[0m\u001b[0mdict\u001b[0m\u001b[0;34m(\u001b[0m\u001b[0mbarmode\u001b[0m\u001b[0;34m=\u001b[0m\u001b[0mbarmode\u001b[0m\u001b[0;34m)\u001b[0m\u001b[0;34m,\u001b[0m\u001b[0;34m\u001b[0m\u001b[0;34m\u001b[0m\u001b[0m\n\u001b[0m\u001b[1;32m    314\u001b[0m     )\n\u001b[1;32m    315\u001b[0m \u001b[0;34m\u001b[0m\u001b[0m\n",
      "\u001b[0;32m/usr/local/lib/python3.6/dist-packages/plotly/express/_core.py\u001b[0m in \u001b[0;36mmake_figure\u001b[0;34m(args, constructor, trace_patch, layout_patch)\u001b[0m\n\u001b[1;32m   1170\u001b[0m \u001b[0;34m\u001b[0m\u001b[0m\n\u001b[1;32m   1171\u001b[0m     args, trace_specs, grouped_mappings, sizeref, show_colorbar = infer_config(\n\u001b[0;32m-> 1172\u001b[0;31m         \u001b[0margs\u001b[0m\u001b[0;34m,\u001b[0m \u001b[0mconstructor\u001b[0m\u001b[0;34m,\u001b[0m \u001b[0mtrace_patch\u001b[0m\u001b[0;34m\u001b[0m\u001b[0;34m\u001b[0m\u001b[0m\n\u001b[0m\u001b[1;32m   1173\u001b[0m     )\n\u001b[1;32m   1174\u001b[0m     \u001b[0mgrouper\u001b[0m \u001b[0;34m=\u001b[0m \u001b[0;34m[\u001b[0m\u001b[0mx\u001b[0m\u001b[0;34m.\u001b[0m\u001b[0mgrouper\u001b[0m \u001b[0;32mor\u001b[0m \u001b[0mone_group\u001b[0m \u001b[0;32mfor\u001b[0m \u001b[0mx\u001b[0m \u001b[0;32min\u001b[0m \u001b[0mgrouped_mappings\u001b[0m\u001b[0;34m]\u001b[0m \u001b[0;32mor\u001b[0m \u001b[0;34m[\u001b[0m\u001b[0mone_group\u001b[0m\u001b[0;34m]\u001b[0m\u001b[0;34m\u001b[0m\u001b[0;34m\u001b[0m\u001b[0m\n",
      "\u001b[0;32m/usr/local/lib/python3.6/dist-packages/plotly/express/_core.py\u001b[0m in \u001b[0;36minfer_config\u001b[0;34m(args, constructor, trace_patch)\u001b[0m\n\u001b[1;32m   1026\u001b[0m             \u001b[0mall_attrables\u001b[0m \u001b[0;34m+=\u001b[0m \u001b[0;34m[\u001b[0m\u001b[0mgroup_attr\u001b[0m\u001b[0;34m]\u001b[0m\u001b[0;34m\u001b[0m\u001b[0;34m\u001b[0m\u001b[0m\n\u001b[1;32m   1027\u001b[0m \u001b[0;34m\u001b[0m\u001b[0m\n\u001b[0;32m-> 1028\u001b[0;31m     \u001b[0margs\u001b[0m \u001b[0;34m=\u001b[0m \u001b[0mbuild_dataframe\u001b[0m\u001b[0;34m(\u001b[0m\u001b[0margs\u001b[0m\u001b[0;34m,\u001b[0m \u001b[0mall_attrables\u001b[0m\u001b[0;34m,\u001b[0m \u001b[0marray_attrables\u001b[0m\u001b[0;34m)\u001b[0m\u001b[0;34m\u001b[0m\u001b[0;34m\u001b[0m\u001b[0m\n\u001b[0m\u001b[1;32m   1029\u001b[0m \u001b[0;34m\u001b[0m\u001b[0m\n\u001b[1;32m   1030\u001b[0m     \u001b[0mattrs\u001b[0m \u001b[0;34m=\u001b[0m \u001b[0;34m[\u001b[0m\u001b[0mk\u001b[0m \u001b[0;32mfor\u001b[0m \u001b[0mk\u001b[0m \u001b[0;32min\u001b[0m \u001b[0mattrables\u001b[0m \u001b[0;32mif\u001b[0m \u001b[0mk\u001b[0m \u001b[0;32min\u001b[0m \u001b[0margs\u001b[0m\u001b[0;34m]\u001b[0m\u001b[0;34m\u001b[0m\u001b[0;34m\u001b[0m\u001b[0m\n",
      "\u001b[0;32m/usr/local/lib/python3.6/dist-packages/plotly/express/_core.py\u001b[0m in \u001b[0;36mbuild_dataframe\u001b[0;34m(args, attrables, array_attrables)\u001b[0m\n\u001b[1;32m    944\u001b[0m                             \u001b[0;34m\"\\n To use the index, pass it in directly as `df.index`.\"\u001b[0m\u001b[0;34m\u001b[0m\u001b[0;34m\u001b[0m\u001b[0m\n\u001b[1;32m    945\u001b[0m                         )\n\u001b[0;32m--> 946\u001b[0;31m                     \u001b[0;32mraise\u001b[0m \u001b[0mValueError\u001b[0m\u001b[0;34m(\u001b[0m\u001b[0merr_msg\u001b[0m\u001b[0;34m)\u001b[0m\u001b[0;34m\u001b[0m\u001b[0;34m\u001b[0m\u001b[0m\n\u001b[0m\u001b[1;32m    947\u001b[0m                 \u001b[0;32mif\u001b[0m \u001b[0mlength\u001b[0m \u001b[0;32mand\u001b[0m \u001b[0mlen\u001b[0m\u001b[0;34m(\u001b[0m\u001b[0mdf_input\u001b[0m\u001b[0;34m[\u001b[0m\u001b[0margument\u001b[0m\u001b[0;34m]\u001b[0m\u001b[0;34m)\u001b[0m \u001b[0;34m!=\u001b[0m \u001b[0mlength\u001b[0m\u001b[0;34m:\u001b[0m\u001b[0;34m\u001b[0m\u001b[0;34m\u001b[0m\u001b[0m\n\u001b[1;32m    948\u001b[0m                     raise ValueError(\n",
      "\u001b[0;31mValueError\u001b[0m: Value of 'x' is not the name of a column in 'data_frame'. Expected one of ['plaid_account_id', 'category_name', 'parent_category_name', 'grandparent_category_name', 'amount_cents', 'amount_dollars'] but received: date"
     ]
    }
   ],
   "source": [
    "input_user = 'mEQmv8ybP1t3o3bYnKzwFqP5jad1KKUM8N06o'\n",
    "grapher(input_user, transaction_type_user, 'grandparent_category_name', graph_type='bar')"
   ]
  },
  {
   "cell_type": "code",
   "execution_count": null,
   "metadata": {
    "colab": {},
    "colab_type": "code",
    "id": "ZEMrXqbQ0FUa"
   },
   "outputs": [],
   "source": []
  }
 ],
 "metadata": {
  "colab": {
   "collapsed_sections": [],
   "name": "Explore Saverlife Database",
   "provenance": []
  },
  "kernelspec": {
   "display_name": "Python 3",
   "language": "python",
   "name": "python3"
  },
  "language_info": {
   "codemirror_mode": {
    "name": "ipython",
    "version": 3
   },
   "file_extension": ".py",
   "mimetype": "text/x-python",
   "name": "python",
   "nbconvert_exporter": "python",
   "pygments_lexer": "ipython3",
   "version": "3.7.3"
  }
 },
 "nbformat": 4,
 "nbformat_minor": 1
}
